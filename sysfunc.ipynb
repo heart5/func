{
 "cells": [
  {
   "cell_type": "markdown",
   "id": "c0f41f45",
   "metadata": {},
   "source": [
    "# 系统函数"
   ]
  },
  {
   "cell_type": "markdown",
   "id": "4bc98c77",
   "metadata": {},
   "source": [
    "## 引入库"
   ]
  },
  {
   "cell_type": "code",
   "execution_count": null,
   "id": "6a4b0212",
   "metadata": {},
   "outputs": [],
   "source": [
    "import datetime\n",
    "import inspect\n",
    "import logging\n",
    "import os\n",
    "import platform\n",
    "import re\n",
    "import signal\n",
    "import subprocess\n",
    "import sys\n",
    "import time\n",
    "import traceback\n",
    "import uuid\n",
    "from collections import deque\n",
    "from hashlib import sha256\n",
    "\n",
    "import matplotlib\n",
    "from IPython import get_ipython\n",
    "\n",
    "# import wmi_client_wrapper as wmi\n",
    "from matplotlib.font_manager import FontManager"
   ]
  },
  {
   "cell_type": "code",
   "execution_count": null,
   "id": "cf38a026",
   "metadata": {
    "lines_to_next_cell": 2
   },
   "outputs": [],
   "source": [
    "import pathmagic\n",
    "\n",
    "with pathmagic.context():\n",
    "    from func.logme import log"
   ]
  },
  {
   "cell_type": "markdown",
   "id": "c8f8ef2a",
   "metadata": {},
   "source": [
    "## 功能函数集"
   ]
  },
  {
   "cell_type": "markdown",
   "id": "6d7c0f0c",
   "metadata": {
    "lines_to_next_cell": 2
   },
   "source": [
    "### nooutput2false(output)"
   ]
  },
  {
   "cell_type": "code",
   "execution_count": null,
   "id": "400a7da6",
   "metadata": {
    "lines_to_next_cell": 2
   },
   "outputs": [],
   "source": [
    "def nooutput2false(output):\n",
    "    if (output is None) or (output == \"null\") or (len(output) == 0):\n",
    "        return False\n",
    "    else:\n",
    "        return output"
   ]
  },
  {
   "cell_type": "markdown",
   "id": "03ddcb40",
   "metadata": {
    "lines_to_next_cell": 2
   },
   "source": [
    "### extract_traceback4exception(tbtuple, func_name, sleeptime=None)"
   ]
  },
  {
   "cell_type": "code",
   "execution_count": null,
   "id": "4f7a75e8",
   "metadata": {
    "lines_to_next_cell": 2
   },
   "outputs": [],
   "source": [
    "def extract_traceback4exception(tbtuple, func_name, sleeptime=None):\n",
    "    \"\"\"\n",
    "    格式化指定异常的详细信息（tuple）并返回（字符串），默认只返回堆栈的首位各两个元素，除非显性指定显示全部\n",
    "    \"\"\"\n",
    "    # by pass the recyle import, nit recommendded\n",
    "    from func.configpr import getcfpoptionvalue\n",
    "\n",
    "    # 通sys函数获取eee的相关信息\n",
    "    eee_type, eee_value, tblst = tbtuple\n",
    "    if not (brief := getcfpoptionvalue(\"everinifromnote\", \"nettools\", \"brief\")):\n",
    "        brief = False\n",
    "    if not (shownums := getcfpoptionvalue(\"everinifromnote\", \"nettools\", \"shownums\")):\n",
    "        shownums = 3\n",
    "    if not (\n",
    "        alltraceback := getcfpoptionvalue(\"everinifromnote\", \"nettools\", \"tracebackall\")\n",
    "    ):\n",
    "        alltraceback = True\n",
    "    if alltraceback:\n",
    "        rsttb = tblst\n",
    "    else:\n",
    "        rsttb = [x for x in tblst[:shownums]]\n",
    "        rsttb.append(\"\\t...\\t\")\n",
    "        rsttb.extend([x for x in tblst[(-1 * shownums) :]])\n",
    "    if brief:\n",
    "        rsttb = [x.replace(\"/data/data/com.termux/files\", \"/d/d/c/f\") for x in rsttb]\n",
    "    nowstr = datetime.datetime.strftime(datetime.datetime.now(), \"%F %T\")\n",
    "    rststr = f\"&&&\\t{sleeptime}\\t&&& in [{func_name}] at {nowstr},\\t\"\n",
    "    rststr += f\"type is\\t[{eee_type}]\\t, value is \\t[{eee_value}],\\t\"\n",
    "    tbstr = \"\\t\".join(rsttb)\n",
    "    rststr += f\"traceback is \\t{tbstr}\"\n",
    "\n",
    "    return rststr"
   ]
  },
  {
   "cell_type": "markdown",
   "id": "edccb906",
   "metadata": {
    "lines_to_next_cell": 2
   },
   "source": [
    "### not_IPython()"
   ]
  },
  {
   "cell_type": "code",
   "execution_count": null,
   "id": "a587eb42",
   "metadata": {
    "lines_to_next_cell": 2
   },
   "outputs": [],
   "source": [
    "def not_IPython():\n",
    "    \"\"\"\n",
    "    判断是否在IPython环境下运行\n",
    "    \"\"\"\n",
    "    return get_ipython() is None"
   ]
  },
  {
   "cell_type": "markdown",
   "id": "a00e0317",
   "metadata": {
    "lines_to_next_cell": 2
   },
   "source": [
    "### convertframe2dict(frame)"
   ]
  },
  {
   "cell_type": "code",
   "execution_count": null,
   "id": "ccd4cd58",
   "metadata": {
    "lines_to_next_cell": 2
   },
   "outputs": [],
   "source": [
    "def convertframe2dic(frame):\n",
    "    framestr = str(frame)\n",
    "    filename = re.findall(\"filename=(.+)\\s\", framestr)[0].strip()\n",
    "    lineno = re.findall(\"lineno=(.+)\\s\", framestr)[0].strip()\n",
    "    code_context = [\n",
    "        line.strip()\n",
    "        for line in eval(re.findall(\"code_context=(.+)\\s\", framestr)[0].strip())\n",
    "    ]\n",
    "\n",
    "    return filename, lineno, code_context"
   ]
  },
  {
   "cell_type": "markdown",
   "id": "de2272a6",
   "metadata": {
    "lines_to_next_cell": 2
   },
   "source": [
    "### set_timeout(num, callback)"
   ]
  },
  {
   "cell_type": "code",
   "execution_count": null,
   "id": "9709bbc7",
   "metadata": {
    "lines_to_next_cell": 2
   },
   "outputs": [],
   "source": [
    "def set_timeout(num: int, callback) -> any:\n",
    "    \"\"\"设定运行时间的装饰器\"\"\"\n",
    "\n",
    "    def wrap(func):\n",
    "        # 收到信号 SIGALRM 后的回调函数，第一个参数是信号的数字，第二个参数是the interrupted stack frame.\n",
    "        def handle(signum, frame):\n",
    "            raise RuntimeError\n",
    "\n",
    "        def to_do(*args, **kwargs):\n",
    "            try:\n",
    "                if (sysstr := platform.system()) == \"Linux\":\n",
    "                    #                     print(sysstr)\n",
    "                    signal.signal(signal.SIGALRM, handle)  # 设置信号和回调函数\n",
    "                    signal.alarm(num)  # 设置 num 秒的闹钟\n",
    "                    log.info(f'函数{func.__name__}设置{num}秒的运行时间限制。')\n",
    "                    r = func(*args, **kwargs)\n",
    "                    signal.alarm(0)  # 关闭闹钟\n",
    "                    log.info(f\"函数{func.__name__}运行完毕。\")\n",
    "                    return r\n",
    "\n",
    "                else:\n",
    "                    r = func(*args, **kwargs)\n",
    "                    logstr = f\"{sysstr}\\t非linux系统，啥也没做。\"\n",
    "                    log.warning(logstr)\n",
    "                    return r\n",
    "\n",
    "            except RuntimeError as e123:\n",
    "                logstr = f\"{func}出现错误。\\t{e123}\"\n",
    "                log.warning(logstr)\n",
    "                callback()\n",
    "\n",
    "        return to_do\n",
    "\n",
    "    return wrap"
   ]
  },
  {
   "cell_type": "code",
   "execution_count": null,
   "id": "8cf2f11c",
   "metadata": {},
   "outputs": [],
   "source": []
  },
  {
   "cell_type": "markdown",
   "id": "c1c674ab",
   "metadata": {
    "lines_to_next_cell": 2
   },
   "source": [
    "### after_timeout()"
   ]
  },
  {
   "cell_type": "code",
   "execution_count": null,
   "id": "4644f323",
   "metadata": {
    "lines_to_next_cell": 2
   },
   "outputs": [],
   "source": [
    "def after_timeout() -> None:\n",
    "    \"\"\"超时后的处理函数\"\"\"\n",
    "    log.critical((\"运行超出预设时间，强制退出!\", traceback.extract_stack()))"
   ]
  },
  {
   "cell_type": "markdown",
   "id": "8cca0ce5",
   "metadata": {
    "lines_to_next_cell": 2
   },
   "source": [
    "### uuid3hexstr(iniputo: object)"
   ]
  },
  {
   "cell_type": "code",
   "execution_count": null,
   "id": "7456b85d",
   "metadata": {
    "lines_to_next_cell": 2
   },
   "outputs": [],
   "source": [
    "def uuid3hexstr(inputo: object):\n",
    "    inputstr = str(inputo)\n",
    "\n",
    "    return hex(hash(uuid.uuid3(uuid.NAMESPACE_URL, inputstr)))[2:].upper()"
   ]
  },
  {
   "cell_type": "markdown",
   "id": "f429c927",
   "metadata": {
    "lines_to_next_cell": 2
   },
   "source": [
    "### sha2hexstr(inputo: object)"
   ]
  },
  {
   "cell_type": "code",
   "execution_count": null,
   "id": "e5e20d7e",
   "metadata": {
    "lines_to_next_cell": 2
   },
   "outputs": [],
   "source": [
    "def sha2hexstr(inputo: object):\n",
    "    if type(inputo) == bytes:\n",
    "        targetb = inputo\n",
    "    else:\n",
    "        targetb = str(inputo).encode(\"utf-8\")\n",
    "    hhh = sha256(targetb)\n",
    "\n",
    "    return hhh.hexdigest().upper()"
   ]
  },
  {
   "cell_type": "markdown",
   "id": "99785c48",
   "metadata": {
    "lines_to_next_cell": 2
   },
   "source": [
    "### is_tool_valid(name)"
   ]
  },
  {
   "cell_type": "code",
   "execution_count": null,
   "id": "878e2f31",
   "metadata": {
    "lines_to_next_cell": 2
   },
   "outputs": [],
   "source": [
    "def is_tool_valid(name):\n",
    "    \"\"\"\n",
    "    检查传入的命令是否在系统路径中并且是可执行状态\n",
    "    \"\"\"\n",
    "\n",
    "    # from whichcraft import which\n",
    "    from shutil import which\n",
    "\n",
    "    return which(name) is not None"
   ]
  },
  {
   "cell_type": "markdown",
   "id": "37bbee3c",
   "metadata": {
    "lines_to_next_cell": 2
   },
   "source": [
    "### execcmd(cmd)"
   ]
  },
  {
   "cell_type": "code",
   "execution_count": null,
   "id": "9ebdac77",
   "metadata": {
    "lines_to_next_cell": 2
   },
   "outputs": [],
   "source": [
    "def execcmd(cmd: str) -> str:\n",
    "    \"\"\"执行命令行命令并输出运行结果\n",
    "\n",
    "    Args:\n",
    "        cmd (str): 命令行命令\n",
    "\n",
    "    Returns:\n",
    "        str: 命令行命令的运行结果\n",
    "    \"\"\"\n",
    "    try:\n",
    "        r = os.popen(cmd)\n",
    "        text = r.read()\n",
    "        r.close()\n",
    "        return text.strip(\"\\n\")\n",
    "    except Exception as e:\n",
    "        log.critical(f\"执行命令 {cmd} 时出现错误，返回空字符串。{e}\")\n",
    "        return \"\""
   ]
  },
  {
   "cell_type": "markdown",
   "id": "3c28d7e2",
   "metadata": {
    "lines_to_next_cell": 2
   },
   "source": [
    "### showfonts()"
   ]
  },
  {
   "cell_type": "code",
   "execution_count": null,
   "id": "1eb87fb3",
   "metadata": {
    "lines_to_next_cell": 2
   },
   "outputs": [],
   "source": [
    "def showfonts():\n",
    "    \"\"\"\n",
    "    查询当前系统所有中文字体\n",
    "    \"\"\"\n",
    "\n",
    "    fname = matplotlib.matplotlib_fname()\n",
    "    print(fname)\n",
    "    fclistzh = execcmd(\"fc-list :lang=zh family\")\n",
    "    print(fclistzh)\n",
    "\n",
    "    mpl_fonts = set(f.name for f in FontManager().ttflist)\n",
    "    print(\"all font list get from matplotlib.font_manager:\")\n",
    "    for f in sorted(mpl_fonts):\n",
    "        print(\"\\t\" + f)"
   ]
  },
  {
   "cell_type": "markdown",
   "id": "6ed92695",
   "metadata": {
    "lines_to_next_cell": 2
   },
   "source": [
    "### testdeque()"
   ]
  },
  {
   "cell_type": "code",
   "execution_count": null,
   "id": "c785770a",
   "metadata": {
    "lines_to_next_cell": 2
   },
   "outputs": [],
   "source": [
    "def testdeque():\n",
    "    myque = deque(maxlen=4)\n",
    "    msgcontainer = {}\n",
    "    numstr = [\"one\", \"two\", \"three\", \"four\", \"five\", \"six\", \"seven\"]\n",
    "    for i in range(len(numstr)):\n",
    "        msgcontainer[i] = {i + 1: numstr[i]}\n",
    "        myque.append(msgcontainer[i])\n",
    "    print(msgcontainer)\n",
    "    print(myque)\n",
    "\n",
    "    from func.nettools import get_host_ip\n",
    "\n",
    "    try:\n",
    "        testerror = 5 / 0\n",
    "        print(testerror)\n",
    "    except Exception:\n",
    "        extra_d = {\"hostip\": f\"{get_host_ip()}\", \"user\": f\"{execcmd('whoami')}\"}\n",
    "        print(extra_d)\n",
    "        # log.critical('测试stack_info参数 %s', \"with extra info\", stack_info=True)\n",
    "        log.critical(\"出错拉，这里->\", exc_info=True)\n",
    "\n",
    "    myque.append(msgcontainer[5])\n",
    "    print(myque)\n",
    "    print(list(myque))\n",
    "    mydict = {}\n",
    "    for item in myque:\n",
    "        mydict.update(item)\n",
    "    print(mydict)"
   ]
  },
  {
   "cell_type": "markdown",
   "id": "c0fa583d",
   "metadata": {
    "lines_to_next_cell": 2
   },
   "source": [
    "### listallloghandler()"
   ]
  },
  {
   "cell_type": "code",
   "execution_count": null,
   "id": "23d50abf",
   "metadata": {},
   "outputs": [],
   "source": [
    "def listallloghander():\n",
    "    console = logging.StreamHandler()\n",
    "    console.setLevel(logging.DEBUG)\n",
    "    # print(all_loggers.get('hjer'))\n",
    "\n",
    "    # 列出所有现有的日志记录器\n",
    "    all_loggers = logging.Logger.manager.loggerDict\n",
    "    all_loggers.get(\"hjer\").addHandler(console)\n",
    "    for k, v in all_loggers.items():\n",
    "        try:\n",
    "            if hasattr(v, \"handlers\"):\n",
    "                print(f\"{k}\\t{v}\\t{v.handlers}\")\n",
    "            else:\n",
    "                print(f\"{k}\\t{v}\")\n",
    "                continue\n",
    "        except AttributeError as e:\n",
    "            log.critical(e, exc_info=True)\n",
    "    # 打印所有现有的日志记录器\n",
    "    # for logger_name in all_loggers:\n",
    "    #     logger_inner = logging.getLogger(logger_name)\n",
    "    #     print(f\"{logger_inner}\\t{list(logger_inner.handlers)}\")"
   ]
  },
  {
   "cell_type": "markdown",
   "id": "ee5358a1",
   "metadata": {},
   "source": [
    "## main主函数"
   ]
  },
  {
   "cell_type": "code",
   "execution_count": null,
   "id": "1d521478",
   "metadata": {},
   "outputs": [],
   "source": [
    "if __name__ == \"__main__\":\n",
    "    if not_IPython():\n",
    "        log.info(f\"运行文件\\t{__file__}\")\n",
    "    # outgetstr = execcmd(\"uname -a\")\n",
    "    # listallloghander()\n",
    "    testdeque()\n",
    "    # print(execcmd(\"whoami\"))\n",
    "    # # showfonts()\n",
    "    # outgetstr = execcmd(\"echo $PATH\")\n",
    "    # print(outgetstr.strip(\"\\n\"))\n",
    "    # print(uuid3hexstr(outgetstr))\n",
    "    # print(sha2hexstr(outgetstr))\n",
    "    # log.critical(outgetstr)\n",
    "    # print(execcmd(\"joplin config api.port\"))\n",
    "    if not_IPython():\n",
    "        log.info(f\"文件\\t{__file__}\\t测试完毕。\")"
   ]
  }
 ],
 "metadata": {
  "jupytext": {
   "cell_metadata_filter": "-all",
   "encoding": "# encoding:utf-8",
   "formats": "ipynb,py:percent",
   "main_language": "python",
   "notebook_metadata_filter": "jupytext,-kernelspec,-jupytext.text_representation.jupytext_version"
  },
  "language_info": {
   "name": "python"
  }
 },
 "nbformat": 4,
 "nbformat_minor": 5
}
