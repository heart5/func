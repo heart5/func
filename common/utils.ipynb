{
 "cells": [
  {
   "cell_type": "code",
   "execution_count": null,
   "id": "fb9fa578",
   "metadata": {},
   "outputs": [],
   "source": [
    "import subprocess\n",
    "from typing import List, Optional, Tuple"
   ]
  },
  {
   "cell_type": "markdown",
   "id": "7992b186",
   "metadata": {},
   "source": [
    "### execute(cmd: List[str], encoding: str = \"UTF-8\", timeout: Optional[int] = None, shell: bool = False) -> Tuple[str, int, str]"
   ]
  },
  {
   "cell_type": "code",
   "execution_count": null,
   "id": "96b6ea41",
   "metadata": {
    "lines_to_next_cell": 2
   },
   "outputs": [],
   "source": [
    "def execute(cmd: List[str], encoding: str = \"UTF-8\", timeout: Optional[int] = None, shell: bool = False) -> Tuple[str, int, str]:\n",
    "    \"\"\"执行一个shell命令或二进制文件。\n",
    "\n",
    "    如果你在以特权用户身份运行此脚本，请谨慎对待要执行的内容。\n",
    "\n",
    "    参数:\n",
    "    cmd:      List[str] -- 分割的命令（例如：['ls', '-la', '~']）\n",
    "    encoding: str       -- 用于解码命令输出的编码格式（默认：'UTF-8'）\n",
    "    timeout:  Optional[int] -- 以秒为单位，设置命令执行超时时间。如果超过该时间，将抛出TimeoutExpired异常（默认：None）\n",
    "    shell:    bool      -- 如果为True，则通过shell执行命令（默认：False）\n",
    "\n",
    "    返回:\n",
    "    Tuple[str, int, str] -- 包含标准输出、返回码和标准错误的元组\n",
    "    \"\"\"\n",
    "    try:\n",
    "        proc = subprocess.Popen(cmd, stdin=subprocess.DEVNULL, stdout=subprocess.PIPE, stderr=subprocess.PIPE, shell=shell)\n",
    "        output, error = proc.communicate(timeout=timeout)\n",
    "        output = output.decode(encoding).rstrip()\n",
    "        error = error.decode(encoding).rstrip()\n",
    "        rc = proc.returncode\n",
    "        return (output, rc, error)\n",
    "    except subprocess.TimeoutExpired:\n",
    "        return (\"\", -1, \"Command execution timed out\")\n",
    "    except Exception as e:\n",
    "        return (\"\", -1, str(e))"
   ]
  }
 ],
 "metadata": {
  "jupytext": {
   "cell_metadata_filter": "-all",
   "formats": "ipynb,py:percent",
   "main_language": "python",
   "notebook_metadata_filter": "jupytext,-kernelspec,-jupytext.text_representation.jupytext_version"
  },
  "language_info": {
   "name": "python"
  }
 },
 "nbformat": 4,
 "nbformat_minor": 5
}
