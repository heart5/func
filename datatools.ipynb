{
 "cells": [
  {
   "cell_type": "code",
   "execution_count": null,
   "id": "03bcc77d",
   "metadata": {},
   "outputs": [],
   "source": [
    "\"\"\"\n",
    "txt数据文件操作函数\n",
    "部分文件功能函数\n",
    "\"\"\""
   ]
  },
  {
   "cell_type": "code",
   "execution_count": null,
   "id": "9555ec3d",
   "metadata": {},
   "outputs": [],
   "source": [
    "import binascii\n",
    "import os\n",
    "import sqlite3 as lite"
   ]
  },
  {
   "cell_type": "code",
   "execution_count": null,
   "id": "3992bb50",
   "metadata": {},
   "outputs": [],
   "source": [
    "import pathmagic"
   ]
  },
  {
   "cell_type": "code",
   "execution_count": null,
   "id": "c63ef4a8",
   "metadata": {},
   "outputs": [],
   "source": [
    "with pathmagic.context():\n",
    "    from func.first import (\n",
    "        dbpathdingdanmingxi,\n",
    "        dbpathquandan,\n",
    "        dbpathworkplan,\n",
    "        touchfilepath2depth,\n",
    "    )\n",
    "    from func.logme import log\n",
    "    # from func.wrapfuncs import timethis"
   ]
  },
  {
   "cell_type": "markdown",
   "id": "a2b43404",
   "metadata": {
    "lines_to_next_cell": 2
   },
   "source": [
    "print(f\"{__file__} is loading now...\")"
   ]
  },
  {
   "cell_type": "code",
   "execution_count": null,
   "id": "9366a842",
   "metadata": {},
   "outputs": [],
   "source": [
    "def str2hex(string):\n",
    "    \"\"\"\n",
    "    转换字符串为hex字符串（大写）\n",
    "    \"\"\"\n",
    "    str_bin = string.encode(\"utf-8\")\n",
    "\n",
    "    return binascii.hexlify(str_bin).decode(\"utf-8\").upper()"
   ]
  },
  {
   "cell_type": "code",
   "execution_count": null,
   "id": "2572a211",
   "metadata": {},
   "outputs": [],
   "source": [
    "def getfilepathnameext(tfile):\n",
    "    tfile = os.path.abspath(tfile)\n",
    "    (filepath, tmpfilename) = os.path.split(tfile)\n",
    "    (shotename, fileext) = os.path.splitext(tmpfilename)\n",
    "\n",
    "    return filepath, tmpfilename, shotename, fileext"
   ]
  },
  {
   "cell_type": "code",
   "execution_count": null,
   "id": "02d8aa2c",
   "metadata": {},
   "outputs": [],
   "source": [
    "def write2txt(weathertxtfilename, inputitemlist):\n",
    "    # print(inputitemlist)\n",
    "    fileobject = open(weathertxtfilename, \"w\", encoding=\"utf-8\")\n",
    "    # fileobject = open(weathertxtfilename, 'w', encoding='ISO8859-1')\n",
    "    if inputitemlist is not None:\n",
    "        for item in inputitemlist:\n",
    "            # print(item)\n",
    "            fileobject.write(str(item) + \"\\n\")\n",
    "    fileobject.close()"
   ]
  },
  {
   "cell_type": "code",
   "execution_count": null,
   "id": "c2b46bcb",
   "metadata": {},
   "outputs": [],
   "source": [
    "def readfromtxt(weathertxtfilename):\n",
    "    if not os.path.exists(weathertxtfilename):\n",
    "        touchfilepath2depth(weathertxtfilename)\n",
    "        write2txt(weathertxtfilename, None)\n",
    "    items = []\n",
    "    # with open(weathertxtfilename, 'r', encoding='ISO8859-1') as ftxt:\n",
    "    with open(weathertxtfilename, \"r\", encoding=\"utf-8\") as ftxt:\n",
    "        items = [line.strip() for line in ftxt]  # strip()，去除行首行尾的空格\n",
    "        # for line in ftxt:\n",
    "        # try:\n",
    "        # items.append(line.strip())\n",
    "        # except UnicodeDecodeError as ude:\n",
    "        # log.error(f\"{line}\\n{ude}\")\n",
    "    return items"
   ]
  },
  {
   "cell_type": "code",
   "execution_count": null,
   "id": "d5aaa9c8",
   "metadata": {},
   "outputs": [],
   "source": [
    "def get_filesize(filepath):\n",
    "    fsize = os.path.getsize(filepath)\n",
    "    fsize = fsize / float(1024 * 1024)\n",
    "    return round(fsize, 2)"
   ]
  },
  {
   "cell_type": "code",
   "execution_count": null,
   "id": "cfbdc2eb",
   "metadata": {},
   "outputs": [],
   "source": [
    "# @timethis\n",
    "def compact_sqlite3_db(dbpath):\n",
    "    sizebefore = get_filesize(dbpath)\n",
    "    conn = lite.connect(dbpath)\n",
    "    conn.execute(\"VACUUM\")\n",
    "    conn.close()\n",
    "    log.info(\n",
    "        f\"{dbpath}数据库压缩前大小为{sizebefore}MB，压缩之后为{get_filesize(dbpath)}MB。\"\n",
    "    )"
   ]
  },
  {
   "cell_type": "code",
   "execution_count": null,
   "id": "f706833c",
   "metadata": {},
   "outputs": [],
   "source": [
    "if __name__ == \"__main__\":\n",
    "    log.info(f\"运行文件\\t{__file__}\")\n",
    "    # print(get_filesize(dbpathquandan))\n",
    "    # compact_sqlite3_db(dbpathquandan)\n",
    "    # compact_sqlite3_db(dbpathworkplan)\n",
    "    # compact_sqlite3_db(dbpathdingdanmingxi)\n",
    "    (*aaa, ext) = getfilepathnameext(__file__)\n",
    "    print(ext)\n",
    "\n",
    "    outputstr = str2hex(\"天富 1  29\")\n",
    "    print(outputstr)\n",
    "    log.info(f\"文件\\t{__file__}\\t运行结束。\")"
   ]
  }
 ],
 "metadata": {
  "jupytext": {
   "cell_metadata_filter": "-all",
   "encoding": "# encoding:utf-8",
   "formats": "ipynb,py:percent",
   "main_language": "python",
   "notebook_metadata_filter": "jupytext,-kernelspec,-jupytext.text_representation.jupytext_version"
  }
 },
 "nbformat": 4,
 "nbformat_minor": 5
}
