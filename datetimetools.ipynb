{
 "cells": [
  {
   "cell_type": "markdown",
   "id": "17a5c286",
   "metadata": {},
   "source": [
    "# 时间日期相关函数集"
   ]
  },
  {
   "cell_type": "markdown",
   "id": "c923f672",
   "metadata": {},
   "source": [
    "# 引入库"
   ]
  },
  {
   "cell_type": "code",
   "execution_count": null,
   "id": "e324c3ab",
   "metadata": {},
   "outputs": [],
   "source": [
    "import re\n",
    "import time\n",
    "from datetime import datetime, timedelta\n",
    "\n",
    "import arrow\n",
    "# from tzlocal import get_localzone\n",
    "# from dateutil import tz"
   ]
  },
  {
   "cell_type": "code",
   "execution_count": null,
   "id": "d6f1f50a",
   "metadata": {},
   "outputs": [],
   "source": [
    "import pathmagic\n",
    "\n",
    "with pathmagic.context():\n",
    "    from func.logme import log\n",
    "    from func.sysfunc import not_IPython\n",
    "# print(f\"{__file__} is loading now...\")"
   ]
  },
  {
   "cell_type": "markdown",
   "id": "c6f2a70f",
   "metadata": {},
   "source": [
    "# 功能函数集"
   ]
  },
  {
   "cell_type": "markdown",
   "id": "4a2ac886",
   "metadata": {
    "lines_to_next_cell": 2
   },
   "source": [
    "## datecn2utc()"
   ]
  },
  {
   "cell_type": "code",
   "execution_count": null,
   "id": "025b0ca5",
   "metadata": {
    "lines_to_next_cell": 2
   },
   "outputs": [],
   "source": [
    "def datecn2utc(datestr):\n",
    "    # datestr = '2023年9月22日'\n",
    "    datestr = re.sub(\"[年月日]\", \"-\", datestr).strip(\"-\")\n",
    "    return arrow.get(datestr, tzinfo=\"local\").datetime"
   ]
  },
  {
   "cell_type": "markdown",
   "id": "b6d537da",
   "metadata": {
    "lines_to_next_cell": 2
   },
   "source": [
    "## timestamp2str(timestamp)"
   ]
  },
  {
   "cell_type": "code",
   "execution_count": null,
   "id": "45c2ca3f",
   "metadata": {
    "lines_to_next_cell": 2
   },
   "outputs": [],
   "source": [
    "def timestamp2str(timestamp):\n",
    "    return time.strftime(\"%Y-%m-%d %H:%M:%S\", time.localtime(timestamp))"
   ]
  },
  {
   "cell_type": "markdown",
   "id": "3e487050",
   "metadata": {
    "lines_to_next_cell": 2
   },
   "source": [
    "## normalize_timestamp(ts)"
   ]
  },
  {
   "cell_type": "code",
   "execution_count": null,
   "id": "aa5d01a1",
   "metadata": {
    "lines_to_next_cell": 2
   },
   "outputs": [],
   "source": [
    "def normalize_timestamp(ts):\n",
    "    if isinstance(ts, str):\n",
    "        # 统一处理带时区的ISO格式和简化格式\n",
    "        try:\n",
    "            return arrow.get(ts).to(get_localzone()).datetime\n",
    "        except:\n",
    "            return datetime.strptime(ts, \"%Y-%m-%d %H:%M:%S\")\n",
    "    return ts"
   ]
  },
  {
   "cell_type": "markdown",
   "id": "780ce08b",
   "metadata": {
    "lines_to_next_cell": 2
   },
   "source": [
    "## getstartdate(period, thedatetime)"
   ]
  },
  {
   "cell_type": "code",
   "execution_count": null,
   "id": "edd1a9b3",
   "metadata": {
    "lines_to_next_cell": 2
   },
   "outputs": [],
   "source": [
    "def getstartdate(period, thedatetime):\n",
    "    \"\"\"\n",
    "    return date depend on period idicated for certain datetime input\n",
    "    period list: ['日', '周', '旬', '月', '年', '全部']\n",
    "    \"\"\"\n",
    "    if period == \"日\":\n",
    "        zuijindatestart = arrow.get(arrow.get(thedatetime).date()).naive\n",
    "    elif period == \"周\":\n",
    "        weekstarttime = thedatetime - timedelta(days=thedatetime.weekday())  # Monday\n",
    "        zuijindatestart = arrow.get(arrow.get(weekstarttime).date()).naive\n",
    "    elif period == \"旬\":\n",
    "        # 连用两次三元操作，减缩代码行数\n",
    "        frtday = 1 if thedatetime.day < 10 else (10 if thedatetime.day < 20 else 20)\n",
    "        tmpdt = arrow.get(thedatetime).replace(day=frtday)\n",
    "        zuijindatestart = arrow.get(tmpdt.date()).naive\n",
    "    elif period == \"月\":\n",
    "        zuijindatestart = arrow.get(arrow.get(thedatetime).replace(day=1).date()).naive\n",
    "    elif period == \"年\":\n",
    "        zuijindatestart = arrow.get(\n",
    "            arrow.get(thedatetime).replace(month=1, day=1).date()\n",
    "        ).naive\n",
    "    else:\n",
    "        zuijindatestart = thedatetime\n",
    "\n",
    "    return zuijindatestart"
   ]
  },
  {
   "cell_type": "markdown",
   "id": "5f0fdaf2",
   "metadata": {
    "lines_to_next_cell": 2
   },
   "source": [
    "## test_getstartdate()"
   ]
  },
  {
   "cell_type": "code",
   "execution_count": null,
   "id": "8530bbb6",
   "metadata": {
    "lines_to_next_cell": 2
   },
   "outputs": [],
   "source": [
    "def test_getstartdate():\n",
    "    periodlst = [\"日\", \"周\", \"旬\", \"月\", \"年\", \"全部\"]\n",
    "    for pr in periodlst:\n",
    "        tned = getstartdate(pr, datetime.now())\n",
    "        print(f\"{datetime.now()}\\t{pr}:\\t{tned}\\t{type(tned)}\")"
   ]
  },
  {
   "cell_type": "markdown",
   "id": "208ddd5e",
   "metadata": {
    "lines_to_next_cell": 2
   },
   "source": [
    "## gethumantimedelay(inputlocaltime, intervalseconds=120)"
   ]
  },
  {
   "cell_type": "code",
   "execution_count": null,
   "id": "c9b8bb6f",
   "metadata": {
    "lines_to_next_cell": 2
   },
   "outputs": [],
   "source": [
    "def gethumantimedelay(inputlocaltime, intervalseconds=120):\n",
    "    \"\"\"\n",
    "    返回输入时间和当前时间差值的人类可读字符串\n",
    "    默认对超过120秒（两分钟）的差值有效，否则返回False\n",
    "    \"\"\"\n",
    "    # 默认用当地时间运算\n",
    "    intime = arrow.get(inputlocaltime, tzinfo=\"local\")\n",
    "    if (elasptime := arrow.now() - intime) and (elasptime.seconds > intervalseconds):\n",
    "        # print(elasptime, elasptime.seconds)\n",
    "        return intime.humanize(locale=\"zh_cn\")\n",
    "    else:\n",
    "        return False"
   ]
  },
  {
   "cell_type": "markdown",
   "id": "f6701983",
   "metadata": {
    "lines_to_next_cell": 2
   },
   "source": [
    "## test_gethumantimedelay()"
   ]
  },
  {
   "cell_type": "code",
   "execution_count": null,
   "id": "77cc96c1",
   "metadata": {},
   "outputs": [],
   "source": [
    "def test_gethumantimedelay():\n",
    "    hmtimetestlst = [\n",
    "        \"20210227 01:04:23\",\n",
    "        arrow.get(\"20210227 02:04:23\", tzinfo=\"local\"),\n",
    "        \"19761006\",\n",
    "    ]\n",
    "    for htt in hmtimetestlst:\n",
    "        hmstr = gethumantimedelay(htt)\n",
    "        print(hmstr)"
   ]
  },
  {
   "cell_type": "markdown",
   "id": "20f6ae53",
   "metadata": {},
   "source": [
    "# 运行主函数main"
   ]
  },
  {
   "cell_type": "code",
   "execution_count": null,
   "id": "c77e88e3",
   "metadata": {},
   "outputs": [],
   "source": [
    "if __name__ == \"__main__\":\n",
    "    if not_IPython():\n",
    "        log.info(f\"运行文件\\t{__file__}\")\n",
    "\n",
    "    test_gethumantimedelay()\n",
    "    test_getstartdate()\n",
    "\n",
    "    if not_IPython():\n",
    "        log.info(f\"文件\\t{__file__}\\t运行结束。\")"
   ]
  }
 ],
 "metadata": {
  "jupytext": {
   "cell_metadata_filter": "-all",
   "encoding": "# encoding:utf-8",
   "formats": "ipynb,py:percent",
   "main_language": "python",
   "notebook_metadata_filter": "jupytext,-kernelspec,-jupytext.text_representation.jupytext_version"
  }
 },
 "nbformat": 4,
 "nbformat_minor": 5
}
