{
 "cells": [
  {
   "cell_type": "markdown",
   "id": "8318031b",
   "metadata": {},
   "source": [
    "# sqlite3数据库相关函数"
   ]
  },
  {
   "cell_type": "code",
   "execution_count": null,
   "id": "d9494496",
   "metadata": {},
   "outputs": [],
   "source": [
    "\"\"\"\n",
    "sqlite数据库相关应用函数\n",
    "\"\"\""
   ]
  },
  {
   "cell_type": "markdown",
   "id": "77c8acef",
   "metadata": {},
   "source": [
    "## 引入重要库"
   ]
  },
  {
   "cell_type": "code",
   "execution_count": null,
   "id": "75b5fbf0",
   "metadata": {},
   "outputs": [],
   "source": [
    "import os\n",
    "import re\n",
    "import sqlite3 as lite\n",
    "\n",
    "import arrow\n",
    "import pandas as pd"
   ]
  },
  {
   "cell_type": "code",
   "execution_count": null,
   "id": "191d32ab",
   "metadata": {
    "lines_to_next_cell": 2
   },
   "outputs": [],
   "source": [
    "import pathmagic\n",
    "\n",
    "with pathmagic.context():\n",
    "    from etc.getid import getdevicename\n",
    "    from func.configpr import getcfpoptionvalue, setcfpoptionvalue\n",
    "    from func.first import (\n",
    "        dbpathdingdanmingxi,\n",
    "        dbpathquandan,\n",
    "        dbpathworkplan,\n",
    "        getdirmain,\n",
    "        touchfilepath2depth,\n",
    "    )\n",
    "    from func.logme import log\n",
    "    from func.sysfunc import execcmd, not_IPython\n",
    "    from func.wrapfuncs import timethis"
   ]
  },
  {
   "cell_type": "markdown",
   "id": "4f955a2a",
   "metadata": {},
   "source": [
    "## 功能函数集"
   ]
  },
  {
   "cell_type": "markdown",
   "id": "a8f5e9dd",
   "metadata": {
    "lines_to_next_cell": 2
   },
   "source": [
    "### def get_filesize(filepath)"
   ]
  },
  {
   "cell_type": "code",
   "execution_count": null,
   "id": "4e5fe9c3",
   "metadata": {
    "lines_to_next_cell": 2
   },
   "outputs": [],
   "source": [
    "def get_filesize(filepath):\n",
    "    fsize = os.path.getsize(filepath)\n",
    "    fsize = fsize / float(1024 * 1024)\n",
    "    return round(fsize, 2)"
   ]
  },
  {
   "cell_type": "markdown",
   "id": "3b26ac57",
   "metadata": {
    "lines_to_next_cell": 2
   },
   "source": [
    "### def istableindb(tablein, dbname)"
   ]
  },
  {
   "cell_type": "code",
   "execution_count": null,
   "id": "7df0dba1",
   "metadata": {
    "lines_to_next_cell": 2
   },
   "outputs": [],
   "source": [
    "def istableindb(tablenin: str, dbname: str):\n",
    "    result = False\n",
    "    try:\n",
    "        conn = lite.connect(dbname)\n",
    "        cursor = conn.cursor()\n",
    "        cursor.execute(\"select * from sqlite_master where type='table'\")\n",
    "        table = cursor.fetchall()\n",
    "        # print(table)\n",
    "        chali = [x for item in table for x in item[1:3]]\n",
    "        # print(chali)\n",
    "        result = tablenin in chali\n",
    "    except Exception as eee:\n",
    "        log.critical(f\"查询数据表是否存在时出错。{eee}\")\n",
    "    finally:\n",
    "        if \"conn\" in locals():\n",
    "            conn.close()\n",
    "\n",
    "    return result"
   ]
  },
  {
   "cell_type": "markdown",
   "id": "d7ba825d",
   "metadata": {
    "lines_to_next_cell": 2
   },
   "source": [
    "### def ifnotcreate(tablein, createsql, dbn)"
   ]
  },
  {
   "cell_type": "code",
   "execution_count": null,
   "id": "3b1b443a",
   "metadata": {
    "lines_to_next_cell": 2
   },
   "outputs": [],
   "source": [
    "def ifnotcreate(tablen: str, createsql: str, dbn: str):\n",
    "    \"\"\"\n",
    "    如果没有相应数据表就创建一个\n",
    "    :param tablen:\n",
    "    :param dbn:\n",
    "    :return:\n",
    "    \"\"\"\n",
    "\n",
    "    if istableindb(tablen, dbn):\n",
    "        return\n",
    "\n",
    "    try:\n",
    "        conn = lite.connect(dbn)\n",
    "        cursor = conn.cursor()\n",
    "\n",
    "        cursor.execute(createsql)\n",
    "        conn.commit()\n",
    "        log.info(f\"数据表：\\t{tablen} 被创建成功。\\t{createsql}\")\n",
    "\n",
    "    except Exception as eee:\n",
    "        log.critical(f\"操作数据库时出现错误。{dbn}\\t{eee}\")\n",
    "    finally:\n",
    "        if \"conn\" in locals():\n",
    "            conn.close()"
   ]
  },
  {
   "cell_type": "markdown",
   "id": "9229b16a",
   "metadata": {
    "lines_to_next_cell": 2
   },
   "source": [
    "### def ifclexists(dbin, tb, cl)"
   ]
  },
  {
   "cell_type": "code",
   "execution_count": null,
   "id": "e49abc3f",
   "metadata": {
    "lines_to_next_cell": 2
   },
   "outputs": [],
   "source": [
    "def ifclexists(dbin, tb, cl):\n",
    "    conn = lite.connect(dbin)\n",
    "    cursor = conn.cursor()\n",
    "    structsql = (\n",
    "        f\"SELECT sql FROM sqlite_master WHERE type = 'table' AND tbl_name = '{tb}';\"\n",
    "    )\n",
    "    tablefd = cursor.execute(structsql).fetchall()\n",
    "    # [('CREATE TABLE heart5 (id integer primary key autoincrement, name text, age int, imguuid text)',)]\n",
    "    conn.commit()\n",
    "    tcs = conn.total_changes\n",
    "    print(tcs)\n",
    "    conn.close()\n",
    "\n",
    "    if len(tablefd) == 0:\n",
    "        print(f\"数据表{tb}不存在\")\n",
    "        return False\n",
    "\n",
    "    createsql = [name for x in tablefd for name in x][0]\n",
    "    print(createsql)\n",
    "    ptn = re.compile(r\"\\((.+)\\)\")\n",
    "    print(re.findall(ptn, createsql)[0])\n",
    "    rstsplst = re.findall(ptn, createsql)[0].split(\",\")\n",
    "    print([x.strip() for x in rstsplst])\n",
    "    finallst = [x.strip().split()[:2] for x in rstsplst]\n",
    "    print(finallst)\n",
    "    targetdict = dict(finallst)\n",
    "    if cl in targetdict:\n",
    "        print(f\"列{cl}已经在数据表{tb}中存在\")\n",
    "        return True\n",
    "    else:\n",
    "        print(f\"列{cl}在数据表{tb}中尚未存在，可以新增\")\n",
    "        return False"
   ]
  },
  {
   "cell_type": "markdown",
   "id": "4d14ab1c",
   "metadata": {
    "lines_to_next_cell": 2
   },
   "source": [
    "### def shwotableindb(dbname)"
   ]
  },
  {
   "cell_type": "code",
   "execution_count": null,
   "id": "ddd0e41e",
   "metadata": {
    "lines_to_next_cell": 2
   },
   "outputs": [],
   "source": [
    "def showtablesindb(dbname: str):\n",
    "    conn = lite.connect(dbname)\n",
    "    cursor = conn.cursor()\n",
    "    tbnsql = f\"SELECT tbl_name FROM sqlite_master WHERE type = 'table';\"\n",
    "    tablefd = cursor.execute(tbnsql).fetchall()\n",
    "    #     print(tablefd)\n",
    "    tablesnamelst = [name for x in tablefd for name in x]\n",
    "    print(tablesnamelst)\n",
    "    for tname in tablesnamelst:\n",
    "        structsql = f\"SELECT sql FROM sqlite_master WHERE type = 'table' AND tbl_name = '{tname}';\"\n",
    "        tablefd = cursor.execute(structsql).fetchall()\n",
    "        print(tname + \":\\t\", [name for x in tablefd for name in x][0])\n",
    "    conn.commit()\n",
    "    tcs = conn.total_changes\n",
    "    print(tcs)\n",
    "    conn.close()"
   ]
  },
  {
   "cell_type": "markdown",
   "id": "742dd850",
   "metadata": {
    "lines_to_next_cell": 2
   },
   "source": [
    "### def droptablefromdb(dbname, tablename, confirm=False)"
   ]
  },
  {
   "cell_type": "code",
   "execution_count": null,
   "id": "384a0737",
   "metadata": {
    "lines_to_next_cell": 2
   },
   "outputs": [],
   "source": [
    "def droptablefromdb(dbname: str, tablename: str, confirm=False):\n",
    "    if not confirm:\n",
    "        logstr = f\"【警告】：数据表{tablename}将从{dbname}中删除，请确认！！！\"\n",
    "        log.critical(logstr)\n",
    "    else:\n",
    "        conn = lite.connect(dbname)\n",
    "        cursor = conn.cursor()\n",
    "        cursor.execute(f\"drop table {tablename}\")\n",
    "        # cursor.execute(f'drop table cinfo')\n",
    "        conn.commit()\n",
    "        logstr = f\"【警告】：数据表{tablename}已经从{dbname}中删除，谨以记！！！\"\n",
    "        log.critical(logstr)\n",
    "\n",
    "        conn.close()"
   ]
  },
  {
   "cell_type": "markdown",
   "id": "8deb56a0",
   "metadata": {
    "lines_to_next_cell": 2
   },
   "source": [
    "### def checktableindb(ininame, dbpath, tablename, creattablesql, confirm=False)"
   ]
  },
  {
   "cell_type": "code",
   "execution_count": null,
   "id": "b66b5cdd",
   "metadata": {
    "lines_to_next_cell": 2
   },
   "outputs": [],
   "source": [
    "def checktableindb(\n",
    "    ininame: str, dbpath: str, tablename: str, creattablesql: str, confirm=False\n",
    "):\n",
    "    \"\"\"\n",
    "    检查数据表（ini登记，物理存储）是否存在并根据情况创建\n",
    "    \"\"\"\n",
    "    absdbpath = os.path.abspath(dbpath)  # 取得绝对路径，用于作为section名称\n",
    "    if not (ifcreated := getcfpoptionvalue(ininame, absdbpath, tablename)):\n",
    "        print(ifcreated)\n",
    "        if istableindb(tablename, dbpath) and confirm:\n",
    "            # 删表操作，危险，谨慎操作\n",
    "            droptablefromdb(dbpath, tablename, confirm=confirm)\n",
    "            logstr = f\"数据表{tablename}于{dbpath}中被删除\"\n",
    "            log.critical(logstr)\n",
    "        ifnotcreate(tablename, creattablesql, dbpath)\n",
    "\n",
    "        setcfpoptionvalue(ininame, absdbpath, tablename, str(True))"
   ]
  },
  {
   "cell_type": "markdown",
   "id": "c33a913d",
   "metadata": {
    "lines_to_next_cell": 2
   },
   "source": [
    "### def convert_intstr_datetime(value)"
   ]
  },
  {
   "cell_type": "code",
   "execution_count": null,
   "id": "a040c1fb",
   "metadata": {
    "lines_to_next_cell": 2
   },
   "outputs": [],
   "source": [
    "def convert_intstr_datetime(value):\n",
    "    \"\"\"\n",
    "    将时间值转换为 datetime ，支持字符串和整数(timestamp)格式。\n",
    "    \"\"\"\n",
    "    if pd.isna(value):\n",
    "        return None  # 如果值是 NaN，返回 None\n",
    "    if isinstance(value, str):\n",
    "        try:\n",
    "            # 将字符串转换为 datetime 对象\n",
    "            return arrow.get(value).datetime\n",
    "        except Exception:\n",
    "            return None  # 如果转换失败，返回 None\n",
    "    elif isinstance(value, (int, float)):\n",
    "        return arrow.get(value).to(\"Asia/Shanghai\").datetime\n",
    "    else:\n",
    "        return None  # 对于其他类型返回 None"
   ]
  },
  {
   "cell_type": "markdown",
   "id": "b49f44a8",
   "metadata": {
    "lines_to_next_cell": 2
   },
   "source": [
    "### clean4timecl(name, dbname, confirm)"
   ]
  },
  {
   "cell_type": "code",
   "execution_count": null,
   "id": "75d68dc2",
   "metadata": {
    "lines_to_next_cell": 2
   },
   "outputs": [],
   "source": [
    "@timethis\n",
    "def clean4timecl(name, dbname, confirm):\n",
    "    with lite.connect(dbname) as conn:\n",
    "        sql = f\"select * from wc_{name}\"\n",
    "        df = pd.read_sql(sql, conn)\n",
    "\n",
    "    # 调用函数转换为datetime\n",
    "    df[\"time\"] = df[\"time\"].apply(convert_intstr_datetime)\n",
    "    df[\"time\"] = pd.to_datetime(df[\"time\"], errors=\"coerce\")\n",
    "    df1 = df[~df.time.isnull()]\n",
    "    df2 = df1.set_index(\"id\")\n",
    "\n",
    "    # 处理成相对路径，逻辑是准备把所有音频等文件集中到主运行环境\n",
    "    ptn = re.compile(r\"^/.+happyjoplin/\")\n",
    "    df2.loc[:, \"content\"] = df2[\"content\"].apply(\n",
    "        lambda x: re.sub(ptn, \"\", x) if isinstance(x, str) and ptn.match(x) else x\n",
    "    )\n",
    "\n",
    "    outdf = df2.drop_duplicates()\n",
    "    outdf = outdf.sort_values(\"time\")\n",
    "    log.info(\n",
    "        f\"从数据库【{dbname}】的数据表《wc_{name}》中读出记录总数{df.shape[0]}条，去掉(time经过转换后为空的)后还有{df1.shape[0]}条，去重(文件路径已经转换为相对路径)后还有{outdf.shape[0]}条\"\n",
    "    )\n",
    "\n",
    "    if confirm == \"yes\":\n",
    "        log.critical(\n",
    "            f\"重大操作，向数据库【{dbname}】的数据表《wc_{name}》写回大量数据，原数据将被覆盖，但是表结构保持不变！！！\"\n",
    "        )\n",
    "        with lite.connect(dbname) as conn:\n",
    "            cursor = conn.cursor()\n",
    "            # 创建一个新的临时表，结构与原数据表相同\n",
    "            cursor.execute(\n",
    "                f\"CREATE TABLE wc_{name}_temp AS SELECT * FROM wc_{name} WHERE 1=0\"\n",
    "            )\n",
    "            # outdf覆盖导出到临时数据表\n",
    "            outdf.to_sql(f\"wc_{name}_temp\", conn, if_exists=\"append\", index=False)\n",
    "            # 清空原数据表\n",
    "            cursor.execute(f\"DELETE FROM wc_{name}\")\n",
    "            # 将临时表的数据插入原数据表\n",
    "            cursor.execute(\n",
    "                f\"\"\" INSERT INTO wc_{name} (time, send, sender, type, content) SELECT time, send, sender, type, content FROM wc_{name}_temp \"\"\"\n",
    "            )\n",
    "            # 删除临时表\n",
    "            cursor.execute(f\"DROP TABLE wc_{name}_temp\")\n",
    "            # 提交更改并关闭数据库连接\n",
    "            conn.commit()\n",
    "        log.critical(\n",
    "            f\"数据库【{dbname}】的数据表《wc_{name}》数据清洗完成后有{outdf.shape[0]}条记录，并已成功覆盖回去，表结构保持了不变！！！\"\n",
    "        )\n",
    "        compact_sqlite3_db(dbname)\n",
    "\n",
    "    return outdf"
   ]
  },
  {
   "cell_type": "markdown",
   "id": "a7ec6dfd",
   "metadata": {
    "lines_to_next_cell": 2
   },
   "source": [
    "### def compact_sqlite3_db(dbpath)"
   ]
  },
  {
   "cell_type": "code",
   "execution_count": null,
   "id": "a12cc70a",
   "metadata": {},
   "outputs": [],
   "source": [
    "@timethis\n",
    "def compact_sqlite3_db(dbpath):\n",
    "    sizebefore = get_filesize(dbpath)\n",
    "    conn = lite.connect(dbpath)\n",
    "    conn.execute(\"VACUUM\")\n",
    "    conn.close()\n",
    "    log.info(\n",
    "        f\"{dbpath}数据库压缩前大小为{sizebefore}MB，压缩之后为{get_filesize(dbpath)}MB。\"\n",
    "    )"
   ]
  },
  {
   "cell_type": "markdown",
   "id": "4445694b",
   "metadata": {},
   "source": [
    "## 主函数main"
   ]
  },
  {
   "cell_type": "code",
   "execution_count": null,
   "id": "99851001",
   "metadata": {},
   "outputs": [],
   "source": [
    "if __name__ == \"__main__\":\n",
    "    if not_IPython():\n",
    "        logstr = f\"运行文件\\t{__file__}\\t……\"\n",
    "        log.info(logstr)\n",
    "    # print(get_filesize(dbpathquandan))\n",
    "    loginstr = (\n",
    "        \"\" if (whoami := execcmd(\"whoami\")) and (len(whoami) == 0) else f\"{whoami}\"\n",
    "    )\n",
    "    dbfilename = f\"wcitemsall_({getdevicename()})_({loginstr}).db\".replace(\" \", \"_\")\n",
    "    wcdatapath = getdirmain() / \"data\" / \"webchat\"\n",
    "    dbname = os.path.abspath(wcdatapath / dbfilename)\n",
    "    name = \"heart5\"\n",
    "    outdf = clean4timecl(name, dbname, \"no\")\n",
    "\n",
    "    if not_IPython():\n",
    "        logstr = f\"文件\\t{__file__}\\t运行完毕。\"\n",
    "        log.info(logstr)"
   ]
  }
 ],
 "metadata": {
  "jupytext": {
   "cell_metadata_filter": "-all",
   "encoding": "# encoding:utf-8",
   "formats": "ipynb,py:percent",
   "main_language": "python",
   "notebook_metadata_filter": "jupytext,-kernelspec,-jupytext.text_representation.jupytext_version"
  }
 },
 "nbformat": 4,
 "nbformat_minor": 5
}
