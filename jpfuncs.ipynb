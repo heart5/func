{
 "cells": [
  {
   "cell_type": "markdown",
   "id": "bf9a6430",
   "metadata": {},
   "source": [
    "# Joplin 工具库"
   ]
  },
  {
   "cell_type": "markdown",
   "id": "88a54259",
   "metadata": {},
   "source": [
    "## 引入库"
   ]
  },
  {
   "cell_type": "code",
   "execution_count": null,
   "id": "fd3139f1",
   "metadata": {},
   "outputs": [],
   "source": [
    "import hashlib\n",
    "import os\n",
    "import re\n",
    "\n",
    "# import requests\n",
    "# import subprocess\n",
    "import tempfile\n",
    "from io import BytesIO\n",
    "\n",
    "import arrow\n",
    "\n",
    "# import joppy\n",
    "# import datetime\n",
    "# from pathlib import Path\n",
    "from joppy.client_api import ClientApi\n",
    "from tzlocal import get_localzone\n",
    "# from joppy.api import Api\n",
    "# from joppy import tools\n",
    "# from tzlocal import get_localzone\n",
    "# from dateutil import tz"
   ]
  },
  {
   "cell_type": "code",
   "execution_count": null,
   "id": "420eb465",
   "metadata": {
    "lines_to_next_cell": 2
   },
   "outputs": [],
   "source": [
    "import pathmagic\n",
    "\n",
    "with pathmagic.context():\n",
    "    # from func.termuxtools import termux_location, termux_telephony_deviceinfo\n",
    "    # from func.nettools import ifttt_notify\n",
    "    from etc.getid import getdevicename, gethostuser\n",
    "    from func.configpr import getcfpoptionvalue, setcfpoptionvalue\n",
    "    from func.first import getdirmain\n",
    "    from func.logme import log\n",
    "    from func.sysfunc import after_timeout, execcmd, not_IPython, set_timeout\n",
    "    from func.wrapfuncs import timethis"
   ]
  },
  {
   "cell_type": "markdown",
   "id": "1f1699e4",
   "metadata": {},
   "source": [
    "## 功能函数集"
   ]
  },
  {
   "cell_type": "markdown",
   "id": "e672689c",
   "metadata": {
    "lines_to_next_cell": 2
   },
   "source": [
    "### getapi()"
   ]
  },
  {
   "cell_type": "code",
   "execution_count": null,
   "id": "3ad73aa3",
   "metadata": {
    "lines_to_next_cell": 2
   },
   "outputs": [],
   "source": [
    "@timethis\n",
    "def getapi():\n",
    "    \"\"\"\n",
    "    获取api方便调用，自适应不同的joplin server端口；通过命令行joplin获取相关配置参数值\n",
    "    \"\"\"\n",
    "    # 一次运行两个命令，减少一次命令行调用\n",
    "    jpcmdstr = execcmd(\"joplin config api.token&joplin config api.port\")\n",
    "    if jpcmdstr.find(\"=\") == -1:\n",
    "        logstr = f\"主机【{gethostuser()}】貌似尚未运行joplin server！\\n退出运行！！！\"\n",
    "        log.critical(f\"{logstr}\")\n",
    "        exit(1)\n",
    "    splitlst = [line.split(\"=\") for line in re.findall(\".+=.*\", jpcmdstr)]\n",
    "    # 简化api.token为token，port类似，同时把默认的port替换为41184\n",
    "    kvdict = dict(\n",
    "        [\n",
    "            [\n",
    "                x.split(\".\")[-1].strip()\n",
    "                if x.split(\".\")[-1].strip() != \"null\"\n",
    "                else 41184\n",
    "                for x in sonlst\n",
    "            ]\n",
    "            for sonlst in splitlst\n",
    "        ]\n",
    "    )\n",
    "\n",
    "    url = f\"http://localhost:{kvdict.get('port')}\"\n",
    "    # print(kvdict.get(\"token\"), url)\n",
    "    api = ClientApi(token=kvdict.get(\"token\"), url=url)\n",
    "\n",
    "    return api"
   ]
  },
  {
   "cell_type": "markdown",
   "id": "3796d93a",
   "metadata": {
    "lines_to_next_cell": 2
   },
   "source": [
    "### searchnotebook(query)"
   ]
  },
  {
   "cell_type": "code",
   "execution_count": null,
   "id": "f582944f",
   "metadata": {
    "lines_to_next_cell": 2
   },
   "outputs": [],
   "source": [
    "@timethis\n",
    "def searchnotebook(title):\n",
    "    \"\"\"\n",
    "    查找指定title（全名）的笔记本并返回id，如果不存在，则新建一个返回id\n",
    "    \"\"\"\n",
    "    global jpapi\n",
    "    result = jpapi.search(query=title, type=\"folder\")\n",
    "    if len(result.items) == 0:\n",
    "        nbid = jpapi.add_notebook(title=title)\n",
    "        log.critical(f\"新建笔记本《{title}》，id为：\\t{nbid}\")\n",
    "    else:\n",
    "        nbid = result.items[0].id\n",
    "\n",
    "    return nbid"
   ]
  },
  {
   "cell_type": "markdown",
   "id": "80dece69",
   "metadata": {
    "lines_to_next_cell": 2
   },
   "source": [
    "### def getallnotes()"
   ]
  },
  {
   "cell_type": "code",
   "execution_count": null,
   "id": "c142731a",
   "metadata": {
    "lines_to_next_cell": 2
   },
   "outputs": [],
   "source": [
    "def getallnotes():\n",
    "    \"\"\"\n",
    "    获取所有笔记；默认仅输出id、parent_id和title三项有效信息\n",
    "    \"\"\"\n",
    "    global jpapi\n",
    "\n",
    "    return jpapi.get_all_notes()"
   ]
  },
  {
   "cell_type": "markdown",
   "id": "698bb5ec",
   "metadata": {
    "lines_to_next_cell": 2
   },
   "source": [
    "### getnoteswithfields(fields, limit=10)"
   ]
  },
  {
   "cell_type": "code",
   "execution_count": null,
   "id": "9a9d1ea3",
   "metadata": {
    "lines_to_next_cell": 2
   },
   "outputs": [],
   "source": [
    "def getnoteswithfields(fields, limit=10):\n",
    "    global jpapi\n",
    "    fields_ls = fields.split(\",\")\n",
    "    allnotes = [note for note in jpapi.get_all_notes(fields=fields)[:limit]]\n",
    "    geonotes = [note for note in allnotes if note.altitude != 0 and note.longitude != 0]\n",
    "    print(len(allnotes), len(geonotes))\n",
    "    for note in geonotes:\n",
    "        # print(getattr(note, \"id\"))\n",
    "        neededfls = [getattr(note, key) for key in fields_ls]\n",
    "        print(neededfls)\n",
    "        # if any(getattr(note, location_key) != 0 for location_key in location_keys):\n",
    "        #     # api.modify_note(\n",
    "        #     #     id_=note.id, **{location_key: 0 for location_key in location_keys}\n",
    "        #     # )\n",
    "        #     print(note)\n",
    "    # geonotes = [[note.fl for fl in fields_ls] for note in geonotes]\n",
    "    # print(geonotes)"
   ]
  },
  {
   "cell_type": "markdown",
   "id": "fa94d273",
   "metadata": {
    "lines_to_next_cell": 2
   },
   "source": [
    "### getnote(id, full_analysis=False)"
   ]
  },
  {
   "cell_type": "code",
   "execution_count": null,
   "id": "514c819b",
   "metadata": {
    "lines_to_next_cell": 2
   },
   "outputs": [],
   "source": [
    "def getnote(noteid, full_analysis=False):\n",
    "    \"\"\"\n",
    "    通过id获取笔记内容，默认只获取基础字段，可选全字段分析\n",
    "    :param noteid: 笔记ID\n",
    "    :param full_analysis: 是否进行全字段分析（默认False）\n",
    "    :return: NoteData对象\n",
    "    \"\"\"\n",
    "    # 基础字段（parent_id到source_url）\n",
    "    base_fields = \"parent_id, title, body, created_time, updated_time, is_conflict, latitude, longitude, altitude, author, source_url\"\n",
    "\n",
    "    if full_analysis:\n",
    "        # 全字段分析模式\n",
    "        extended_fields = \"is_todo, todo_due, todo_completed, source, source_application, application_data, order, user_created_time, user_updated_time, encryption_cipher_text, encryption_applied, markup_language, is_shared, share_id, conflict_original_id, master_key_id, body_html, base_url, image_data_url, crop_rect\"\n",
    "        allowed_fields = _validate_fields(noteid, base_fields + \", \" + extended_fields)\n",
    "        return jpapi.get_note(\n",
    "            noteid,\n",
    "            fields=\",\".join([f.strip() for f in (\"id, \" + allowed_fields).split(\",\")]),\n",
    "        )\n",
    "    else:\n",
    "        # 常规模式：直接获取基础字段\n",
    "        return jpapi.get_note(\n",
    "            noteid,\n",
    "            fields=\",\".join([f.strip() for f in (\"id, \" + base_fields).split(\",\")]),\n",
    "        )"
   ]
  },
  {
   "cell_type": "markdown",
   "id": "a8bab7f6",
   "metadata": {
    "lines_to_next_cell": 2
   },
   "source": [
    "### _validate_fields(noteid, fields_str)"
   ]
  },
  {
   "cell_type": "code",
   "execution_count": null,
   "id": "5098d5c7",
   "metadata": {
    "lines_to_next_cell": 2
   },
   "outputs": [],
   "source": [
    "def _validate_fields(noteid, fields_str):\n",
    "    \"\"\"检查字段可用性并返回有效字段列表\"\"\"\n",
    "    flst = [f.strip() for f in fields_str.split(\",\")]\n",
    "    allowed_fields = []\n",
    "\n",
    "    for field in flst:\n",
    "        if field == \"id\":  # 始终包含id\n",
    "            allowed_fields.append(field)\n",
    "            continue\n",
    "\n",
    "        try:\n",
    "            # 测试单个字段是否可获取\n",
    "            jpapi.get_note(noteid, fields=f\"id,{field}\")\n",
    "            allowed_fields.append(field)\n",
    "        except Exception:\n",
    "            continue  # 跳过无效字段\n",
    "\n",
    "    # 共享笔记检测逻辑\n",
    "    if \"share_id\" in allowed_fields:\n",
    "        logging.debug(f\"笔记（id：{noteid}）是共享笔记\")\n",
    "    return \",\".join(allowed_fields)"
   ]
  },
  {
   "cell_type": "markdown",
   "id": "3e19f168",
   "metadata": {
    "lines_to_next_cell": 2
   },
   "source": [
    "### noteid_used(target_id)"
   ]
  },
  {
   "cell_type": "code",
   "execution_count": null,
   "id": "510c2d04",
   "metadata": {
    "lines_to_next_cell": 2
   },
   "outputs": [],
   "source": [
    "def noteid_used(targetid):\n",
    "    try:\n",
    "        getnote(targetid)\n",
    "        return True\n",
    "    except Exception as e:\n",
    "        log.info(f\"id为{targetid}的笔记不存在，id号可用。{e}\")\n",
    "        return False"
   ]
  },
  {
   "cell_type": "markdown",
   "id": "a71da6ea",
   "metadata": {
    "lines_to_next_cell": 2
   },
   "source": [
    "### resid_used(target_id)"
   ]
  },
  {
   "cell_type": "code",
   "execution_count": null,
   "id": "3b7f0415",
   "metadata": {
    "lines_to_next_cell": 2
   },
   "outputs": [],
   "source": [
    "def resid_used(targetid):\n",
    "    global jpapi\n",
    "    try:\n",
    "        res = jpapi.get_resource(id_=targetid)\n",
    "        return True\n",
    "    except Exception as e:\n",
    "        log.info(f\"id为{targetid}的资源文件不存在，id号可用。\")\n",
    "        return False"
   ]
  },
  {
   "cell_type": "markdown",
   "id": "8020bdb3",
   "metadata": {
    "lines_to_next_cell": 2
   },
   "source": [
    "### createnote(title=\"Superman\", body=\"Keep focus, man!\", noteid_spec=None, parent_id=None, imgdata64=None)"
   ]
  },
  {
   "cell_type": "code",
   "execution_count": null,
   "id": "dc5f7e78",
   "metadata": {
    "lines_to_next_cell": 2
   },
   "outputs": [],
   "source": [
    "@timethis\n",
    "def createnote(\n",
    "    title=\"Superman\", body=\"Keep focus, man!\", parent_id=None, imgdata64=None\n",
    "):\n",
    "    \"\"\"\n",
    "    按照传入的参数值构建笔记并返回id\n",
    "    \"\"\"\n",
    "\n",
    "    global jpapi\n",
    "    if imgdata64:\n",
    "        noteid = jpapi.add_note(\n",
    "            title=title, image_data_url=f\"data:image/png;base64,{imgdata64}\"\n",
    "        )\n",
    "        jpapi.modify_note(noteid, body=f\"{getnote(noteid).body}\\n{body}\")\n",
    "    else:\n",
    "        noteid = jpapi.add_note(title=title, body=body)\n",
    "    if parent_id:\n",
    "        jpapi.modify_note(noteid, parent_id=parent_id)\n",
    "    note = getnote(noteid)\n",
    "    matches = re.findall(r\"\\[.*\\]\\(:.*\\/([A-Za-z0-9]{32})\\)\", note.body)\n",
    "    if len(matches) > 0:\n",
    "        log.info(\n",
    "            f\"笔记《{note.title}》（id：{noteid}）构建成功，包含了资源文件{matches}。\"\n",
    "        )\n",
    "    else:\n",
    "        log.info(f\"笔记《{note.title}》（id：{noteid}）构建成功。\")\n",
    "\n",
    "    return noteid"
   ]
  },
  {
   "cell_type": "markdown",
   "id": "04cb4684",
   "metadata": {
    "lines_to_next_cell": 2
   },
   "source": [
    "### createresource(filename, title=None)"
   ]
  },
  {
   "cell_type": "code",
   "execution_count": null,
   "id": "1952b3a9",
   "metadata": {
    "lines_to_next_cell": 2
   },
   "outputs": [],
   "source": [
    "def createresource(filename, title=None):\n",
    "    global jpapi\n",
    "    if not title:\n",
    "        res_title = title\n",
    "    else:\n",
    "        res_title = filename.split(\"/\")[-1]\n",
    "    res_id = jpapi.add_resource(filename=filename, title=res_title)\n",
    "    log.info(f\"资源文件《{res_title}》创建成功，纳入笔记资源系统管理，可以正常被调用！\")\n",
    "\n",
    "    return res_id"
   ]
  },
  {
   "cell_type": "markdown",
   "id": "aea6ce53",
   "metadata": {
    "lines_to_next_cell": 2
   },
   "source": [
    "### createresourcefromobj(file_obj, title=None)"
   ]
  },
  {
   "cell_type": "code",
   "execution_count": null,
   "id": "b4b54501",
   "metadata": {},
   "outputs": [],
   "source": [
    "def createresourcefromobj(file_obj, title=None):\n",
    "    # print(file_obj)\n",
    "    # 改用用户空间临时目录（绕过沙箱限制）\n",
    "    tmp_dir = os.path.expanduser(\"~/.joplin_temp\")\n",
    "    os.makedirs(tmp_dir, exist_ok=True)\n",
    "    # 创建一个临时文件\n",
    "    with tempfile.NamedTemporaryFile(\n",
    "        mode=\"wb\",\n",
    "        delete=False,\n",
    "        prefix=\"joplin_res_\",  # 便于识别\n",
    "        dir=tmp_dir,  # 指定目录\n",
    "    ) as tmpfile:\n",
    "        # 将 BytesIO 的内容写入临时文件\n",
    "        tmpfile.write(file_obj.getvalue())\n",
    "        tmpfile_path = tmpfile.name\n",
    "        os.chmod(tmpfile_path, 0o644)  # 显式设置权限\n",
    "        tmpfile.flush()  # 强制写入磁盘\n",
    "        # print(f\"临时文件实际路径: {tmpfile_path}\")\n",
    "        # print(f\"文件存在状态: {os.path.exists(tmpfile_path)}\")\n",
    "        # print(f\"文件权限: {oct(os.stat(tmpfile_path).st_mode)}\")\n",
    "\n",
    "        try:\n",
    "            # # 添加文件句柄释放保障\n",
    "            # os.close(tmpfile.file.fileno())\n",
    "            # os.sync()\n",
    "            # 使用临时文件的路径调用 add_resource\n",
    "            # 使用文件描述符重定向\n",
    "            res_id = jpapi.add_resource(filename=tmpfile_path, title=title)\n",
    "            log.info(\n",
    "                f\"资源文件《{title}》从file_obj创建成功，纳入笔记资源系统管理，可以正常被调用！\"\n",
    "            )\n",
    "        except Exception as e:\n",
    "            log.error(f\"资源上传失败: {str(e)}\")\n",
    "            raise\n",
    "        finally:\n",
    "            try:\n",
    "                # 延迟删除保障\n",
    "                if os.path.exists(tmpfile_path):\n",
    "                    os.unlink(tmpfile_path)\n",
    "            except Exception as e:\n",
    "                log.warning(f\"文件清理失败: {str(e)}\")\n",
    "        return res_id"
   ]
  },
  {
   "cell_type": "markdown",
   "id": "64219c5a",
   "metadata": {},
   "source": [
    "### add_resource_from_bytes(data_bytes, title, mime_type=\"image/png\")"
   ]
  },
  {
   "cell_type": "code",
   "execution_count": null,
   "id": "1b9df6d0",
   "metadata": {},
   "outputs": [],
   "source": [
    "def add_resource_from_bytes(data_bytes, title, mime_type=\"image/png\"):\n",
    "    \"\"\"从字节数据创建资源\"\"\"\n",
    "    file_obj = BytesIO(data_bytes)\n",
    "    return createresourcefromobj(file_obj, title)"
   ]
  },
  {
   "cell_type": "markdown",
   "id": "7695e5e5",
   "metadata": {
    "lines_to_next_cell": 2
   },
   "source": [
    "### deleteresourcesfromnote(noteid)"
   ]
  },
  {
   "cell_type": "code",
   "execution_count": null,
   "id": "f6727fe3",
   "metadata": {
    "lines_to_next_cell": 2
   },
   "outputs": [],
   "source": [
    "def deleteresourcesfromnote(noteid):\n",
    "    \"\"\"\n",
    "    遍历笔记中包含的资源文件并删除之！\n",
    "    \"\"\"\n",
    "    global jpapi\n",
    "    note = getnote(noteid)\n",
    "    ptn = re.compile(r\"\\(:/(\\w+)\\)\")\n",
    "    residlst = re.findall(ptn, note.body)\n",
    "    for i in range(len(residlst)):\n",
    "        try:\n",
    "            jpapi.delete_resource(residlst[i])\n",
    "            log.info(\n",
    "                f\"【{i + 1}/{len(residlst)}】资源文件（{residlst[i]}）从笔记（{note.title}）中删除成功（也被从笔记资源系统中彻底删除）！\"\n",
    "            )\n",
    "        except Exception as e:\n",
    "            log.info(f\"{e}\")"
   ]
  },
  {
   "cell_type": "markdown",
   "id": "812b2a97",
   "metadata": {
    "lines_to_next_cell": 2
   },
   "source": [
    "### createnotewithfile(title=\"Superman\", body=\"Keep focus, man!\", parent_id=None, filepath=None)"
   ]
  },
  {
   "cell_type": "code",
   "execution_count": null,
   "id": "5332e0c3",
   "metadata": {
    "lines_to_next_cell": 2
   },
   "outputs": [],
   "source": [
    "@timethis\n",
    "def createnotewithfile(\n",
    "    title=\"Superman\", body=\"Keep focus, man!\", parent_id=None, filepath=None\n",
    "):\n",
    "    \"\"\"\n",
    "    按照传入的参数值构建笔记并返回id\n",
    "    \"\"\"\n",
    "\n",
    "    global jpapi\n",
    "    if filepath:\n",
    "        note_id = jpapi.add_note(title=title)\n",
    "        resource_id = jpapi.add_resource(\n",
    "            filename=filepath, title=filepath.split(\"/\")[-1]\n",
    "        )\n",
    "        jpapi.add_resource_to_note(resource_id=resource_id, note_id=note_id)\n",
    "        jpapi.modify_note(note_id, body=f\"{jpapi.get_note(note_id).body}\\n{body}\")\n",
    "    else:\n",
    "        note_id = jpapi.add_note(title=title, body=body)\n",
    "    if parent_id:\n",
    "        jpapi.modify_note(noteid, parent_id=parent_id)\n",
    "    note = getnote(note_id)\n",
    "    matches = re.findall(r\"\\[.*\\]\\(:.*\\/([A-Za-z0-9]{32})\\)\", note.body)\n",
    "    if len(matches) > 0:\n",
    "        log.info(\n",
    "            f\"笔记《{note.title}》（id：{noteid}）构建成功，包含了资源文件{matches}。\"\n",
    "        )\n",
    "    else:\n",
    "        log.info(f\"笔记《{note.title}》（id：{noteid}）构建成功。\")\n",
    "\n",
    "    return noteid"
   ]
  },
  {
   "cell_type": "markdown",
   "id": "cf1ac945",
   "metadata": {
    "lines_to_next_cell": 2
   },
   "source": [
    "### updatenote_title(noteid, titlestr, parent_id=None)"
   ]
  },
  {
   "cell_type": "code",
   "execution_count": null,
   "id": "c6b0ef33",
   "metadata": {
    "lines_to_next_cell": 2
   },
   "outputs": [],
   "source": [
    "def updatenote_title(noteid, titlestr, parent_id=None):\n",
    "    global jpapi\n",
    "    note = getnote(noteid)\n",
    "    titleold = note.title\n",
    "    if (parent_id is not None) & (note.parent_id != parent_id):\n",
    "        print(f\"传入的笔记父目录id为{note.parent_id}，将被调整为{parent_id}\")\n",
    "        jpapi.modify_note(noteid, parent_id=parent_id)\n",
    "        log.critical(\n",
    "            f\"笔记《{titleold}》所在笔记本从《{jpapi.get_notebook(note.parent_id).title}》调整为《{jpapi.get_notebook(parent_id).title}》。\"\n",
    "        )\n",
    "    if titlestr == titleold:\n",
    "        return\n",
    "    jpapi.modify_note(noteid, title=titlestr)\n",
    "    log.info(f\"笔记《{titleold}》的标题被更新为《{titlestr}》。\")"
   ]
  },
  {
   "cell_type": "markdown",
   "id": "1a66e044",
   "metadata": {
    "lines_to_next_cell": 2
   },
   "source": [
    "### updatenote_body(noteid, bodystr, parent_id=None)"
   ]
  },
  {
   "cell_type": "code",
   "execution_count": null,
   "id": "e6ca7d07",
   "metadata": {
    "lines_to_next_cell": 2
   },
   "outputs": [],
   "source": [
    "def updatenote_body(noteid, bodystr, parent_id=None):\n",
    "    global jpapi\n",
    "    note = getnote(noteid)\n",
    "    if (parent_id is not None) & (note.parent_id != parent_id):\n",
    "        print(f\"传入的笔记父目录id为{note.parent_id}，将被调整为{parent_id}\")\n",
    "        jpapi.modify_note(noteid, parent_id=parent_id)\n",
    "        log.critical(\n",
    "            f\"笔记《{note.title}》所在笔记本从《{jpapi.get_notebook(note.parent_id).title}》调整为《{jpapi.get_notebook(parent_id).title}》。\"\n",
    "        )\n",
    "    jpapi.modify_note(noteid, body=bodystr)\n",
    "    log.info(f\"笔记《{note.title}》（id：{noteid}）的body内容被更新了。\")"
   ]
  },
  {
   "cell_type": "markdown",
   "id": "c1429e38",
   "metadata": {
    "lines_to_next_cell": 2
   },
   "source": [
    "### updatenote_imgdata(noteid, imgdata64, parent_id=None, imgtitle=None)"
   ]
  },
  {
   "cell_type": "code",
   "execution_count": null,
   "id": "110f1d63",
   "metadata": {
    "lines_to_next_cell": 2
   },
   "outputs": [],
   "source": [
    "@timethis\n",
    "def updatenote_imgdata(noteid, parent_id=None, imgdata64=None, imgtitle=None):\n",
    "    \"\"\"\n",
    "    用构新去旧的方式更新包含资源的笔记，返回新建笔记的id和资源id列表\n",
    "    \"\"\"\n",
    "    global jpapi\n",
    "    note = getnote(noteid)\n",
    "    origin_body = note.body\n",
    "    if (origin_body is None) or (len(origin_body) == 0):\n",
    "        log.critical(\n",
    "            f\"笔记《{note.title}》（id：{noteid}）的内容为空，没有包含待更新的资源文件信息。\"\n",
    "        )\n",
    "        return\n",
    "    print(f\"笔记《{note.title}》（id：{noteid}）的内容为：\\t{origin_body}\")\n",
    "\n",
    "    matches = re.findall(r\"\\[.*\\]\\(:.*\\/([A-Za-z0-9]{32})\\)\", origin_body)\n",
    "    for resid in matches:\n",
    "        if resid_used(resid):\n",
    "            jpapi.delete_resource(resid)\n",
    "            log.critical(f\"资源文件（id：{resid}）成功删除。\")\n",
    "        else:\n",
    "            log.critical(f\"资源文件（id：{resid}）不存在，无法删除，跳过。\")\n",
    "    jpapi.delete_note(noteid)\n",
    "    log.info(\n",
    "        f\"笔记《{note.title}》（id：{noteid}）中的资源文件{matches}和该笔记都已从笔记系统中删除！\"\n",
    "    )\n",
    "\n",
    "    # notenew_id = api.add_note(title=note.title, image_data_url=f\"data:image/png;base64,{imgdata64}\")\n",
    "    if parent_id:\n",
    "        notenew_id = createnote(\n",
    "            title=note.title, imgdata64=imgdata64, parent_id=parent_id\n",
    "        )\n",
    "    else:\n",
    "        notenew_id = createnote(title=note.title, imgdata64=imgdata64)\n",
    "    if parent_id != note.parent_id:\n",
    "        jpapi.modify_note(notenew_id, parent_id=parent_id)\n",
    "        nb_title = jpapi.get_notebook(parent_id).title\n",
    "        nb_old_title = jpapi.get_notebook(note.parent_id).title\n",
    "        log.critical(\n",
    "            f\"笔记《{note.title}》从笔记本《{nb_old_title}》调整到《{nb_title}》中！\"\n",
    "        )\n",
    "    notenew = getnote(notenew_id)\n",
    "    matchesnew = re.findall(r\"\\[.*\\]\\(:.*\\/([A-Za-z0-9]{32})\\)\", notenew.body)\n",
    "    res_id_lst = matchesnew\n",
    "    if not imgtitle:\n",
    "        imgtitle = f\"happyjoplin {arrow.now()}\"\n",
    "    jpapi.modify_resource(id_=res_id_lst[0], title=f\"{imgtitle}\")\n",
    "    log.info(\n",
    "        f\"构建新的笔记《{note.title}》（id：{notenew_id}）成功，并且构建了新的资源文件{matchesnew}进入笔记系统。\"\n",
    "    )\n",
    "    print(f\"笔记《{notenew.title}》（id：{notenew_id}）的内容为：\\t{notenew.body}\")\n",
    "\n",
    "    return notenew_id, res_id_lst"
   ]
  },
  {
   "cell_type": "markdown",
   "id": "9bbb906c",
   "metadata": {
    "lines_to_next_cell": 2
   },
   "source": [
    "### test_updatenote_imgdata()"
   ]
  },
  {
   "cell_type": "code",
   "execution_count": null,
   "id": "e6c44280",
   "metadata": {
    "lines_to_next_cell": 2
   },
   "outputs": [],
   "source": [
    "def test_updatenote_imgdata():\n",
    "    global jpapi\n",
    "    note_health_lst = searchnotes(\"健康动态日日升\")\n",
    "    noteid = note_health_lst[0].id\n",
    "    print(noteid)\n",
    "    newfilename = os.path.abspath(f\"{getdirmain() / 'img' / 'fengye.jpg'}\")\n",
    "    print(newfilename)\n",
    "    image_data = tools.encode_base64(newfilename)\n",
    "    # print(image_data)\n",
    "    notenew_id, res_id_lst = updatenote_imgdata(\n",
    "        noteid=noteid, imgdata64=image_data, imgtitle=\"QR.png\"\n",
    "    )\n",
    "    print(f\"包含新资源文件的新笔记的id为：{notenew_id}\")\n",
    "    resfile = jpapi.get_resource_file(id_=res_id_lst[0])\n",
    "    print(f\"资源文件大小（二进制）为：{len(resfile)}字节。\")"
   ]
  },
  {
   "cell_type": "markdown",
   "id": "8627e0e2",
   "metadata": {
    "lines_to_next_cell": 2
   },
   "source": [
    "### explore_resource(res_id)"
   ]
  },
  {
   "cell_type": "code",
   "execution_count": null,
   "id": "746b1297",
   "metadata": {
    "lines_to_next_cell": 2
   },
   "outputs": [],
   "source": [
    "def explore_resource(res_id):\n",
    "    global jpapi\n",
    "    # fields = ['encryption_blob_encrypted', 'share_id', 'mime', 'updated_time', 'master_key_id', 'is_shared', 'user_updated_time', 'encryption_applied', 'user_created_time', 'size', 'filename', 'file_extension', 'encryption_cipher_text', 'id', 'title', 'created_time']\n",
    "    # res4test = api.get_resource(res_id, fileds=fields)\n",
    "    resnew = jpapi.get_resource(res_id)\n",
    "    log.info(f\"id为{res_id}的资源标题为《{resnew.title}》\")\n",
    "    res_file = jpapi.get_resource_file(res_id)\n",
    "    log.info(f\"id为{res_id}的资源文件大小为{len(res_file)}\")"
   ]
  },
  {
   "cell_type": "markdown",
   "id": "5afe15ce",
   "metadata": {
    "lines_to_next_cell": 2
   },
   "source": [
    "### modify_resource(res_id, imgdata64=None)"
   ]
  },
  {
   "cell_type": "code",
   "execution_count": null,
   "id": "befc0d75",
   "metadata": {
    "lines_to_next_cell": 2
   },
   "outputs": [],
   "source": [
    "@timethis\n",
    "def modify_resource(res_id, imgdata64=None):\n",
    "    \"\"\"\n",
    "    试图更新data但是无法成功，暂存之\n",
    "    \"\"\"\n",
    "    global jpapi\n",
    "    res = jpapi.get_resource(res_id)\n",
    "    log.info(f\"id为{res_id}的资源标题为《{res.title}》\")\n",
    "    res_file = jpapi.get_resource_file(res_id)\n",
    "    log.info(f\"id为{res_id}的资源文件大小为{len(res_file)}\")\n",
    "    if not imgdata64:\n",
    "        oldtitle = res.title\n",
    "        newtitle = \"This time is modify time for me.\"\n",
    "        jpapi.modify_resource(id_=res_id, title=newtitle)\n",
    "        log.info(f\"id为{res_id}的资源标题从《{oldtitle}》更改为《{newtitle}》\")\n",
    "    else:\n",
    "        datastr = f\"data:image/png;base64,{imgdata64}\"\n",
    "        begin_str = f\"curl -X PUT -F 'data=\\\"{datastr}\\\"'\"\n",
    "        props_str = ' -F \\'props={\"title\":\"my modified title\"}\\''\n",
    "        url_str = f\" {jpapi.url}/resources/{res_id}?token={jpapi.token}\"\n",
    "        update_curl_str = begin_str + props_str + url_str\n",
    "        print(update_curl_str)\n",
    "        outstr = execcmd(update_curl_str)\n",
    "        log.info(f\"{outstr}\")\n",
    "        # api.modify_resource(id_=res_id, data=f\"data:image/png;base64,{imgdata64}\")\n",
    "    resnew = jpapi.get_resource(res_id)\n",
    "    log.info(f\"id为{res_id}的资源标题为《{resnew.title}》\")\n",
    "    res_file = jpapi.get_resource_file(res_id)\n",
    "    log.info(f\"id为{res_id}的资源文件大小为{len(res_file)}\")\n",
    "\n",
    "    return res_file"
   ]
  },
  {
   "cell_type": "markdown",
   "id": "63a6702c",
   "metadata": {
    "lines_to_next_cell": 2
   },
   "source": [
    "### getreslst(noteid)"
   ]
  },
  {
   "cell_type": "code",
   "execution_count": null,
   "id": "185f1670",
   "metadata": {
    "lines_to_next_cell": 2
   },
   "outputs": [],
   "source": [
    "def getreslst(noteid):\n",
    "    \"\"\"\n",
    "    以字典列表的形式返回输入id笔记包含的资源文件，包含id、title和contentb\n",
    "    \"\"\"\n",
    "    global jpapi\n",
    "    dLst = jpapi.get_resources(note_id=noteid)\n",
    "    # print(type(dLst), dLst)\n",
    "    reslst = []\n",
    "    for res in dLst.items:\n",
    "        sond = dict()\n",
    "        sond[\"id\"] = res.id\n",
    "        sond[\"title\"] = res.title\n",
    "        sond[\"contentb\"] = jpapi.get_resource_file(res.id)\n",
    "        reslst.append(sond)\n",
    "    # print(reslst[0])\n",
    "    return reslst"
   ]
  },
  {
   "cell_type": "markdown",
   "id": "297959a3",
   "metadata": {
    "lines_to_next_cell": 2
   },
   "source": [
    "### searchnotes(key: str, filter: str= \"title\", parent_id=None)"
   ]
  },
  {
   "cell_type": "code",
   "execution_count": null,
   "id": "3a5fb166",
   "metadata": {
    "lines_to_next_cell": 2
   },
   "outputs": [],
   "source": [
    "@timethis\n",
    "def searchnotes(key: str, filter: str = \"title\", parent_id: str = None):\n",
    "    \"\"\"\n",
    "    传入关键字搜索并返回笔记列表，每个笔记中包含了所有可能提取field值\n",
    "    \"\"\"\n",
    "    global jpapi\n",
    "    # 经过测试，fields中不能携带的属性值有：latitude, longitude, altitude, master_key_id, body_html,  image_data_url, crop_rect，另外shared_id对于共享笔记本下的笔记无法查询，出错\n",
    "    fields = \"id, parent_id, title, body, created_time, updated_time, is_conflict, author, source_url, is_todo, todo_due, todo_completed, source, source_application, application_data, order, user_created_time, user_updated_time, encryption_cipher_text, encryption_applied, markup_language, is_shared, conflict_original_id\"\n",
    "    query = f\"{filter}:{key}\"\n",
    "    results = jpapi.search(query=query, fields=fields).items\n",
    "    log.info(f\"搜索“{query}”，找到{len(results)}条笔记\")\n",
    "    if parent_id:\n",
    "        nb = jpapi.get_notebook(parent_id)\n",
    "        results = [note for note in results if note.parent_id == parent_id]\n",
    "        log.info(f\"限定笔记本《{nb.title}》后，搜索结果有{len(results)}条笔记\")\n",
    "\n",
    "    return results"
   ]
  },
  {
   "cell_type": "markdown",
   "id": "45f10b2c",
   "metadata": {
    "lines_to_next_cell": 2
   },
   "source": [
    "### readinifromcloud()"
   ]
  },
  {
   "cell_type": "code",
   "execution_count": null,
   "id": "af6353b5",
   "metadata": {
    "lines_to_next_cell": 2
   },
   "outputs": [],
   "source": [
    "@set_timeout(180, after_timeout)\n",
    "def readinifromcloud():\n",
    "    \"\"\"\n",
    "    通过对比更新时间（timestamp）来判断云端配置笔记是否有更新，有更新则更新至本地ini文件，确保数据新鲜\n",
    "    \"\"\"\n",
    "    # 在happyjpsys配置文件中查找ini_cloud_updatetimestamp，找不到则表示首次运行，置零\n",
    "    if not (\n",
    "        ini_cloud_updatetimestamp := getcfpoptionvalue(\n",
    "            \"happyjpsys\", \"joplin\", \"ini_cloud_updatetimestamp\"\n",
    "        )\n",
    "    ):\n",
    "        ini_cloud_updatetimestamp = 0\n",
    "\n",
    "    # 在happyjp配置文件中查找ini_cloud_id，找不到则在云端搜索，搜不到就新建一个，无论是找到了还是新建一个，在happyjp中相应赋值\n",
    "    if (\n",
    "        noteid_inifromcloud := getcfpoptionvalue(\"happyjp\", \"joplin\", \"ini_cloud_id\")\n",
    "    ) is None:\n",
    "        if (resultitems := searchnotes(\"happyjoplin云端配置\")) and (\n",
    "            len(resultitems) > 0\n",
    "        ):\n",
    "            noteid_inifromcloud = resultitems[0].id\n",
    "        else:\n",
    "            noteid_inifromcloud = createnote(\"happyjoplin云端配置\", \"\")\n",
    "        setcfpoptionvalue(\"happyjp\", \"joplin\", \"ini_cloud_id\", str(noteid_inifromcloud))\n",
    "    # print(noteid_inifromcloud)\n",
    "\n",
    "    note = getnote(noteid_inifromcloud)\n",
    "    noteupdatetimewithzone = arrow.get(note.updated_time).to(get_localzone())\n",
    "    # print(arrow.get(ini_cloud_updatetimestamp, tzinfo=get_localzone()), note.updated_time, noteupdatetimewithzone)\n",
    "    if noteupdatetimewithzone.timestamp() == ini_cloud_updatetimestamp:\n",
    "        # print(f'配置笔记无更新【最新更新时间为：{noteupdatetimewithzone}】，不对本地化的ini配置文件做更新。')\n",
    "        return\n",
    "\n",
    "    items = note.body.split(\"\\n\")\n",
    "    # print(items)\n",
    "    fileobj = open(\n",
    "        str(getdirmain() / \"data\" / \"happyjpinifromcloud.ini\"), \"w\", encoding=\"utf-8\"\n",
    "    )\n",
    "    for item in items:\n",
    "        fileobj.write(item + \"\\n\")\n",
    "    fileobj.close()\n",
    "\n",
    "    setcfpoptionvalue(\n",
    "        \"happyjpsys\",\n",
    "        \"joplin\",\n",
    "        \"ini_cloud_updatetimestamp\",\n",
    "        str(noteupdatetimewithzone.timestamp()),\n",
    "    )\n",
    "    log.info(\n",
    "        f\"云端配置笔记有更新【（{noteupdatetimewithzone}）->（{arrow.get(ini_cloud_updatetimestamp).to(get_localzone())}）】，更新本地化的ini配置文件。\"\n",
    "    )"
   ]
  },
  {
   "cell_type": "markdown",
   "id": "5fa1cdbb",
   "metadata": {
    "lines_to_next_cell": 2
   },
   "source": [
    "### getinivaluefromcloud(section, option)"
   ]
  },
  {
   "cell_type": "code",
   "execution_count": null,
   "id": "339c4e85",
   "metadata": {
    "lines_to_next_cell": 2
   },
   "outputs": [],
   "source": [
    "def getinivaluefromcloud(section, option):\n",
    "    readinifromcloud()\n",
    "\n",
    "    return getcfpoptionvalue(\"happyjpinifromcloud\", section, option)"
   ]
  },
  {
   "cell_type": "markdown",
   "id": "e11711a3",
   "metadata": {
    "lines_to_next_cell": 2
   },
   "source": [
    "### content_hash(note_id)"
   ]
  },
  {
   "cell_type": "code",
   "execution_count": null,
   "id": "605d34e1",
   "metadata": {},
   "outputs": [],
   "source": [
    "def content_hash(note_id):\n",
    "    note = getnote(note_id)\n",
    "    return hashlib.md5(note.body.encode()).hexdigest()"
   ]
  },
  {
   "cell_type": "markdown",
   "id": "603ee9d4",
   "metadata": {},
   "source": [
    "### 获取jpapi，全局共用"
   ]
  },
  {
   "cell_type": "code",
   "execution_count": null,
   "id": "ffd281ac",
   "metadata": {},
   "outputs": [],
   "source": [
    "jpapi = getapi()"
   ]
  },
  {
   "cell_type": "markdown",
   "id": "5d588b65",
   "metadata": {},
   "source": [
    "## 主函数main（）"
   ]
  },
  {
   "cell_type": "code",
   "execution_count": null,
   "id": "9d40f3d8",
   "metadata": {},
   "outputs": [],
   "source": [
    "if __name__ == \"__main__\":\n",
    "    if not_IPython():\n",
    "        log.info(f\"开始运行文件\\t{__file__}\")\n",
    "    # joplinport()\n",
    "\n",
    "    note_ids_to_monitor = [\n",
    "        \"ed8523d3812143e0943acd9c6cdd3ffe\",\n",
    "        \"9025c19f884c40609bef2133d1a224a1\",\n",
    "    ]  # 需要监控的笔记ID列表，替换为实际的GUID\n",
    "    for note_id in note_ids_to_monitor:\n",
    "        updated_time = getnote(note_id).updated_time\n",
    "        print(updated_time)\n",
    "        utc_arrow = arrow.get(updated_time)\n",
    "        local_tz = get_localzone()\n",
    "        print(local_tz)\n",
    "        # local_arrow = utc_arrow.to('Asia/Shanghai')\n",
    "        local_arrow = utc_arrow.to(local_tz)\n",
    "        print(local_arrow)\n",
    "\n",
    "    # createnote(title=\"重生的笔记\", body=\"some things happen\", noteid_spec=\"3ffccc7c48fc4b25bcd7cf3841421ce5\")\n",
    "    # test_updatenote_imgdata()\n",
    "    # test_modify_res()\n",
    "    # log.info(f\"ping服务器返回结果：\\t{api.ping()}\")\n",
    "    # allnotes = getallnotes()[:6]\n",
    "    # # print(allnotes)\n",
    "    # myid = allnotes[-3].id\n",
    "    # print(getnote(myid))\n",
    "\n",
    "    # location_keys = [\"longitude\", \"latitude\", \"altitude\"]\n",
    "    # fields=\",\".join([\"id,title,body,parent_id\"] + location_keys)\n",
    "    # getnoteswithfields(fields)\n",
    "\n",
    "    # print(getinivaluefromcloud(\"happyjplog\", \"loglimit\"))\n",
    "    # findnotes = searchnotes(\"title:健康*\")\n",
    "    # findnotes = searchnotes(\"title:文峰*\")\n",
    "\n",
    "    # cmd = \"joplin ls notebook\"\n",
    "    # cmd = \"joplin status\"\n",
    "    # cmd = \"joplin ls -l\"\n",
    "    # result = joplincmd(cmd)\n",
    "    # print(result.stdout)\n",
    "\n",
    "    if not_IPython():\n",
    "        log.info(f\"Done.结束执行文件\\t{__file__}\")"
   ]
  }
 ],
 "metadata": {
  "jupytext": {
   "cell_metadata_filter": "-all",
   "encoding": "# -*- coding: utf-8 -*-",
   "formats": "ipynb,py:percent",
   "main_language": "python",
   "notebook_metadata_filter": "jupytext,-kernelspec,-jupytext.text_representation.jupytext_version"
  }
 },
 "nbformat": 4,
 "nbformat_minor": 5
}
