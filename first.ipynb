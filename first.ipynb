{
 "cells": [
  {
   "cell_type": "markdown",
   "id": "b2b9deba",
   "metadata": {},
   "source": [
    "# 首函"
   ]
  },
  {
   "cell_type": "markdown",
   "id": "e38312cc",
   "metadata": {},
   "source": [
    "首函，用于定位相对目录，丰富工作目录路径，还有构建路径的基本函数，配置中文字体支持matplotlib"
   ]
  },
  {
   "cell_type": "markdown",
   "id": "f01f2633",
   "metadata": {},
   "source": [
    "## 重要库导入"
   ]
  },
  {
   "cell_type": "code",
   "execution_count": 2,
   "id": "df5a854e",
   "metadata": {},
   "outputs": [],
   "source": [
    "import os\n",
    "import sys\n",
    "from pathlib import Path\n",
    "\n",
    "import matplotlib.font_manager as fm\n",
    "import matplotlib.pyplot as pltpp"
   ]
  },
  {
   "cell_type": "code",
   "execution_count": 3,
   "id": "4501ceec",
   "metadata": {
    "lines_to_next_cell": 2
   },
   "outputs": [],
   "source": [
    "import pathmagic\n",
    "\n",
    "with pathmagic.context():\n",
    "    import func.fordirmainonly as fdmo"
   ]
  },
  {
   "cell_type": "markdown",
   "id": "49f063ff",
   "metadata": {},
   "source": [
    "## 函数库"
   ]
  },
  {
   "cell_type": "markdown",
   "id": "71e39477",
   "metadata": {},
   "source": [
    "### touchfilepath2depth(filepath: Path)"
   ]
  },
  {
   "cell_type": "markdown",
   "id": "1e95e38b",
   "metadata": {
    "lines_to_next_cell": 2
   },
   "source": [
    "from func.logme import log"
   ]
  },
  {
   "cell_type": "code",
   "execution_count": null,
   "id": "69305c9a",
   "metadata": {},
   "outputs": [],
   "source": [
    "def touchfilepath2depth(filepath: Path) -> Path:\n",
    "    filep = Path(filepath)\n",
    "    filep.parent.mkdir(parents=True, exist_ok=True)\n",
    "\n",
    "    return filep"
   ]
  },
  {
   "cell_type": "markdown",
   "id": "e6efdb50",
   "metadata": {
    "lines_to_next_cell": 2
   },
   "source": [
    "### getdirmain()"
   ]
  },
  {
   "cell_type": "code",
   "execution_count": 5,
   "id": "6d9e5ad1",
   "metadata": {},
   "outputs": [],
   "source": [
    "def getdirmain() -> None:\n",
    "    fdmodir = fdmo.__file__\n",
    "    dirmainin = os.path.split(fdmodir)[0]\n",
    "    dirmaininoutput = os.path.split(dirmainin)[0]\n",
    "\n",
    "    return Path(dirmaininoutput).resolve()"
   ]
  },
  {
   "cell_type": "markdown",
   "id": "b574a7a1",
   "metadata": {},
   "source": [
    "## 显性指定中文字体并配置matplotlib"
   ]
  },
  {
   "cell_type": "code",
   "execution_count": 6,
   "id": "366a8b8d",
   "metadata": {},
   "outputs": [],
   "source": [
    "# 添加字体路径（容器内路径）\n",
    "font_path = \"/usr/share/fonts/simhei.ttf\"  # 指定具体字体文件\n",
    "# 判断路径为了兼容其它能正常识别中文字体路径的环境，比如手机上的termux\n",
    "if Path(font_path).exists():\n",
    "    fm.fontManager.addfont(font_path)\n",
    "    print(f\"中文字体路径{font_path}存在\")\n",
    "\n",
    "# 配置全局字体\n",
    "pltpp.rcParams['font.family'] = 'sans-serif'\n",
    "pltpp.rcParams['font.sans-serif'] = ['SimHei']  # 使用字体Family名\n",
    "pltpp.rcParams['axes.unicode_minus'] = False    # 解决负号显示问题"
   ]
  },
  {
   "cell_type": "markdown",
   "id": "1aefe488",
   "metadata": {},
   "source": [
    "## 定义全局变量"
   ]
  },
  {
   "cell_type": "code",
   "execution_count": 7,
   "id": "c927d5df",
   "metadata": {
    "lines_to_next_cell": 2
   },
   "outputs": [],
   "source": [
    "dirmainpath = getdirmain()\n",
    "dirmain = str(getdirmain())\n",
    "dirlog = str(getdirmain() / \"log\" / \"happyjoplin.log\")\n",
    "dbpathworkplan = str(getdirmain() / \"data\" / \"workplan.db\")\n",
    "dbpathquandan = str(getdirmain() / \"data\" / \"quandan.db\")\n",
    "dbpathdingdanmingxi = str(getdirmain() / \"data\" / \"dingdanmingxi.db\")\n",
    "ywananchor = 50000  # 纵轴标识万化锚点"
   ]
  },
  {
   "cell_type": "code",
   "execution_count": 8,
   "id": "847a21c7",
   "metadata": {},
   "outputs": [],
   "source": [
    "path2include = [\"etc\", \"func\", \"work\", \"life\", \"study\"]\n",
    "for p2i in path2include:\n",
    "    combinepath = str((dirmainpath / p2i).resolve())\n",
    "    if combinepath not in sys.path:\n",
    "        sys.path.append(combinepath)"
   ]
  },
  {
   "cell_type": "markdown",
   "id": "dad0016c",
   "metadata": {},
   "source": [
    "## 主函数，main()"
   ]
  },
  {
   "cell_type": "code",
   "execution_count": 9,
   "id": "eac25b58",
   "metadata": {},
   "outputs": [
    {
     "name": "stdout",
     "output_type": "stream",
     "text": [
      "/config/codebase/happyjoplin\n",
      "/usr/lib/python312.zip\n",
      "/usr/lib/python3.12\n",
      "/usr/lib/python3.12/lib-dynload\n",
      "\n",
      "/config/codebase/happyjoplin/venv/lib/python3.12/site-packages\n",
      "..\n",
      ".\n",
      "/config/codebase/happyjoplin/etc\n",
      "/config/codebase/happyjoplin/func\n",
      "/config/codebase/happyjoplin/work\n",
      "/config/codebase/happyjoplin/life\n",
      "/config/codebase/happyjoplin/study\n",
      "Done.\n"
     ]
    }
   ],
   "source": [
    "if __name__ == \"__main__\":\n",
    "    # print(f'开始测试文件\\t{__file__}')\n",
    "    print(getdirmain())\n",
    "    for dr in sys.path:\n",
    "        print(dr)\n",
    "    print(\"Done.\")"
   ]
  }
 ],
 "metadata": {
  "jupytext": {
   "cell_metadata_filter": "-all",
   "encoding": "# encoding:utf-8",
   "formats": "ipynb,py:percent",
   "main_language": "python",
   "notebook_metadata_filter": "jupytext,-kernelspec,-jupytext.text_representation.jupytext_version"
  },
  "kernelspec": {
   "display_name": "venv",
   "language": "python",
   "name": "python3"
  },
  "language_info": {
   "codemirror_mode": {
    "name": "ipython",
    "version": 3
   },
   "file_extension": ".py",
   "mimetype": "text/x-python",
   "name": "python",
   "nbconvert_exporter": "python",
   "pygments_lexer": "ipython3",
   "version": "3.12.3"
  }
 },
 "nbformat": 4,
 "nbformat_minor": 5
}
