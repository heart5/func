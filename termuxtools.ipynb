{
 "cells": [
  {
   "cell_type": "markdown",
   "id": "1a1611ab",
   "metadata": {},
   "source": [
    "# termux工具集，API"
   ]
  },
  {
   "cell_type": "markdown",
   "id": "d3b0a162",
   "metadata": {},
   "source": [
    "## 引入重要库"
   ]
  },
  {
   "cell_type": "code",
   "execution_count": null,
   "id": "5745fbb4",
   "metadata": {},
   "outputs": [],
   "source": [
    "import json\n",
    "import re\n",
    "import subprocess\n",
    "from typing import Dict, Union"
   ]
  },
  {
   "cell_type": "code",
   "execution_count": null,
   "id": "8e556a82",
   "metadata": {
    "lines_to_next_cell": 2
   },
   "outputs": [],
   "source": [
    "import pathmagic\n",
    "\n",
    "with pathmagic.context():\n",
    "    from func.common import utils\n",
    "    from func.logme import log\n",
    "    from func.sysfunc import (\n",
    "        after_timeout,\n",
    "        execcmd,\n",
    "        is_tool_valid,\n",
    "        not_IPython,\n",
    "        set_timeout,\n",
    "    )"
   ]
  },
  {
   "cell_type": "markdown",
   "id": "758733cc",
   "metadata": {},
   "source": [
    "## 功能函数集合"
   ]
  },
  {
   "cell_type": "code",
   "execution_count": null,
   "id": "17f78659",
   "metadata": {},
   "outputs": [],
   "source": [
    "\"\"\"\n",
    "    implementation of all the termux-api commands\n",
    "    via subprocesses,\n",
    "\"\"\""
   ]
  },
  {
   "cell_type": "markdown",
   "id": "b41312ce",
   "metadata": {
    "lines_to_next_cell": 2
   },
   "source": [
    "### evaloutput(output: Union[str, bool, None]) -> Union[Dict, bool, str]"
   ]
  },
  {
   "cell_type": "code",
   "execution_count": null,
   "id": "546d341e",
   "metadata": {
    "lines_to_next_cell": 2
   },
   "outputs": [],
   "source": [
    "def evaloutput(output: Union[str, bool, None]) -> Union[Dict, bool, str]:\n",
    "    \"\"\"对output进行解析，返回字典或布尔值或原字符串\"\"\"\n",
    "    if output is None or output == \"null\" or len(output) == 0:\n",
    "        return False\n",
    "    # 转换成字典输出\n",
    "    if isinstance(output, str) and output.startswith(\"{\") and output.endswith(\"}\"):\n",
    "        try:\n",
    "            return json.loads(output)\n",
    "        except json.JSONDecodeError:\n",
    "            return output\n",
    "    # 转换成布尔值输出\n",
    "    if isinstance(output, str) and output.lower() in [\"true\", \"false\"]:\n",
    "        return output.lower() == \"true\"\n",
    "    # 其他情况返回原值\n",
    "    return output"
   ]
  },
  {
   "cell_type": "markdown",
   "id": "c05971d0",
   "metadata": {
    "lines_to_next_cell": 2
   },
   "source": [
    "### info2dict(info: str) -> Dict"
   ]
  },
  {
   "cell_type": "code",
   "execution_count": null,
   "id": "1b14ef4f",
   "metadata": {
    "lines_to_next_cell": 2
   },
   "outputs": [],
   "source": [
    "def info2dict(info: str) -> Dict:\n",
    "    \"\"\"Convert the output of termux-info to a dictionary.\n",
    "\n",
    "    Args:\n",
    "        info (str): The output of termux-info.\n",
    "\n",
    "    Returns:\n",
    "        Dict: A dictionary containing the information.\n",
    "    \"\"\"\n",
    "    ptn = re.compile(\"\\n?.+?:\\n\")\n",
    "\n",
    "    vals = re.split(ptn, info)\n",
    "    vals = vals[1:]\n",
    "\n",
    "    keys = re.findall(ptn, info)\n",
    "    keys = [x.strip() for x in keys]\n",
    "\n",
    "    return dict(zip(keys, vals))"
   ]
  },
  {
   "cell_type": "markdown",
   "id": "a43c9a26",
   "metadata": {
    "lines_to_next_cell": 2
   },
   "source": [
    "### battery_status() -> Union[Dict, bool]"
   ]
  },
  {
   "cell_type": "code",
   "execution_count": null,
   "id": "898dbe8d",
   "metadata": {
    "lines_to_next_cell": 2
   },
   "outputs": [],
   "source": [
    "@set_timeout(60, after_timeout)\n",
    "def battery_status() -> Union[Dict, bool]:\n",
    "    \"\"\"获取电池状态，返回格式：{\"status\": xx, \"health\": xx, \"plugged\": xx, \"voltage\": xx, \"temperature\": xx}\"\"\"\n",
    "    out = subprocess.check_output(\"termux-battery-status\", shell=True).decode(\"utf-8\")\n",
    "    if \"error\" in out:\n",
    "        return False\n",
    "    else:\n",
    "        status = out.split(\"\\n\")[0].split(\":\")[1].strip()\n",
    "        health = out.split(\"\\n\")[1].split(\":\")[1].strip()\n",
    "        plugged = out.split(\"\\n\")[2].split(\":\")[1].strip()\n",
    "        voltage = out.split(\"\\n\")[3].split(\":\")[1].strip()\n",
    "        temperature = out.split(\"\\n\")[4].split(\":\")[1].strip()\n",
    "        return {\"status\": status, \"health\": health, \"plugged\": plugged, \"voltage\": voltage, \"temperature\": temperature}"
   ]
  },
  {
   "cell_type": "markdown",
   "id": "429e499d",
   "metadata": {
    "lines_to_next_cell": 2
   },
   "source": [
    "### camera_info() -> Union[Dict, bool]"
   ]
  },
  {
   "cell_type": "code",
   "execution_count": null,
   "id": "23e3e566",
   "metadata": {
    "lines_to_next_cell": 2
   },
   "outputs": [],
   "source": [
    "def camera_info() -> Union[Dict, bool]:\n",
    "    \"\"\"获取手机相机信息\n",
    "\n",
    "    :return: 字典，包含相机信息；False，获取失败\n",
    "    \"\"\"\n",
    "    out, rc, err = utils.execute(\"termux-camera-info\")\n",
    "    if rc:\n",
    "        return False\n",
    "    return evaloutput(out)"
   ]
  },
  {
   "cell_type": "markdown",
   "id": "e2402c45",
   "metadata": {
    "lines_to_next_cell": 2
   },
   "source": [
    "### termux_camera_photo()"
   ]
  },
  {
   "cell_type": "code",
   "execution_count": null,
   "id": "77c12400",
   "metadata": {
    "lines_to_next_cell": 2
   },
   "outputs": [],
   "source": [
    "def termux_camera_photo():\n",
    "    out, rc, err = utils.execute(\"termux-camera-photo\")\n",
    "    if rc:\n",
    "        raise Exception(err)\n",
    "    return out"
   ]
  },
  {
   "cell_type": "markdown",
   "id": "91b73c56",
   "metadata": {
    "lines_to_next_cell": 2
   },
   "source": [
    "### termux_clipboard_get()"
   ]
  },
  {
   "cell_type": "code",
   "execution_count": null,
   "id": "af0ecdca",
   "metadata": {
    "lines_to_next_cell": 2
   },
   "outputs": [],
   "source": [
    "def termux_clipboard_get():\n",
    "    out, rc, err = utils.execute(\"termux-clipboard-get\")\n",
    "    if rc:\n",
    "        raise Exception(err)\n",
    "    return out"
   ]
  },
  {
   "cell_type": "markdown",
   "id": "e35b70b7",
   "metadata": {
    "lines_to_next_cell": 2
   },
   "source": [
    "### termux_clipboard_set()"
   ]
  },
  {
   "cell_type": "code",
   "execution_count": null,
   "id": "49ba52fd",
   "metadata": {
    "lines_to_next_cell": 2
   },
   "outputs": [],
   "source": [
    "def termux_clipboard_set():\n",
    "    out, rc, err = utils.execute(\"termux-clipboard-set\")\n",
    "    if rc:\n",
    "        raise Exception(err)\n",
    "    return out"
   ]
  },
  {
   "cell_type": "markdown",
   "id": "d97d43e3",
   "metadata": {
    "lines_to_next_cell": 2
   },
   "source": [
    "### termux_contact_list()"
   ]
  },
  {
   "cell_type": "code",
   "execution_count": null,
   "id": "115e85ef",
   "metadata": {
    "lines_to_next_cell": 2
   },
   "outputs": [],
   "source": [
    "def termux_contact_list():\n",
    "    out, rc, err = utils.execute(\"termux-contact-list\")\n",
    "    if rc:\n",
    "        raise Exception(err)\n",
    "    return out"
   ]
  },
  {
   "cell_type": "markdown",
   "id": "4295ced5",
   "metadata": {
    "lines_to_next_cell": 2
   },
   "source": [
    "### termux_dialog()"
   ]
  },
  {
   "cell_type": "code",
   "execution_count": null,
   "id": "d3ab9019",
   "metadata": {
    "lines_to_next_cell": 2
   },
   "outputs": [],
   "source": [
    "def termux_dialog():\n",
    "    out, rc, err = utils.execute(\"termux-dialog\")\n",
    "    if rc:\n",
    "        raise Exception(err)\n",
    "    return out"
   ]
  },
  {
   "cell_type": "markdown",
   "id": "fb4e2eca",
   "metadata": {
    "lines_to_next_cell": 2
   },
   "source": [
    "### termux_download()"
   ]
  },
  {
   "cell_type": "code",
   "execution_count": null,
   "id": "f7359170",
   "metadata": {
    "lines_to_next_cell": 2
   },
   "outputs": [],
   "source": [
    "def termux_download():\n",
    "    out, rc, err = utils.execute(\"termux-download\")\n",
    "    if rc:\n",
    "        raise Exception(err)\n",
    "    return out"
   ]
  },
  {
   "cell_type": "markdown",
   "id": "65ef7b99",
   "metadata": {
    "lines_to_next_cell": 2
   },
   "source": [
    "### termux_fix_shebang()"
   ]
  },
  {
   "cell_type": "code",
   "execution_count": null,
   "id": "45585e32",
   "metadata": {
    "lines_to_next_cell": 2
   },
   "outputs": [],
   "source": [
    "def termux_fix_shebang():\n",
    "    out, rc, err = utils.execute(\"termux-fix-shebang\")\n",
    "    if rc:\n",
    "        raise Exception(err)\n",
    "    return out"
   ]
  },
  {
   "cell_type": "markdown",
   "id": "ab6fbcda",
   "metadata": {
    "lines_to_next_cell": 2
   },
   "source": [
    "### termux_info()"
   ]
  },
  {
   "cell_type": "code",
   "execution_count": null,
   "id": "74bb4e44",
   "metadata": {
    "lines_to_next_cell": 2
   },
   "outputs": [],
   "source": [
    "def termux_info():\n",
    "    out, rc, err = utils.execute(\"termux-info\")\n",
    "    if rc:\n",
    "        raise Exception(err)\n",
    "    return out"
   ]
  },
  {
   "cell_type": "markdown",
   "id": "f267f6d0",
   "metadata": {
    "lines_to_next_cell": 2
   },
   "source": [
    "### termux_infrared_frequencies()"
   ]
  },
  {
   "cell_type": "code",
   "execution_count": null,
   "id": "3336042d",
   "metadata": {
    "lines_to_next_cell": 2
   },
   "outputs": [],
   "source": [
    "def termux_infrared_frequencies():\n",
    "    out, rc, err = utils.execute(\"termux-infrared-frequencies\")\n",
    "    if rc:\n",
    "        raise Exception(err)\n",
    "    return out"
   ]
  },
  {
   "cell_type": "markdown",
   "id": "3ab98506",
   "metadata": {
    "lines_to_next_cell": 2
   },
   "source": [
    "### termux_infrared_transmit()"
   ]
  },
  {
   "cell_type": "code",
   "execution_count": null,
   "id": "73fc5d22",
   "metadata": {
    "lines_to_next_cell": 2
   },
   "outputs": [],
   "source": [
    "def termux_infrared_transmit():\n",
    "    out, rc, err = utils.execute(\"termux-infrared-transmit\")\n",
    "    if rc:\n",
    "        raise Exception(err)\n",
    "    return out"
   ]
  },
  {
   "cell_type": "markdown",
   "id": "fab92d40",
   "metadata": {
    "lines_to_next_cell": 2
   },
   "source": [
    "### termux_location()"
   ]
  },
  {
   "cell_type": "code",
   "execution_count": null,
   "id": "633ff7b2",
   "metadata": {
    "lines_to_next_cell": 2
   },
   "outputs": [],
   "source": [
    "@set_timeout(210, after_timeout)\n",
    "def termux_location() -> object:\n",
    "    \"\"\"获取当前位置信息，返回格式：{\"latitude\": xx, \"longitude\": xx, ...}\"\"\"\n",
    "    try:\n",
    "        out = execcmd(\"termux-location\")\n",
    "        result = evaloutput(out)\n",
    "        if \"latitude\" in result and \"longitude\" in result:\n",
    "            return result\n",
    "    except Exception as e:\n",
    "        log.warning(f\"实时定位失败: {str(e)}\")\n",
    "\n",
    "    # 第二步：尝试缓存定位（最后一次成功记录）\n",
    "    try:\n",
    "        out_last = execcmd(\"termux-location -r last\")\n",
    "        if out_last:\n",
    "            result_last = evaloutput(out_last)\n",
    "            # 验证定位数据有效性（必须包含经纬度）\n",
    "            if \"latitude\" in result_last and \"longitude\" in result_last:\n",
    "                # 替换provider为缓存标记\n",
    "                result_last[\"provider\"] = \"cached\"\n",
    "                return result_last\n",
    "    except Exception as e:\n",
    "        log.error(f\"缓存定位失败: {str(e)}\")\n",
    "\n",
    "    # 终极回退：网络定位（需Termux API权限）\n",
    "    try:\n",
    "        out_network = execcmd(\"termux-location -p network\")\n",
    "        if out_network:\n",
    "            result_network = evaloutput(out_network)\n",
    "            # 验证定位数据有效性（必须包含经纬度）\n",
    "            if \"latitude\" in result_network and \"longitude\" in result_network:\n",
    "                # 替换provider为网络标记\n",
    "                result_network[\"provider\"] = \"network\"\n",
    "                return result_network\n",
    "    except Exception as e:\n",
    "        log.error(f\"网络定位失败: {str(e)}\")\n",
    "\n",
    "    return False"
   ]
  },
  {
   "cell_type": "markdown",
   "id": "08541219",
   "metadata": {
    "lines_to_next_cell": 2
   },
   "source": [
    "### termux_notification()"
   ]
  },
  {
   "cell_type": "code",
   "execution_count": null,
   "id": "6f851aa0",
   "metadata": {
    "lines_to_next_cell": 2
   },
   "outputs": [],
   "source": [
    "def termux_notification():\n",
    "    out, rc, err = utils.execute(\"termux-notification\")\n",
    "    if rc:\n",
    "        raise Exception(err)\n",
    "    return out"
   ]
  },
  {
   "cell_type": "markdown",
   "id": "a70c9942",
   "metadata": {
    "lines_to_next_cell": 2
   },
   "source": [
    "### termux_notification_remove()"
   ]
  },
  {
   "cell_type": "code",
   "execution_count": null,
   "id": "5f953821",
   "metadata": {
    "lines_to_next_cell": 2
   },
   "outputs": [],
   "source": [
    "def termux_notification_remove():\n",
    "    out, rc, err = utils.execute(\"termux-notification-remote\")\n",
    "    if rc:\n",
    "        raise Exception(err)\n",
    "    return out"
   ]
  },
  {
   "cell_type": "markdown",
   "id": "b8d56c25",
   "metadata": {
    "lines_to_next_cell": 2
   },
   "source": [
    "### termux_open()"
   ]
  },
  {
   "cell_type": "code",
   "execution_count": null,
   "id": "94892da5",
   "metadata": {
    "lines_to_next_cell": 2
   },
   "outputs": [],
   "source": [
    "def termux_open():\n",
    "    out, rc, err = utils.execute(\"termux-open\")\n",
    "    if rc:\n",
    "        raise Exception(err)\n",
    "    return out"
   ]
  },
  {
   "cell_type": "markdown",
   "id": "bf12fe1e",
   "metadata": {
    "lines_to_next_cell": 2
   },
   "source": [
    "### termux_open_url()"
   ]
  },
  {
   "cell_type": "code",
   "execution_count": null,
   "id": "be0de683",
   "metadata": {
    "lines_to_next_cell": 2
   },
   "outputs": [],
   "source": [
    "def termux_open_url():\n",
    "    out, rc, err = utils.execute(\"termux-open-url\")\n",
    "    if rc:\n",
    "        raise Exception(err)\n",
    "    return out"
   ]
  },
  {
   "cell_type": "markdown",
   "id": "6ff85c8b",
   "metadata": {
    "lines_to_next_cell": 2
   },
   "source": [
    "### termux_preload_settings()"
   ]
  },
  {
   "cell_type": "code",
   "execution_count": null,
   "id": "2f508d89",
   "metadata": {
    "lines_to_next_cell": 2
   },
   "outputs": [],
   "source": [
    "def termux_reload_settings():\n",
    "    out, rc, err = utils.execute(\"termux-reload-settings\")\n",
    "    if rc:\n",
    "        raise Exception(err)\n",
    "    return out"
   ]
  },
  {
   "cell_type": "markdown",
   "id": "74c55d5e",
   "metadata": {
    "lines_to_next_cell": 2
   },
   "source": [
    "### termux_setup_storage()"
   ]
  },
  {
   "cell_type": "code",
   "execution_count": null,
   "id": "4445304f",
   "metadata": {
    "lines_to_next_cell": 2
   },
   "outputs": [],
   "source": [
    "def termux_setup_storage():\n",
    "    out, rc, err = utils.execute(\"termux-setup-storage\")\n",
    "    if rc:\n",
    "        raise Exception(err)\n",
    "    return out"
   ]
  },
  {
   "cell_type": "markdown",
   "id": "3f30833d",
   "metadata": {
    "lines_to_next_cell": 2
   },
   "source": [
    "### termux_share()"
   ]
  },
  {
   "cell_type": "code",
   "execution_count": null,
   "id": "85324a64",
   "metadata": {
    "lines_to_next_cell": 2
   },
   "outputs": [],
   "source": [
    "def termux_share():\n",
    "    out, rc, err = utils.execute(\"termux-share\")\n",
    "    if rc:\n",
    "        raise Exception(err)\n",
    "    return out"
   ]
  },
  {
   "cell_type": "markdown",
   "id": "66fea1b6",
   "metadata": {
    "lines_to_next_cell": 2
   },
   "source": [
    "### termux_sms_list(timecreated:bool = True, num:int = 10, shownumber:bool = True, where:str = 'all')"
   ]
  },
  {
   "cell_type": "code",
   "execution_count": null,
   "id": "0d16ebb8",
   "metadata": {
    "lines_to_next_cell": 2
   },
   "outputs": [],
   "source": [
    "@set_timeout(90, after_timeout)\n",
    "def termux_sms_list(\n",
    "    timecreated: bool = True, num: int = 10, shownumber: bool = True, where: str = \"all\"\n",
    "):\n",
    "    cmdlst = [\"termux-sms-list\"]\n",
    "    if timecreated:\n",
    "        cmdlst.append(\"-d\")\n",
    "    cmdlst.extend([\"-l\", str(num)])\n",
    "    cmdlst.append(\"-n\")\n",
    "    cmdlst.extend([\"-t\", where])\n",
    "    out, rc, err = utils.execute(cmdlst)\n",
    "    if rc:\n",
    "        raise Exception(err)\n",
    "    return evaloutput(out)"
   ]
  },
  {
   "cell_type": "markdown",
   "id": "f56358da",
   "metadata": {
    "lines_to_next_cell": 2
   },
   "source": [
    "### termux_sms_send(msg='hi')"
   ]
  },
  {
   "cell_type": "code",
   "execution_count": null,
   "id": "5211cc4a",
   "metadata": {
    "lines_to_next_cell": 2
   },
   "outputs": [],
   "source": [
    "@set_timeout(90, after_timeout)\n",
    "def termux_sms_send(msg=\"hi\"):\n",
    "    cmdtool = \"termux-sms-send\"\n",
    "    if not is_tool_valid(cmdtool):\n",
    "        log.critical(f\"命令\\t{cmdtool}\\t在该系统不存在，跳过执行\")\n",
    "        return\n",
    "    cmdlist = [cmdtool, \"-n\", \"15387182166\", f\"{msg}\"]\n",
    "    out, rc, err = utils.execute(cmdlist)\n",
    "    if rc:\n",
    "        log.Warning(f\"发送短信时出现错误：{msg}\")\n",
    "        # raise Exception(err)\n",
    "    else:\n",
    "        log.info(f\"成功发送短信。\")\n",
    "    return out"
   ]
  },
  {
   "cell_type": "markdown",
   "id": "1d064632",
   "metadata": {
    "lines_to_next_cell": 2
   },
   "source": [
    "### termux_storage_get()"
   ]
  },
  {
   "cell_type": "code",
   "execution_count": null,
   "id": "a5e64b94",
   "metadata": {
    "lines_to_next_cell": 2
   },
   "outputs": [],
   "source": [
    "def termux_storage_get():\n",
    "    out, rc, err = utils.execute(\"termux-storage-get\")\n",
    "    if rc:\n",
    "        raise Exception(err)\n",
    "    return out"
   ]
  },
  {
   "cell_type": "markdown",
   "id": "722433d6",
   "metadata": {
    "lines_to_next_cell": 2
   },
   "source": [
    "### termux_telephony_call()"
   ]
  },
  {
   "cell_type": "code",
   "execution_count": null,
   "id": "ca35d02a",
   "metadata": {
    "lines_to_next_cell": 2
   },
   "outputs": [],
   "source": [
    "def termux_telephony_call():\n",
    "    out, rc, err = utils.execute(\"termux-telephony-call\")\n",
    "    if rc:\n",
    "        raise Exception(err)\n",
    "    return out"
   ]
  },
  {
   "cell_type": "markdown",
   "id": "e3c2f437",
   "metadata": {
    "lines_to_next_cell": 2
   },
   "source": [
    "### termux_telephony_cellinfo()"
   ]
  },
  {
   "cell_type": "code",
   "execution_count": null,
   "id": "86bd2c67",
   "metadata": {
    "lines_to_next_cell": 2
   },
   "outputs": [],
   "source": [
    "def termux_telephony_cellinfo():\n",
    "    out, rc, err = utils.execute(\"termux-telephony-cellinfo\")\n",
    "    if rc:\n",
    "        raise Exception(err)\n",
    "    return evaloutput(out)"
   ]
  },
  {
   "cell_type": "markdown",
   "id": "ae9f12cf",
   "metadata": {
    "lines_to_next_cell": 2
   },
   "source": [
    "### termux_telephony_deviceinfo()"
   ]
  },
  {
   "cell_type": "code",
   "execution_count": null,
   "id": "7a1776ff",
   "metadata": {
    "lines_to_next_cell": 2
   },
   "outputs": [],
   "source": [
    "@set_timeout(90, after_timeout)\n",
    "def termux_telephony_deviceinfo():\n",
    "    out, rc, err = utils.execute(\"termux-telephony-deviceinfo\")\n",
    "    if rc:\n",
    "        raise Exception(err)\n",
    "    return evaloutput(out)"
   ]
  },
  {
   "cell_type": "markdown",
   "id": "04c44f76",
   "metadata": {
    "lines_to_next_cell": 2
   },
   "source": [
    "### termux_toast()"
   ]
  },
  {
   "cell_type": "code",
   "execution_count": null,
   "id": "e1f13084",
   "metadata": {
    "lines_to_next_cell": 2
   },
   "outputs": [],
   "source": [
    "def termux_toast():\n",
    "    out, rc, err = utils.execute(\"termux-toast\")\n",
    "    if rc:\n",
    "        raise Exception(err)\n",
    "    return out"
   ]
  },
  {
   "cell_type": "markdown",
   "id": "54eb9415",
   "metadata": {
    "lines_to_next_cell": 2
   },
   "source": [
    "### termux_tts_engines()"
   ]
  },
  {
   "cell_type": "code",
   "execution_count": null,
   "id": "b908f3f8",
   "metadata": {
    "lines_to_next_cell": 2
   },
   "outputs": [],
   "source": [
    "def termux_tts_engines():\n",
    "    out, rc, err = utils.execute(\"termux-tts-engines\")\n",
    "    if rc:\n",
    "        raise Exception(err)\n",
    "    return out"
   ]
  },
  {
   "cell_type": "markdown",
   "id": "797a1077",
   "metadata": {
    "lines_to_next_cell": 2
   },
   "source": [
    "### termux_tts_speak()"
   ]
  },
  {
   "cell_type": "code",
   "execution_count": null,
   "id": "a6b27544",
   "metadata": {
    "lines_to_next_cell": 2
   },
   "outputs": [],
   "source": [
    "def termux_tts_speak():\n",
    "    out, rc, err = utils.execute(\"termux-tts-speak\")\n",
    "    if rc:\n",
    "        raise Exception(err)\n",
    "    return out"
   ]
  },
  {
   "cell_type": "markdown",
   "id": "c8349424",
   "metadata": {
    "lines_to_next_cell": 2
   },
   "source": [
    "### termux_vibrate()"
   ]
  },
  {
   "cell_type": "code",
   "execution_count": null,
   "id": "e888e0bd",
   "metadata": {
    "lines_to_next_cell": 2
   },
   "outputs": [],
   "source": [
    "def termux_vibrate():\n",
    "    out, rc, err = utils.execute(\"termux-vibrate\")\n",
    "    if rc:\n",
    "        raise Exception(err)\n",
    "    return out"
   ]
  },
  {
   "cell_type": "markdown",
   "id": "12ae04cc",
   "metadata": {
    "lines_to_next_cell": 2
   },
   "source": [
    "### termux_wake_lock()"
   ]
  },
  {
   "cell_type": "code",
   "execution_count": null,
   "id": "4154b975",
   "metadata": {
    "lines_to_next_cell": 2
   },
   "outputs": [],
   "source": [
    "def termux_wake_lock():\n",
    "    out, rc, err = utils.execute(\"termux-wake-lock\")\n",
    "    if rc:\n",
    "        raise Exception(err)\n",
    "    return out"
   ]
  },
  {
   "cell_type": "markdown",
   "id": "9644ac50",
   "metadata": {
    "lines_to_next_cell": 2
   },
   "source": [
    "### termux_wake_unlock()"
   ]
  },
  {
   "cell_type": "code",
   "execution_count": null,
   "id": "9a8de4db",
   "metadata": {
    "lines_to_next_cell": 2
   },
   "outputs": [],
   "source": [
    "def termux_wake_unlock():\n",
    "    out, rc, err = utils.execute(\"termux-wake-unlock\")\n",
    "    if rc:\n",
    "        raise Exception(err)\n",
    "    return out"
   ]
  },
  {
   "cell_type": "markdown",
   "id": "78a18b33",
   "metadata": {
    "lines_to_next_cell": 2
   },
   "source": [
    "### termux_wifi_connectioninfo()"
   ]
  },
  {
   "cell_type": "code",
   "execution_count": null,
   "id": "a7686cae",
   "metadata": {
    "lines_to_next_cell": 2
   },
   "outputs": [],
   "source": [
    "def termux_wifi_connectioninfo():\n",
    "    out, rc, err = utils.execute(\"termux-wifi-connectioninfo\")\n",
    "    if rc:\n",
    "        raise Exception(err)\n",
    "    return evaloutput(out)"
   ]
  },
  {
   "cell_type": "markdown",
   "id": "30765f30",
   "metadata": {
    "lines_to_next_cell": 2
   },
   "source": [
    "### termux_wifi_scaninfo()"
   ]
  },
  {
   "cell_type": "code",
   "execution_count": null,
   "id": "c7989781",
   "metadata": {},
   "outputs": [],
   "source": [
    "def termux_wifi_scaninfo():\n",
    "    out, rc, err = utils.execute(\"termux-wifi-scaninfo\")\n",
    "    if rc:\n",
    "        raise Exception(err)\n",
    "    return evaloutput(out)"
   ]
  },
  {
   "cell_type": "markdown",
   "id": "1a9adf3e",
   "metadata": {},
   "source": [
    "## main()，主函数"
   ]
  },
  {
   "cell_type": "code",
   "execution_count": null,
   "id": "c992155c",
   "metadata": {},
   "outputs": [],
   "source": [
    "if __name__ == \"__main__\":\n",
    "    if not_IPython():\n",
    "        log.info(f\"测试文件\\t{__file__}……\")\n",
    "    print(termux_telephony_deviceinfo())\n",
    "    print(termux_info())\n",
    "    print(termux_location())\n",
    "    if not_IPython():\n",
    "        log.info(f\"文件\\t{__file__}\\t测试完毕。\")"
   ]
  }
 ],
 "metadata": {
  "jupytext": {
   "cell_metadata_filter": "-all",
   "encoding": "# -*- coding: utf-8 -*-",
   "formats": "ipynb,py:percent",
   "main_language": "python",
   "notebook_metadata_filter": "jupytext,-kernelspec,-jupytext.text_representation.jupytext_version"
  },
  "kernelspec": {
   "display_name": "venv",
   "language": "python",
   "name": "python3"
  },
  "language_info": {
   "codemirror_mode": {
    "name": "ipython",
    "version": 3
   },
   "file_extension": ".py",
   "mimetype": "text/x-python",
   "name": "python",
   "nbconvert_exporter": "python",
   "pygments_lexer": "ipython3",
   "version": "3.12.3"
  }
 },
 "nbformat": 4,
 "nbformat_minor": 5
}
