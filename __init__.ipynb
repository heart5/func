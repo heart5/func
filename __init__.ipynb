{
 "cells": [
  {
   "cell_type": "markdown",
   "id": "ef94117b",
   "metadata": {},
   "source": [
    "Joplin功能模块"
   ]
  }
 ],
 "metadata": {
  "jupytext": {
   "cell_metadata_filter": "-all",
   "encoding": "# encoding:utf-8",
   "formats": "ipynb,py:percent",
   "main_language": "python",
   "notebook_metadata_filter": "jupytext,-kernelspec,-jupytext.text_representation.jupytext_version"
  }
 },
 "nbformat": 4,
 "nbformat_minor": 5
}
