{
 "cells": [
  {
   "cell_type": "markdown",
   "id": "ceb6706a",
   "metadata": {},
   "source": [
    "# 配置处理器相关的功能函数"
   ]
  },
  {
   "cell_type": "markdown",
   "id": "75356e5c",
   "metadata": {},
   "source": [
    "## 引入库"
   ]
  },
  {
   "cell_type": "code",
   "execution_count": 13,
   "id": "f3570fd2",
   "metadata": {},
   "outputs": [],
   "source": [
    "import os\n",
    "import re\n",
    "from configparser import ConfigParser, DuplicateOptionError, DuplicateSectionError\n",
    "from pathlib import Path\n",
    "from typing import Any, Tuple\n",
    "\n",
    "import pathmagic"
   ]
  },
  {
   "cell_type": "code",
   "execution_count": 14,
   "id": "33a35179",
   "metadata": {
    "lines_to_next_cell": 2
   },
   "outputs": [],
   "source": [
    "with pathmagic.context():\n",
    "    from func.first import getdirmain, touchfilepath2depth\n",
    "    from func.logme import log\n",
    "    from func.sysfunc import not_IPython"
   ]
  },
  {
   "cell_type": "markdown",
   "id": "4541f5a3",
   "metadata": {},
   "source": [
    "## 功能函数"
   ]
  },
  {
   "cell_type": "markdown",
   "id": "538d5921",
   "metadata": {
    "lines_to_next_cell": 2
   },
   "source": [
    "### dropdup4option(opcontent)"
   ]
  },
  {
   "cell_type": "code",
   "execution_count": 15,
   "id": "59e7e8f2",
   "metadata": {
    "lines_to_next_cell": 2
   },
   "outputs": [],
   "source": [
    "def dropdup4option(opcontent: str) -> str:\n",
    "    ptno = re.compile(r\"(\\w+)\\s*=\\s*(\\w*)\")\n",
    "    opdict = dict()\n",
    "    fdlst = re.findall(ptno, opcontent)\n",
    "    for item in fdlst:\n",
    "        if item[0] in opdict.keys():\n",
    "            log.critical(f\"出现option名称重复：\\t{item[0]}，取用最新的数据\")\n",
    "        opdict.update(dict({item[0]: item[1]}))\n",
    "    rstlst = [\" = \".join(list(x)) for x in list(zip(opdict.keys(), opdict.values()))]\n",
    "    return \"\\n\" + \"\\n\".join(rstlst) + \"\\n\\n\""
   ]
  },
  {
   "cell_type": "markdown",
   "id": "9729df3b",
   "metadata": {
    "lines_to_next_cell": 2
   },
   "source": [
    "### dropdup4section(fcontent)"
   ]
  },
  {
   "cell_type": "code",
   "execution_count": 16,
   "id": "31fd4f47",
   "metadata": {
    "lines_to_next_cell": 2
   },
   "outputs": [],
   "source": [
    "def dropdup4section(fcontent: str) -> str:\n",
    "    ftn = re.compile(r\"\\[\\w+\\]\")\n",
    "    sectionlst = re.findall(ftn, fcontent)\n",
    "    optionlst = re.split(ftn, fcontent)\n",
    "    resultdict = dict()\n",
    "    for i in range(len(sectionlst)):\n",
    "        sname = sectionlst[i]\n",
    "        if sname in resultdict.keys():\n",
    "            thislen = len(resultdict[sname])\n",
    "            thatlen = len(optionlst[i + 1])\n",
    "            log.critical(f\"存在重复的section：\\t{sname}\\t{thislen}\\t{thatlen}\")\n",
    "            if thislen > thatlen:\n",
    "                continue\n",
    "        cleanopcontent = dropdup4option(optionlst[i + 1])\n",
    "        resultdict.update({sname: cleanopcontent})\n",
    "    rstlst = [x for y in list(zip(resultdict.keys(), resultdict.values())) for x in y]\n",
    "    correctcontent = \"\".join(rstlst)\n",
    "\n",
    "    return correctcontent"
   ]
  },
  {
   "cell_type": "markdown",
   "id": "38372f0a",
   "metadata": {
    "lines_to_next_cell": 2
   },
   "source": [
    "### fixinifile(inipath)"
   ]
  },
  {
   "cell_type": "code",
   "execution_count": 17,
   "id": "c7fc9548",
   "metadata": {
    "lines_to_next_cell": 2
   },
   "outputs": [],
   "source": [
    "def fixinifile(inipath: Path) -> str:\n",
    "    with open(inipath, \"r\") as f:\n",
    "        fcontent = f.read()\n",
    "        with open(str(inipath) + \".bak\", \"w\") as writer:\n",
    "            writer.write(fcontent)\n",
    "    correctcontent = dropdup4section(fcontent)\n",
    "    with open(str(inipath), \"w\") as writer:\n",
    "        writer.write(correctcontent)\n",
    "    return correctcontent"
   ]
  },
  {
   "cell_type": "markdown",
   "id": "2dbf8fa8",
   "metadata": {
    "lines_to_next_cell": 2
   },
   "source": [
    "### removesection(cfpfilename, sectionname)"
   ]
  },
  {
   "cell_type": "code",
   "execution_count": 18,
   "id": "35433a59",
   "metadata": {
    "lines_to_next_cell": 2
   },
   "outputs": [],
   "source": [
    "def removesection(cfpfilename: str, sectionname: str) -> None:\n",
    "    \"\"\"删除指定section，默认清除其下面的所有option\"\"\"\n",
    "    cfpin, cfpinpath = getcfp(cfpfilename)\n",
    "    if cfpin.has_section(sectionname):\n",
    "        cfpin.remove_section(sectionname)\n",
    "        cfpin.write(open(cfpinpath, \"w\", encoding=\"utf-8\"))\n",
    "        log.critical(f\"成功清除{sectionname}下的所有option！！！\")"
   ]
  },
  {
   "cell_type": "markdown",
   "id": "2e16d266",
   "metadata": {
    "lines_to_next_cell": 2
   },
   "source": [
    "### getcfp(cfpfilename)"
   ]
  },
  {
   "cell_type": "code",
   "execution_count": 19,
   "id": "ded19546",
   "metadata": {
    "lines_to_next_cell": 2
   },
   "outputs": [],
   "source": [
    "def getcfp(cfpfilename: str) -> Tuple[ConfigParser, Path]:\n",
    "    cfpson = ConfigParser()\n",
    "    inipathson = Path(getdirmain()) / \"data\" / (cfpfilename + \".ini\")\n",
    "    touchfilepath2depth(inipathson)\n",
    "    try:\n",
    "        cfpson.read(inipathson, encoding=\"utf-8\")\n",
    "    except (DuplicateSectionError, DuplicateOptionError) as dse:\n",
    "        log.critical(\n",
    "            f\"ini文件《{inipathson}》中存在重复的section或option名称，备份文件并试图修复文件……{dse}\"\n",
    "        )\n",
    "        fixinifile(inipathson)\n",
    "    except Exception as eee:\n",
    "        log.critical(eee)\n",
    "        try:\n",
    "            cfpson.read(inipathson, encoding=\"utf-8\")\n",
    "            log.critical(f\"ini文件《{inipathson}》修复成功！！！\")\n",
    "        except Exception as e:\n",
    "            log.critical(f\"读取配置文件《{inipathson}》时失败！！！{e}\")\n",
    "            log.critical(f\"试图强制删除该配置文件《{inipathson}》\")\n",
    "            os.remove(inipathson)\n",
    "            log.critical(f\"配置文件《{inipathson}》被强制删除！！！\")\n",
    "            return\n",
    "\n",
    "    return cfpson, inipathson"
   ]
  },
  {
   "cell_type": "markdown",
   "id": "4463056d",
   "metadata": {
    "lines_to_next_cell": 2
   },
   "source": [
    "### setcfpoptionvalue(cfpfilename, sectionname, optionname, optionvalue)"
   ]
  },
  {
   "cell_type": "code",
   "execution_count": 20,
   "id": "313d9329",
   "metadata": {
    "lines_to_next_cell": 2
   },
   "outputs": [],
   "source": [
    "def setcfpoptionvalue(cfpfilename: str, sectionname: str, optionname: str, optionvalue: str) -> None:\n",
    "    cfpin, cfpinpath = getcfp(cfpfilename)\n",
    "    if not cfpin.has_section(sectionname):\n",
    "        cfpin.add_section(sectionname)\n",
    "        cfpin.write(open(cfpinpath, \"w\", encoding=\"utf-8\"))\n",
    "    cfpin.set(sectionname, optionname, optionvalue)\n",
    "    cfpin.write(open(cfpinpath, \"w\", encoding=\"utf-8\"))"
   ]
  },
  {
   "cell_type": "markdown",
   "id": "779b374d",
   "metadata": {
    "lines_to_next_cell": 2
   },
   "source": [
    "### getcfpoptionvalue(cfpfilename, sectionname, optionname)"
   ]
  },
  {
   "cell_type": "code",
   "execution_count": 21,
   "id": "339dfeb9",
   "metadata": {},
   "outputs": [],
   "source": [
    "def getcfpoptionvalue(cfpfilename: str, sectionname: str, optionname: str) -> Any:  # noqa: ANN401\n",
    "    cfpin, cfpinpath = getcfp(cfpfilename)\n",
    "    if not cfpin.has_section(sectionname):\n",
    "        print(f\"seticon {sectionname} is not exists. Then creating it now ...\")\n",
    "        cfpin.add_section(sectionname)\n",
    "        cfpin.write(open(cfpinpath, \"w\", encoding=\"utf-8\"))\n",
    "        return\n",
    "    if not cfpin.has_option(sectionname, optionname):\n",
    "        print(f\"option {optionname} is not exists.\")\n",
    "        return\n",
    "\n",
    "    targetvalue = str(cfpin.get(sectionname, optionname))\n",
    "\n",
    "    # 处理None\n",
    "    if targetvalue.strip().lower() == \"none\":\n",
    "        return None\n",
    "\n",
    "    # 处理布尔值\n",
    "    if targetvalue.strip().lower() == \"true\":\n",
    "        return True\n",
    "\n",
    "    if targetvalue.strip().lower() == \"false\":\n",
    "        return False\n",
    "\n",
    "    # 处理整数\n",
    "    ptn = re.compile(r\"^[+-]?[0-9]+$\")\n",
    "    result = ptn.match(targetvalue)\n",
    "    if result:\n",
    "        targetvalue = int(result.group())\n",
    "        return targetvalue\n",
    "\n",
    "    # 处理小数\n",
    "    ptn = re.compile(r\"^[+-]?[0-9]+\\.[0-9]+$\")\n",
    "    result = ptn.match(targetvalue)\n",
    "    if result:\n",
    "        targetvalue = float(result.group())\n",
    "        return targetvalue\n",
    "    # if isinstance(targetvalue, int):\n",
    "    # targetvalue = int(targetvalue)\n",
    "    # elif isinstance(targetvalue, float):\n",
    "    # targetvalue = float(targetvalue)\n",
    "\n",
    "    return targetvalue"
   ]
  },
  {
   "cell_type": "markdown",
   "id": "351c94fc",
   "metadata": {},
   "source": [
    "## 主函数main()"
   ]
  },
  {
   "cell_type": "code",
   "execution_count": null,
   "id": "d1cf6260",
   "metadata": {},
   "outputs": [
    {
     "name": "stdout",
     "output_type": "stream",
     "text": [
      "option is_log_details is not exists.\n",
      "<configparser.ConfigParser object at 0x7fe5a6e55fd0>\n",
      "/config/codebase/happyjoplin/data/happyjp.ini\n"
     ]
    }
   ],
   "source": [
    "if __name__ == \"__main__\":\n",
    "    from jpfuncs import getinivaluefromcloud\n",
    "    is_log_details = getinivaluefromcloud('happyjoplin', 'is_log_details')\n",
    "    if not_IPython() and is_log_details:\n",
    "        print(f\"开始测试文件\\t{__file__}\")\n",
    "    cfpapiname = \"happyjp\"\n",
    "    inipathson = Path(getdirmain()) / \"data\" / (cfpapiname + \".ini\")\n",
    "    cp, cppath = getcfp(cfpapiname)\n",
    "    print(cp)\n",
    "    print(cppath)\n",
    "    if not_IPython() and is_log_details:\n",
    "        print(\"Done.\")"
   ]
  }
 ],
 "metadata": {
  "jupytext": {
   "cell_metadata_filter": "-all",
   "encoding": "# encoding:utf-8",
   "formats": "ipynb,py:percent",
   "main_language": "python",
   "notebook_metadata_filter": "jupytext,-kernelspec,-jupytext.text_representation.jupytext_version"
  },
  "kernelspec": {
   "display_name": "venv",
   "language": "python",
   "name": "python3"
  },
  "language_info": {
   "codemirror_mode": {
    "name": "ipython",
    "version": 3
   },
   "file_extension": ".py",
   "mimetype": "text/x-python",
   "name": "python",
   "nbconvert_exporter": "python",
   "pygments_lexer": "ipython3",
   "version": "3.12.3"
  }
 },
 "nbformat": 4,
 "nbformat_minor": 5
}
