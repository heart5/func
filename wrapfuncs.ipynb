{
 "cells": [
  {
   "cell_type": "markdown",
   "id": "392911cd",
   "metadata": {},
   "source": [
    "# 装饰器功能函数集"
   ]
  },
  {
   "cell_type": "code",
   "execution_count": null,
   "id": "ce34da94",
   "metadata": {},
   "outputs": [],
   "source": [
    "\"\"\"\n",
    "装饰器函数集，ift2phone、timethis, logit\n",
    "\"\"\""
   ]
  },
  {
   "cell_type": "markdown",
   "id": "b12ef3dc",
   "metadata": {},
   "source": [
    "## 引入重要库"
   ]
  },
  {
   "cell_type": "code",
   "execution_count": null,
   "id": "7a7b920e",
   "metadata": {},
   "outputs": [],
   "source": [
    "import time\n",
    "from functools import wraps\n",
    "from inspect import signature"
   ]
  },
  {
   "cell_type": "code",
   "execution_count": null,
   "id": "e1d07e4e",
   "metadata": {
    "lines_to_next_cell": 2
   },
   "outputs": [],
   "source": [
    "import pathmagic\n",
    "\n",
    "with pathmagic.context():\n",
    "    from func.logme import log\n",
    "    from func.nettools import ifttt_notify\n",
    "\n",
    "    # from func.jpfuncs import getinivaluefromcloud\n",
    "    from func.sysfunc import not_IPython"
   ]
  },
  {
   "cell_type": "markdown",
   "id": "dad0c494",
   "metadata": {},
   "source": [
    "## 功能函数集合"
   ]
  },
  {
   "cell_type": "markdown",
   "id": "e72049ce",
   "metadata": {
    "lines_to_next_cell": 2
   },
   "source": [
    "### def logit(func)"
   ]
  },
  {
   "cell_type": "code",
   "execution_count": null,
   "id": "554cbc0f",
   "metadata": {
    "lines_to_next_cell": 2
   },
   "outputs": [],
   "source": [
    "def logit(func):\n",
    "    \"\"\"\n",
    "    函数具体调用信息写入日志或print至控制台\n",
    "    :param func\n",
    "    :return\n",
    "    \"\"\"\n",
    "\n",
    "    @wraps(func)\n",
    "    def with_logging(*args, **kwargs):\n",
    "        def truncate(arg):\n",
    "            if isinstance(arg, str) and len(arg) > 50:\n",
    "                return arg[:50] + \"...(参数超长，显示截断)\"\n",
    "            elif isinstance(arg, list) and len(arg) > 10:\n",
    "                return arg[:10] + [\"...(列表超长，显示截断)\"]\n",
    "            elif isinstance(arg, dict) and len(arg) > 10:\n",
    "                truncated_dict = {k: arg[k] for i, k in enumerate(arg) if i < 10}\n",
    "                truncated_dict[\"...(字典超长，显示截断)\"] = \"...\"\n",
    "                return truncated_dict\n",
    "            return arg\n",
    "\n",
    "        args4show = [truncate(x) for x in args]\n",
    "        kwargs4show = {k: truncate(v) for k, v in kwargs.items()}\n",
    "        if not_IPython():\n",
    "            log.info(\n",
    "                f\"{func.__name__}函数被调用，参数列表：{args4show}, 关键字参数：{kwargs4show}\"\n",
    "            )\n",
    "        else:\n",
    "            print(\n",
    "                f\"{func.__name__}函数被调用，参数列表：{args4show}, 关键字参数：{kwargs4show}\"\n",
    "            )\n",
    "\n",
    "        return func(*args, **kwargs)\n",
    "\n",
    "    return with_logging"
   ]
  },
  {
   "cell_type": "markdown",
   "id": "c1940354",
   "metadata": {
    "lines_to_next_cell": 2
   },
   "source": [
    "### def ift2phone(msg=None)"
   ]
  },
  {
   "cell_type": "code",
   "execution_count": null,
   "id": "cd48821d",
   "metadata": {
    "lines_to_next_cell": 2
   },
   "outputs": [],
   "source": [
    "def ift2phone(msg=None):\n",
    "    \"\"\"\n",
    "    目标函数运行时将信息通过ifttt发送至手机\n",
    "    :param msg:\n",
    "    :return:\n",
    "    \"\"\"\n",
    "\n",
    "    def decorate(func):\n",
    "        @wraps(func)\n",
    "        def wrapper(*args, **kwargs):\n",
    "            result = func(*args, **kwargs)\n",
    "            if msg is None:\n",
    "                msginner = func.__doc__\n",
    "            else:\n",
    "                msginner = msg\n",
    "            ifttt_notify(f\"{msginner}_{args}\", f\"{func.__name__}\")\n",
    "            return result\n",
    "\n",
    "        return wrapper\n",
    "\n",
    "    return decorate"
   ]
  },
  {
   "cell_type": "markdown",
   "id": "8077a4a1",
   "metadata": {
    "lines_to_next_cell": 2
   },
   "source": [
    "### def timethis(func)"
   ]
  },
  {
   "cell_type": "code",
   "execution_count": null,
   "id": "5d7db5d1",
   "metadata": {
    "lines_to_next_cell": 2
   },
   "outputs": [],
   "source": [
    "def timethis(func):\n",
    "    \"\"\"\n",
    "    装饰执行时间（tida）\n",
    "    :param func:\n",
    "    :return:\n",
    "    \"\"\"\n",
    "\n",
    "    @logit\n",
    "    @wraps(func)\n",
    "    def wrapper(*args, **kwargs):\n",
    "        start = time.time()\n",
    "        result = func(*args, **kwargs)\n",
    "        end = time.time()\n",
    "        timelen = end - start\n",
    "        if timelen >= (60 * 60):\n",
    "            timelenstr = f\"{int(timelen / (60 * 60))}小时{int((timelen % (60 * 60)) / 60)}分钟{timelen % (60 * 60) % 60:.2f}秒\"\n",
    "        elif timelen >= 60:\n",
    "            timelenstr = f\"{int(timelen / 60)}分钟{timelen % 60:.2f}秒\"\n",
    "        else:\n",
    "            timelenstr = f\"{timelen % 60:.2f}秒\"\n",
    "        if not_IPython():\n",
    "            log.info(f\"{func.__name__}\\t{timelenstr}\")\n",
    "        else:\n",
    "            print(f\"{func.__name__}\\t{timelenstr}\")\n",
    "\n",
    "        return result\n",
    "\n",
    "    return wrapper"
   ]
  },
  {
   "cell_type": "markdown",
   "id": "77cf64d3",
   "metadata": {
    "lines_to_next_cell": 2
   },
   "source": [
    "### def countdown(n: int) # 用于测试各种装饰器"
   ]
  },
  {
   "cell_type": "code",
   "execution_count": null,
   "id": "c1b6469d",
   "metadata": {},
   "outputs": [],
   "source": [
    "@timethis\n",
    "@ift2phone(\"倒数计时器\")\n",
    "@ift2phone()\n",
    "# @lpt_wrapper()\n",
    "def countdown(n: int):\n",
    "    \"\"\"\n",
    "    倒计时\n",
    "    :param n:\n",
    "    :return: NULL\n",
    "    \"\"\"\n",
    "    print(n)\n",
    "    while n > 0:\n",
    "        n -= 1\n",
    "        if (n % 5000) == 0:\n",
    "            print(n)"
   ]
  },
  {
   "cell_type": "markdown",
   "id": "7cc93167",
   "metadata": {},
   "source": [
    "## 主函数main"
   ]
  },
  {
   "cell_type": "code",
   "execution_count": null,
   "id": "5d023c9d",
   "metadata": {},
   "outputs": [],
   "source": [
    "if __name__ == \"__main__\":\n",
    "    if not_IPython():\n",
    "        log.info(f\"运行文件\\t{__file__}\")\n",
    "    countdown(10088)\n",
    "    print(f\"函数名\\t{countdown.__name__}\")\n",
    "    print(f\"函数文档\\t{countdown.__doc__}\")\n",
    "    print(f\"函数参数注释\\t{countdown.__annotations__}\")\n",
    "    # countdown(12234353)\n",
    "    countdown(500)\n",
    "    countdown.__wrapped__(500)\n",
    "    print(f\"函数参数签名\\t{signature(countdown)}\")\n",
    "    print(f\"函数类名\\t{countdown.__class__}\")\n",
    "    print(f\"函数模块\\t{countdown.__module__}\")\n",
    "    print(f\"函数包裹函数\\t{countdown.__wrapped__}\")\n",
    "    print(f\"函数语句\\t{countdown.__closure__}\")\n",
    "    print(f\"函数代码\\t{countdown.__code__}\")\n",
    "    print(f\"函数默认值\\t{countdown.__defaults__}\")\n",
    "    print(f\"函数字典\\t{countdown.__dict__}\")\n",
    "    print(f\"函数内涵全集\\t{countdown.__dir__()}\")\n",
    "    if not_IPython():\n",
    "        log.info(f\"文件\\t{__file__}\\t结束运行\")"
   ]
  }
 ],
 "metadata": {
  "jupytext": {
   "cell_metadata_filter": "-all",
   "encoding": "# encoding:utf-8",
   "formats": "ipynb,py:percent",
   "main_language": "python",
   "notebook_metadata_filter": "jupytext,-kernelspec,-jupytext.text_representation.jupytext_version"
  }
 },
 "nbformat": 4,
 "nbformat_minor": 5
}
