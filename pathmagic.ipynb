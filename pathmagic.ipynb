{
 "cells": [
  {
   "cell_type": "markdown",
   "id": "875c811d",
   "metadata": {},
   "source": [
    "# 魔法路径"
   ]
  },
  {
   "cell_type": "markdown",
   "id": "edb52ca8",
   "metadata": {},
   "source": [
    "## 引入库"
   ]
  },
  {
   "cell_type": "code",
   "execution_count": null,
   "id": "6d609b3b",
   "metadata": {
    "lines_to_next_cell": 2
   },
   "outputs": [],
   "source": [
    "import sys"
   ]
  },
  {
   "cell_type": "markdown",
   "id": "4ec5f0a8",
   "metadata": {
    "lines_to_next_cell": 2
   },
   "source": [
    "## context类"
   ]
  },
  {
   "cell_type": "code",
   "execution_count": null,
   "id": "cbf896aa",
   "metadata": {},
   "outputs": [],
   "source": [
    "class context:\n",
    "    def __enter__(self):\n",
    "        sys.path.extend([\"..\", \".\"])\n",
    "\n",
    "    def __exit__(self, *args):\n",
    "        pass"
   ]
  },
  {
   "cell_type": "markdown",
   "id": "8088504b",
   "metadata": {},
   "source": [
    "## 主函数main()"
   ]
  },
  {
   "cell_type": "code",
   "execution_count": null,
   "id": "227672d3",
   "metadata": {},
   "outputs": [],
   "source": [
    "if __name__ == \"__main__\":\n",
    "    print(f\"运行文件\\t{__file__}\")\n",
    "    for pp in sys.path:\n",
    "        print(pp)\n",
    "    print(\"Done.完毕。\")"
   ]
  }
 ],
 "metadata": {
  "jupytext": {
   "cell_metadata_filter": "-all",
   "encoding": "# encoding:utf-8",
   "formats": "ipynb,py:percent",
   "main_language": "python",
   "notebook_metadata_filter": "jupytext,-kernelspec,-jupytext.text_representation.jupytext_version"
  }
 },
 "nbformat": 4,
 "nbformat_minor": 5
}
