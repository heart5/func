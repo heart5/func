{
 "cells": [
  {
   "cell_type": "markdown",
   "id": "65f527a9",
   "metadata": {},
   "source": [
    "# 网络函数包"
   ]
  },
  {
   "cell_type": "code",
   "execution_count": null,
   "id": "16072c29",
   "metadata": {},
   "outputs": [],
   "source": [
    "\"\"\"\n",
    "网络相关函数集\n",
    "\"\"\""
   ]
  },
  {
   "cell_type": "markdown",
   "id": "10003e6f",
   "metadata": {},
   "source": [
    "# 引入库"
   ]
  },
  {
   "cell_type": "code",
   "execution_count": null,
   "id": "5c33bc66",
   "metadata": {},
   "outputs": [],
   "source": [
    "import os\n",
    "import platform\n",
    "import random\n",
    "import re\n",
    "import socket\n",
    "import ssl\n",
    "import struct\n",
    "import sys\n",
    "import time\n",
    "import traceback\n",
    "from functools import wraps\n",
    "\n",
    "import itchat\n",
    "import requests\n",
    "from bs4 import BeautifulSoup\n",
    "\n",
    "# from requests.packages.urllib3 import HTTPConnectionPool\n",
    "from evernote.edam.error.ttypes import EDAMSystemException\n",
    "from py2ifttt import IFTTT\n",
    "from requests.exceptions import *\n",
    "from urllib3.exceptions import MaxRetryError, NewConnectionError"
   ]
  },
  {
   "cell_type": "code",
   "execution_count": null,
   "id": "def1a3a3",
   "metadata": {
    "lines_to_next_cell": 2
   },
   "outputs": [],
   "source": [
    "import pathmagic\n",
    "\n",
    "with pathmagic.context():\n",
    "    from func.logme import log\n",
    "    from func.sysfunc import extract_traceback4exception, not_IPython\n",
    "    from func.termuxtools import termux_sms_send"
   ]
  },
  {
   "cell_type": "markdown",
   "id": "f8f36f83",
   "metadata": {},
   "source": [
    "# 函数集"
   ]
  },
  {
   "cell_type": "markdown",
   "id": "63e7a245",
   "metadata": {
    "lines_to_next_cell": 2
   },
   "source": [
    "## def ischat(pklabpath)"
   ]
  },
  {
   "cell_type": "code",
   "execution_count": null,
   "id": "0375e33d",
   "metadata": {
    "lines_to_next_cell": 2
   },
   "outputs": [],
   "source": [
    "def isitchat(pklabpath):\n",
    "    \"\"\"\n",
    "    判断itchat是否已经运行，没有则热启动之。\n",
    "    如果成功则返回True，否则直接退出运行。\n",
    "    \"\"\"\n",
    "\n",
    "    inputpklpath = os.path.abspath(pklabpath)\n",
    "    #     print(inputpklpath)\n",
    "\n",
    "    if itchat.originInstance.alive:\n",
    "        # 转换成绝对路径方便对比\n",
    "\n",
    "        loginpklpath = os.path.abspath(itchat.originInstance.hotReloadDir)\n",
    "        if inputpklpath == loginpklpath:\n",
    "            log.info(f\"微信处于正常登录状态，pkl路径为：\\t{loginpklpath}……\")\n",
    "        else:\n",
    "            logstr = f\"当前登录的pkl路径为{loginpklpath}，不同于传入的参数路径：\\t{inputpklpath}\"\n",
    "            log.critical(logstr)\n",
    "            sys.exit(1)\n",
    "    else:\n",
    "        itchat.auto_login(hotReload=True, statusStorageDir=pklabpath)  # 热启动你的微信\n",
    "        if not itchat.originInstance.alive:\n",
    "            log.critical(\"微信未能热启动，仍处于未登陆状态，退出！\")\n",
    "            sys.exit(1)\n",
    "        else:\n",
    "            loginpklpath = os.path.abspath(itchat.originInstance.hotReloadDir)\n",
    "            logstr = f\"微信热启动成功\\t{loginpklpath}\"\n",
    "            log.info(logstr)\n",
    "\n",
    "    return True"
   ]
  },
  {
   "cell_type": "markdown",
   "id": "bcb0959d",
   "metadata": {
    "lines_to_next_cell": 2
   },
   "source": [
    "## def get_ip(*args)"
   ]
  },
  {
   "cell_type": "code",
   "execution_count": null,
   "id": "82abd188",
   "metadata": {
    "lines_to_next_cell": 2
   },
   "outputs": [],
   "source": [
    "def get_ip(*args):\n",
    "    if platform.system() == \"Windows\":\n",
    "        my_name = socket.getfqdn(socket.gethostbyname(\"localhost\"))\n",
    "        print(my_name)\n",
    "        my_addr = socket.gethostbyname(my_name)\n",
    "        print(my_addr)\n",
    "        ip = my_addr.split(\"\\n\")[0]\n",
    "        return ip\n",
    "    else:\n",
    "        my_addr = os.popen(\n",
    "            \"ifconfig | grep -A 1 %s|tail -1| awk '{print $2}'\" % args[0]\n",
    "        ).read()\n",
    "        print(my_addr)\n",
    "        ipfind = re.search(\n",
    "            r\"(?<![\\.\\d])(?:25[0-5]\\.|2[0-4]\\d\\.|[01]?\\d\\d?\\.)\"\n",
    "            r\"{3}(?:25[0-5]|2[0-4]\\d|[01]?\\d\\d?)(?![\\.\\d])\",\n",
    "            my_addr,\n",
    "        )\n",
    "        print(ipfind)\n",
    "        ip = None\n",
    "        if ipfind is not None:\n",
    "            if re.search(r\"0\\.0\\.0\\.0\", ipfind.group()) is None:\n",
    "                ip = ipfind.group()\n",
    "        print(ip)\n",
    "        return ip"
   ]
  },
  {
   "cell_type": "markdown",
   "id": "25da0f90",
   "metadata": {
    "lines_to_next_cell": 2
   },
   "source": [
    "## def get_host_ip()"
   ]
  },
  {
   "cell_type": "code",
   "execution_count": null,
   "id": "d6f8ca86",
   "metadata": {
    "lines_to_next_cell": 2
   },
   "outputs": [],
   "source": [
    "def get_host_ip():\n",
    "    \"\"\"\n",
    "    在windows下查询本机ip地址,对多个网卡可以得到wlan0那个,亲测有效\n",
    "    :return: ip\n",
    "    \"\"\"\n",
    "    s = None\n",
    "    try:\n",
    "        s = socket.socket(socket.AF_INET, socket.SOCK_DGRAM)\n",
    "        s.connect((\"8.8.8.8\", 80))\n",
    "        sn = s.getsockname()\n",
    "        # print(sn)\n",
    "        ip = sn[0]\n",
    "    finally:\n",
    "        s.close()\n",
    "    return ip"
   ]
  },
  {
   "cell_type": "markdown",
   "id": "d733f05c",
   "metadata": {
    "lines_to_next_cell": 2
   },
   "source": [
    "## def get_ip4alleth(*args)"
   ]
  },
  {
   "cell_type": "code",
   "execution_count": null,
   "id": "e5dc5576",
   "metadata": {
    "lines_to_next_cell": 2
   },
   "outputs": [],
   "source": [
    "def get_ip4alleth(*args):\n",
    "    print(args)\n",
    "    resultiplst = []\n",
    "    if platform.system() == \"Windows\":\n",
    "        ip = get_host_ip()\n",
    "        return [[\"wlan\", ip]]\n",
    "    else:\n",
    "        # ethinfo = os.popen(\"ifconfig -a | grep -A 0 'Link encap'\").read()\n",
    "        ethinfo = os.popen(\"ifconfig -a | grep -A 0 'flags'\").read()\n",
    "        ptn = re.compile(r\"^(?P<name>\\w+)\\W+\", re.M)\n",
    "        ethlst = re.findall(ptn, ethinfo)\n",
    "        print(ethlst)\n",
    "        ethlst2test = [x for x in ethlst if x != \"lo\"]\n",
    "        for ethitem in ethlst2test:\n",
    "            my_addr = os.popen(\n",
    "                \"ifconfig | grep -A 1 %s|tail -1| awk '{print $2}'\" % ethitem\n",
    "            ).read()\n",
    "            print(my_addr)\n",
    "            ipfind = re.search(\n",
    "                r\"(?<![\\.\\d])(?:25[0-5]\\.|2[0-4]\\d\\.|[01]?\\d\\d?\\.)\"\n",
    "                r\"{3}(?:25[0-5]|2[0-4]\\d|[01]?\\d\\d?)(?![\\.\\d])\",\n",
    "                my_addr,\n",
    "            )\n",
    "            #  print(ipfind)\n",
    "            ip = None\n",
    "            if ipfind is not None:\n",
    "                if re.match(r\"0\\.0\\.0\\.0\", ipfind.group()) is None:\n",
    "                    ip = ipfind.group()\n",
    "                    resultiplst.append([ethitem, ip])\n",
    "            #  print(ip)\n",
    "    #  print(resultiplst)\n",
    "    return resultiplst"
   ]
  },
  {
   "cell_type": "markdown",
   "id": "7a5e6850",
   "metadata": {
    "lines_to_next_cell": 2
   },
   "source": [
    "## def trycounttimes2(servname, maxtimes ,maxsecs)"
   ]
  },
  {
   "cell_type": "code",
   "execution_count": null,
   "id": "66425742",
   "metadata": {
    "lines_to_next_cell": 2
   },
   "outputs": [],
   "source": [
    "def trycounttimes2(servname=\"服务器\", maxtimes=100, maxsecs=50):\n",
    "    def decorate(jutifunc):\n",
    "        @wraps(jutifunc)\n",
    "        def wrapper(*args, **kwargs):\n",
    "            trytimes = maxtimes\n",
    "            # showfreq = getinivaluefromnote('everlog', 'showfreq')\n",
    "            showfreq = 5\n",
    "            for i in range(1, trytimes + 1):\n",
    "                sleeptime = random.randint(2, maxsecs)\n",
    "                try:\n",
    "                    result = jutifunc(*args, **kwargs)\n",
    "                    return result\n",
    "                except (\n",
    "                    requests.exceptions.ConnectionError,\n",
    "                    ConnectionRefusedError,\n",
    "                    ConnectionResetError,\n",
    "                    ConnectionAbortedError,\n",
    "                    NewConnectionError,\n",
    "                    ConnectionError,\n",
    "                    MaxRetryError,\n",
    "                    struct.error,\n",
    "                    socket.gaierror,\n",
    "                    ssl.SSLError,\n",
    "                    ssl.SSLEOFError,\n",
    "                    EDAMSystemException,\n",
    "                    OSError,\n",
    "                    IndexError,\n",
    "                    Exception,\n",
    "                    ValueError,\n",
    "                ) as eee:\n",
    "                    eee_type, eee_value, eee_traceback = sys.exc_info()\n",
    "                    tbtuple = (\n",
    "                        eee_type,\n",
    "                        eee_value,\n",
    "                        [str(x) for x in traceback.extract_tb(eee_traceback)],\n",
    "                    )\n",
    "                    # buding^_^\n",
    "                    # 5的倍数次尝试输出log，避免网络不佳时的log冗余\n",
    "                    if i % showfreq == 0:\n",
    "                        # 如果eee包含错误代码，尽量显示详细信息方便深入了解、统计、分析、诊断\n",
    "                        if hasattr(eee, \"errno\"):\n",
    "                            eeestr = f\"{eee}\\t{traceback.extract_stack()}\"\n",
    "                            if eee.errno == 11001:\n",
    "                                log.critical(f\"寻址失败，貌似网络不通。{eeestr}\")\n",
    "                            elif eee.errno == 10061:\n",
    "                                log.critical(f\"被主动拒绝，好没面啊！{eeestr}\")\n",
    "                            elif eee.errno == 10060:\n",
    "                                log.critical(f\"够不着啊，是不是在墙外？！{eeestr}\")\n",
    "                            elif eee.errno == 10048:\n",
    "                                log.critical(f\"多次强行连接，被拒了！{eeestr}\")\n",
    "                            elif eee.errno == 10054:\n",
    "                                log.critical(f\"主机发脾气，强行断线了。{eeestr}\")\n",
    "                            elif eee.errno == 113:\n",
    "                                log.critical(\n",
    "                                    f\"和{servname}连接失败。 Cannot establied a new  connection. no route to host。{eeestr}\"\n",
    "                                )\n",
    "                            elif eee.errno == 110:\n",
    "                                log.critical(\n",
    "                                    f\"和{servname}连接失败。 Connection timed out.\\t{eeestr}\"\n",
    "                                )\n",
    "                                # 断网eptime *= 20\n",
    "                                # sleeptime *= 20\n",
    "                            elif eee.errno == 103:\n",
    "                                log.critical(\n",
    "                                    f\"和{servname}连接失败。Software caused connetction abort.\\t{eeestr}\"\n",
    "                                )\n",
    "                            elif eee.errno == 101:\n",
    "                                log.critical(\n",
    "                                    f\"和{servname}连接失败。Network is unreached.\\t{eeestr}\"\n",
    "                                )\n",
    "                            elif eee.errno == 13:\n",
    "                                log.critical(f\"连接{servname}的权限不够哦。{eeestr}\")\n",
    "                            elif eee.errno == 8:\n",
    "                                log.critical(f\"和{servname}握手失败。{eeestr}\")\n",
    "                            elif eee.errno == 7:\n",
    "                                log.critical(\n",
    "                                    f\"和{servname}连接失败。域名无法解析，断网了  。{eeestr}\"\n",
    "                                )\n",
    "                                # 断网eptime *= 20\n",
    "                            elif eee.errno == 4:\n",
    "                                log.critical(f\"和{servname}连接异常，被中断。{eeestr}\")\n",
    "                            else:\n",
    "                                log.critical(f\"连接失败。{eee.errno}\\t{eeestr}\")\n",
    "                        else:\n",
    "                            log.critical(f\"连接失败。{eee}\\t{args}\\t{kwargs}\")\n",
    "                        log.critical(\n",
    "                            f\"第{i}次（最多尝试{trytimes}次）连接“{servname}”时失败，将于{sleeptime}秒后重试。\"\n",
    "                        )\n",
    "                    # 跑够次数，日志记录，通知，抛出给上级处理\n",
    "                    if i == (trytimes - 1):\n",
    "                        badnews = f'{__file__}\"{servname}\"连接尝试了{trytimes}次后仍然失败，只好无功而返。\\t{\" \".join(sys.argv)}\\t{eee}'\n",
    "                        # badnews = f'{sys._getframe().f_code.co_name}\\t{sys._getframe().f_code.co__filename}\\t\\\"{\n",
    "                        # servname}\\\"连接尝试了{trytimes}次后仍然失败，只好无功而返。\\t{\" \".join(sys.argv)}'\n",
    "                        log.critical(badnews)\n",
    "                        try:\n",
    "                            termux_sms_send(badnews)\n",
    "                        except (PermissionError, Exception) as eeee:\n",
    "                            print(eeee)\n",
    "                        # exit(1)\n",
    "                        # raise eee\n",
    "                        break\n",
    "\n",
    "                    # 暂歇开始前终端输出，看看而已\n",
    "                    print(\n",
    "                        extract_traceback4exception(\n",
    "                            tbtuple, \"trycounttimes2\", sleeptime=sleeptime\n",
    "                        )\n",
    "                    )\n",
    "                    time.sleep(sleeptime)\n",
    "\n",
    "        return wrapper\n",
    "\n",
    "    return decorate"
   ]
  },
  {
   "cell_type": "markdown",
   "id": "a6202296",
   "metadata": {
    "lines_to_next_cell": 2
   },
   "source": [
    "## ifttt_notify(content=\"content\", funcname=\"funcname\")"
   ]
  },
  {
   "cell_type": "code",
   "execution_count": null,
   "id": "a85af780",
   "metadata": {
    "lines_to_next_cell": 2
   },
   "outputs": [],
   "source": [
    "@trycounttimes2(\"ifttt服务器\")\n",
    "def ifttt_notify(content=\"content\", funcname=\"funcname\"):\n",
    "    ifttt = IFTTT(\"0sa6Pl_UJ9a_w6UQlYuDJ\", \"everwork\")\n",
    "    pu = platform.uname()\n",
    "    ifttt.notify(f\"{pu.machine}_{pu.node}\", content, funcname)\n",
    "    log.critical(f\"{pu.machine}_{pu.node}\\t{content}\\t{funcname}\")"
   ]
  },
  {
   "cell_type": "markdown",
   "id": "e2058e7b",
   "metadata": {
    "lines_to_next_cell": 2
   },
   "source": [
    "## tst4trycounttimes2()"
   ]
  },
  {
   "cell_type": "code",
   "execution_count": null,
   "id": "92a64279",
   "metadata": {},
   "outputs": [],
   "source": [
    "def tst4trycounttimes2():\n",
    "    if not_IPython():\n",
    "        ifttt_notify(\"test for ifttt notify\", f\"{__file__}\")\n",
    "\n",
    "    @trycounttimes2(\"xmu.edu.cn网站服务器\")\n",
    "    def fetchfromnet(addressin: object):\n",
    "        \"\"\"\n",
    "        从网址获取内容\n",
    "        :param addressin: 网址\n",
    "        :return: 页面内容html\n",
    "        \"\"\"\n",
    "        r = requests.get(addressin)\n",
    "        html = r.content\n",
    "        return html\n",
    "\n",
    "    # html2 = trycounttimes2(fetchfromnet, '', True, 'xmu.edu.cn网站服务器')\n",
    "    address = \"http://www.wise.xmu1.edu.cn/people/faculty\"\n",
    "    print(fetchfromnet.__doc__)\n",
    "    html2 = fetchfromnet(address)\n",
    "    if html2 is None:\n",
    "        exit(5)\n",
    "    soup = BeautifulSoup(html2, \"html.parser\")  # html.parser是解析器\n",
    "    div_people_list = soup.find(\"div\", attrs={\"class\": \"people_list\"})\n",
    "    a_s = div_people_list.find_all(\"a\", attrs={\"target\": \"_blank\"})\n",
    "    for a in a_s:\n",
    "        url = a[\"href\"]\n",
    "        name = a.get_text()\n",
    "        print(f\"{name},{url}\")"
   ]
  },
  {
   "cell_type": "markdown",
   "id": "2dc7c5a4",
   "metadata": {},
   "source": [
    "# 主函数main()"
   ]
  },
  {
   "cell_type": "code",
   "execution_count": null,
   "id": "9b84e82d",
   "metadata": {},
   "outputs": [],
   "source": [
    "if __name__ == \"__main__\":\n",
    "    if not_IPython():\n",
    "        log.info(f\"测试文件\\t{__file__}……\")\n",
    "\n",
    "    # print(get_ip4alleth('wlan0'))\n",
    "    #     pklpath = getdirmain() / 'itchat.pkl'\n",
    "    #     print(pklpath)\n",
    "    #     isitchat(pklpath)\n",
    "    print(get_ip4alleth())\n",
    "    print(get_host_ip())\n",
    "    #     tst4trycounttimes2()\n",
    "    if not_IPython():\n",
    "        log.info(f\"文件\\t{__file__}\\t测试完毕。\")"
   ]
  }
 ],
 "metadata": {
  "jupytext": {
   "cell_metadata_filter": "-all",
   "encoding": "# encoding:utf-8",
   "formats": "ipynb,py:percent",
   "main_language": "python",
   "notebook_metadata_filter": "jupytext,-kernelspec,-jupytext.text_representation.jupytext_version"
  }
 },
 "nbformat": 4,
 "nbformat_minor": 5
}
