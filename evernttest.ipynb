{
 "cells": [
  {
   "cell_type": "markdown",
   "id": "4c929c04",
   "metadata": {},
   "source": [
    "# evernote相关功能函数集"
   ]
  },
  {
   "cell_type": "code",
   "execution_count": null,
   "id": "6f468849",
   "metadata": {},
   "outputs": [],
   "source": [
    "\"\"\"\n",
    "evernote或印象笔记相关功能函数\n",
    "\"\"\""
   ]
  },
  {
   "cell_type": "markdown",
   "id": "76b86903",
   "metadata": {},
   "source": [
    "## 引入重要库"
   ]
  },
  {
   "cell_type": "code",
   "execution_count": null,
   "id": "9595e5c2",
   "metadata": {},
   "outputs": [],
   "source": [
    "import os\n",
    "import sys\n",
    "import binascii\n",
    "import datetime\n",
    "import hashlib\n",
    "import mimetypes\n",
    "import re\n",
    "import time\n",
    "import traceback\n",
    "import inspect\n",
    "import numpy as np\n",
    "import pandas as pd\n",
    "import http\n",
    "import ssl\n",
    "from bs4 import BeautifulSoup\n",
    "from evernote.api.client import EvernoteClient\n",
    "from evernote.edam.error.ttypes import EDAMNotFoundException, EDAMSystemException, EDAMUserException, EDAMErrorCode\n",
    "from evernote.edam.notestore.NoteStore import NoteFilter, NotesMetadataResultSpec\n",
    "from evernote.edam.type.ttypes import Note, NoteAttributes, Resource, ResourceAttributes, Data, Notebook\n",
    "from evernote.edam.userstore.constants import EDAM_VERSION_MAJOR, EDAM_VERSION_MINOR"
   ]
  },
  {
   "cell_type": "code",
   "execution_count": null,
   "id": "4c5a5569",
   "metadata": {},
   "outputs": [],
   "source": [
    "import pathmagic"
   ]
  },
  {
   "cell_type": "code",
   "execution_count": null,
   "id": "991f792e",
   "metadata": {},
   "outputs": [],
   "source": [
    "with pathmagic.context():\n",
    "    from func.configpr import getcfpoptionvalue, setcfpoptionvalue, removesection\n",
    "    from func.first import dirlog, dirmainpath, touchfilepath2depth\n",
    "    from func.logme import log\n",
    "    from func.nettools import trycounttimes2\n",
    "    from func.sysfunc import convertframe2dic, not_IPython, extract_traceback4exception, set_timeout, after_timeout\n",
    "    from func.datetimetools import timestamp2str\n",
    "    # from etc.getid import getid"
   ]
  },
  {
   "cell_type": "markdown",
   "id": "5e40c47b",
   "metadata": {},
   "source": [
    "print(f\"{__file__} is loading now...\")"
   ]
  },
  {
   "cell_type": "markdown",
   "id": "765f7f2b",
   "metadata": {},
   "source": [
    "## 函数集合"
   ]
  },
  {
   "cell_type": "markdown",
   "id": "3b2faf4d",
   "metadata": {
    "lines_to_next_cell": 2
   },
   "source": [
    "### def gettoken():"
   ]
  },
  {
   "cell_type": "code",
   "execution_count": null,
   "id": "297d5fda",
   "metadata": {
    "lines_to_next_cell": 2
   },
   "outputs": [],
   "source": [
    "def gettoken():\n",
    "    if china := getcfpoptionvalue(\"everwork\", \"evernote\", \"china\"):\n",
    "        # print(f\"china value:\\t{china}\")\n",
    "        auth_token = getcfpoptionvalue(\"everwork\", \"evernote\", \"tokenchina\")  # 直接提取，唯一使用\n",
    "    else:\n",
    "        # print(f\"china value:\\t{china}\")\n",
    "        auth_token = getcfpoptionvalue(\"everwork\", \"evernote\", \"token\")  # 直接提取，唯一使用\n",
    "\n",
    "    return auth_token"
   ]
  },
  {
   "cell_type": "markdown",
   "id": "e52e9277",
   "metadata": {
    "lines_to_next_cell": 2
   },
   "source": [
    "###  def imglist2note(notestore, reslist, noteguid, notetitle, neirong='', parentnotebookguid=None):"
   ]
  },
  {
   "cell_type": "code",
   "execution_count": null,
   "id": "e9b89ad2",
   "metadata": {
    "lines_to_next_cell": 2
   },
   "outputs": [],
   "source": [
    "def imglist2note(notestore, reslist, noteguid, notetitle, neirong=\"\", parentnotebookguid=None):\n",
    "    \"\"\"\n",
    "    更新note内容，可以包含图片等资源类文件列表\n",
    "    :param notestore:\n",
    "    :param reslist:\n",
    "    :param noteguid:\n",
    "    :param notetitle:\n",
    "    :param neirong:object\n",
    "    :return:\n",
    "    \"\"\"\n",
    "    note = Note()\n",
    "    noteattrib = NoteAttributes()\n",
    "    global en_username\n",
    "    if en_username is not None:\n",
    "        noteattrib.author = en_username\n",
    "        print(f\"I'm here while creating the note, for evernote user {en_username}\")\n",
    "    note.attributes = noteattrib\n",
    "    note.guid = noteguid.lower()\n",
    "    note.title = notetitle\n",
    "    if (parentnotebookguid is not None) and (re.search(\"\\w{8}(-\\w{4}){3}-\\w{12}\", parentnotebookguid) is not None):\n",
    "        note.notebookGuid = parentnotebookguid\n",
    "\n",
    "    # To include an attachment such as an image in a note, first create a Resource\n",
    "    # for the attachment. At a minimum, the Resource contains the binary attachment\n",
    "    # data, an MD5 hash of the binary data, and the attachment MIME type.\n",
    "    # It can also include attributes such as filename and location.\n",
    "\n",
    "    # Now, add the new Resource to the note's list of resources\n",
    "    # print(len(note.resources))\n",
    "    # print(noteguid)\n",
    "    # note.resources = notestore.getNote(token, noteguid, True, True, True,True).resources\n",
    "    # evernoteapijiayi()\n",
    "    # if not note.resources:\n",
    "    #     note.resources = []\n",
    "\n",
    "    note.resources = []\n",
    "    # print(len(note.resources))\n",
    "    # for img, imgtitle in imglist:\n",
    "    for res in reslist:\n",
    "        \"\"\"\n",
    "        必须要重新构建一个Data（），否则内容不会变化\n",
    "        Data只有三个域：bodyHash（用MD5进行hash得到的值）、size（body的字节长度）\n",
    "        和body（字节形式的内容本身）\n",
    "        \"\"\"\n",
    "        resactual = open(res, \"rb\").read()\n",
    "        md5 = hashlib.md5()\n",
    "        md5.update(resactual)\n",
    "        reshash = md5.digest()\n",
    "        data = Data()\n",
    "        data.size = len(resactual)\n",
    "        data.bodyHash = reshash\n",
    "        data.body = resactual\n",
    "        \"\"\"\n",
    "        Resource需要常用的域：guid、noteGuid、data（指定上面的Data）、\n",
    "        mime（需要设定）、attributes（可以设定附件的原文件名）\n",
    "        \"\"\"\n",
    "        resource = Resource()\n",
    "        #         resource.mime = 'image/png'\n",
    "        if (mtype := mimetypes.guess_type(res)[0]) is None:\n",
    "            logstr = f\"文件《{res}》的类型无法判断\"\n",
    "            log.critical(logstr)\n",
    "            print(logstr)\n",
    "            mtype = \"file/unkonwn\"\n",
    "        #             continue\n",
    "        resource.mime = mtype\n",
    "        #         print(mtype)\n",
    "        resource.data = data\n",
    "        \"\"\"\n",
    "        NoteAttributes常用的域：sourceURL、fileName和经纬度、照相机等信息\n",
    "        \"\"\"\n",
    "        resattrib = ResourceAttributes()\n",
    "        resattrib.fileName = res\n",
    "        resource.attributes = resattrib\n",
    "        note.resources.append(resource)\n",
    "\n",
    "    # The content of an Evernote note is represented using Evernote Markup Language\n",
    "    # (ENML). The full ENML specification can be found in the Evernote API Overview\n",
    "    # at http://dev.evernote.com/documentation/cloud/chapters/ENML.php\n",
    "    nbody = '<?xml version=\"1.0\" encoding=\"UTF-8\"?>'\n",
    "    nbody += '<!DOCTYPE en-note SYSTEM \"http://xml.evernote.com/pub/enml2.dtd\">'\n",
    "    nbody += \"<en-note>\"\n",
    "    if note.resources:\n",
    "        # To display the Resource as part of the note's content, include an <en-media>\n",
    "        # tag in the note's ENML content. The en-media tag identifies the corresponding\n",
    "        # Resource using the MD5 hash.\n",
    "        # nBody += \"<br />\" * 2\n",
    "        for resource in note.resources:\n",
    "            #             print(resource.guid)\n",
    "            if resource.mime.startswith(\"image\") or True:\n",
    "                hexhash = binascii.hexlify(resource.data.bodyHash)\n",
    "                str1 = \"%s\" % hexhash  # b'cd34b4b6c8d9279217b03c396ca913df'\n",
    "                # print (str1)\n",
    "                str1 = str1[2:-1]  # cd34b4b6c8d9279217b03c396ca913df\n",
    "                print(resource.mime)\n",
    "                nbody += '<en-media type=\"%s\" hash=\"%s\" align=\"center\" longdesc=\"%s\" /><br />%s<hr />' % (\n",
    "                    resource.mime,\n",
    "                    str1,\n",
    "                    resource.attributes.fileName,\n",
    "                    resource.attributes.fileName,\n",
    "                )\n",
    "    # neirong= \"<pre>\" + neirong + \"</pre>\"\n",
    "\n",
    "    # 去除控制符\n",
    "    neirong = re.sub(r\"[\\x00-\\x08\\x0b-\\x0c\\x0e-\\x1f]\", \"\", neirong)\n",
    "    neirong = re.sub(\"&\", \"and连接符\", neirong)\n",
    "\n",
    "    nbody += neirong\n",
    "    nbody += \"</en-note>\"\n",
    "\n",
    "    # ！！！严重错误，过滤\\x14时把回车等符号都杀了！！！\n",
    "    # nbodynotasciilst = [hex(ord(x)) for x in nbody if ord(x) < 32]\n",
    "    # print(f\"存在不可显示字符串：{''.join(nbodynotasciilst)}\")\n",
    "    # nbodylst = [x for x in nbody if ord(x) >= 32]\n",
    "    # nbody = ''.join(nbodylst)\n",
    "    note.content = nbody\n",
    "    # log.info(f\"新构笔记文字部分长度为：\\t{len(nbody)}\")\n",
    "    # print(note.content[:100])\n",
    "\n",
    "    # Finally, send the new note to Evernote using the updateNote method\n",
    "    # The new Note object that is returned will contain server-generated\n",
    "    # attributes such as the new note's unique GUID.\n",
    "    @trycounttimes2(\"evernote服务器，更新笔记。\")\n",
    "    def updatenote(notesrc):\n",
    "        nsinner = get_notestore()\n",
    "        token = gettoken()\n",
    "        updated_note = nsinner.updateNote(token, notesrc)\n",
    "        evernoteapijiayi()\n",
    "        log.info(\"成功更新了笔记《%s》，guid：%s。\" % (updated_note.title, updated_note.guid))\n",
    "\n",
    "    updatenote(note)"
   ]
  },
  {
   "cell_type": "markdown",
   "id": "7988aecd",
   "metadata": {
    "lines_to_next_cell": 2
   },
   "source": [
    "###  def updatereslst2note(reslist, guidinput, title=None, neirong=None, filenameonly=False, parentnotebookguid=None):"
   ]
  },
  {
   "cell_type": "code",
   "execution_count": null,
   "id": "f20d58d4",
   "metadata": {
    "lines_to_next_cell": 2
   },
   "outputs": [],
   "source": [
    "def updatereslst2note(reslist, guidinput, title=None, neirong=None, filenameonly=False, parentnotebookguid=None):\n",
    "    \"\"\"\n",
    "    更新note附件和文字内容，附件只更新或添加，不影响其它附件，可以包含图片等资源类文件列表\n",
    "    :param notestore:\n",
    "    :param reslist:\n",
    "    :param noteguid:\n",
    "    :param notetitle:\n",
    "    :param neirong:object\n",
    "    :return:\n",
    "    \"\"\"\n",
    "    noteattrib = NoteAttributes()\n",
    "    #     global en_username\n",
    "    #     if en_username is not None:\n",
    "    #         noteattrib.author = en_username\n",
    "    #         print(f\"I'm here while updating the note for special res, for evernote user {en_username}\")\n",
    "\n",
    "    resfnonlylist = [os.path.basename(innerpath) for innerpath in reslist]  # 只取用文件名，保证名称唯一\n",
    "    #     print(f\"输入资源短文件名列表：\\t{resfnonlylist}\")\n",
    "    reslist = [os.path.abspath(innerpath) for innerpath in reslist]  # 取用绝对路径，保证名称唯一\n",
    "    #     print(f\"输入资源长文件名列表：\\t{reslist}\")\n",
    "\n",
    "    noteinput = getnoteall(guidinput)\n",
    "    note = Note()\n",
    "    note.attributes = noteattrib\n",
    "    note.guid = guidinput\n",
    "\n",
    "    if (parentnotebookguid is not None) and (re.search(\"\\w{8}(-\\w{4}){3}-\\w{12}\", parentnotebookguid) is not None):\n",
    "        note.notebookGuid = parentnotebookguid\n",
    "    #         print(parentnotebookguid)\n",
    "    if title is None:\n",
    "        note.title = noteinput.title\n",
    "    else:\n",
    "        note.title = title\n",
    "\n",
    "    #     print(f\"inputnote's resources is {noteinput.resources}\")\n",
    "    if (nirs := noteinput.resources) is not None:\n",
    "        if filenameonly:\n",
    "            notereslstclean = [res for res in nirs if res.attributes.fileName not in resfnonlylist]\n",
    "        else:\n",
    "            notereslstclean = [res for res in nirs if res.attributes.fileName not in reslist]\n",
    "    else:\n",
    "        notereslstclean = list()\n",
    "    print(f\"待更新笔记中的资源文件有{len(notereslstclean)}个\", end=\"，\")\n",
    "    \"\"\"\n",
    "    必须重新构建note.resources，否则内容不会改变\n",
    "    \"\"\"\n",
    "    note.resources = []\n",
    "    for res1 in notereslstclean:\n",
    "        note.resources.append(res1)\n",
    "\n",
    "    # To include an attachment such as an image in a note, first create a Resource\n",
    "    # for the attachment. At a minimum, the Resource contains the binary attachment\n",
    "    # data, an MD5 hash of the binary data, and the attachment MIME type.\n",
    "    # It can also include attributes such as filename and location.\n",
    "\n",
    "    # Now, add the new Resource to the note's list of resources\n",
    "    for res in reslist:\n",
    "        \"\"\"\n",
    "        必须要重新构建一个Data（），否则内容不会变化\n",
    "        Data只有三个域：bodyHash（用MD5进行hash得到的值）、size（body的字节长度）和body（字节形式的内容本身）\n",
    "        \"\"\"\n",
    "        resactual = open(res, \"rb\").read()\n",
    "        md5 = hashlib.md5()\n",
    "        md5.update(resactual)\n",
    "        reshash = md5.digest()\n",
    "        data = Data()\n",
    "        data.size = len(resactual)\n",
    "        data.bodyHash = reshash\n",
    "        data.body = resactual\n",
    "        \"\"\"\n",
    "        Resource需要常用的域：guid、noteGuid、data（指定上面的Data）、mime（需要设定）、attributes（可以设定附件的原文件名）\n",
    "        \"\"\"\n",
    "        resource = Resource()\n",
    "        #         resource.mime = 'image/png'\n",
    "        if (mtype := mimetypes.guess_type(res)[0]) is None:\n",
    "            logstr = f\"文件《{res}》的类型无法判断\"\n",
    "            log.critical(logstr)\n",
    "            print(logstr)\n",
    "            mtype = \"file/unkonwn\"\n",
    "        #             continue\n",
    "        resource.mime = mtype\n",
    "        #         print(mtype)\n",
    "        resource.data = data\n",
    "        \"\"\"\n",
    "        NoteAttributes常用的域：sourceURL、fileName和经纬度、照相机等信息\n",
    "        \"\"\"\n",
    "        resattrib = ResourceAttributes()\n",
    "        if filenameonly:\n",
    "            resattrib.fileName = os.path.basename(res)\n",
    "        else:\n",
    "            resattrib.fileName = res\n",
    "        resource.attributes = resattrib\n",
    "        note.resources.append(resource)\n",
    "\n",
    "    print(f\"处理后共有{len(note.resources)}个。\")\n",
    "    # The content of an Evernote note is represented using Evernote Markup Language\n",
    "    # (ENML). The full ENML specification can be found in the Evernote API Overview\n",
    "    # at http://dev.evernote.com/documentation/cloud/chapters/ENML.php\n",
    "    nbody = '<?xml version=\"1.0\" encoding=\"UTF-8\"?>'\n",
    "    nbody += '<!DOCTYPE en-note SYSTEM \"http://xml.evernote.com/pub/enml2.dtd\">'\n",
    "    nbody += \"<en-note>\"\n",
    "    if ((nss := note.resources) is not None) & (len(nss) != 0):\n",
    "        # To display the Resource as part of the note's content, include an <en-media>\n",
    "        # tag in the note's ENML content. The en-media tag identifies the corresponding\n",
    "        # Resource using the MD5 hash.\n",
    "        # nBody += \"<br />\" * 2\n",
    "        for resource in nss:\n",
    "            #             print(resource.guid)\n",
    "            if resource.mime.startswith(\"image\") or True:\n",
    "                hexhash = binascii.hexlify(resource.data.bodyHash)\n",
    "                str1 = \"%s\" % hexhash  # b'cd34b4b6c8d9279217b03c396ca913df'\n",
    "                # print (str1)\n",
    "                str1 = str1[2:-1]  # cd34b4b6c8d9279217b03c396ca913df\n",
    "                #                 print(resource.mime)\n",
    "                nbody += '<en-media type=\"%s\" hash=\"%s\" align=\"center\" longdesc=\"%s\" /><br />%s<hr />' % (\n",
    "                    resource.mime,\n",
    "                    str1,\n",
    "                    resource.attributes.fileName,\n",
    "                    resource.attributes.fileName,\n",
    "                )\n",
    "    if neirong is not None:\n",
    "        neirong = \"<pre>\" + neirong + \"</pre>\"\n",
    "        # 去除控制符\n",
    "        neirong = re.sub(r\"[\\x00-\\x08\\x0b-\\x0c\\x0e-\\x1f]\", \"\", neirong)\n",
    "        neirong = re.sub(\"&\", \"and连接符\", neirong)\n",
    "        nbody += neirong\n",
    "\n",
    "    nbody += \"</en-note>\"\n",
    "\n",
    "    # ！！！严重错误，过滤\\x14时把回车等符号都杀了！！！\n",
    "    # nbodynotasciilst = [hex(ord(x)) for x in nbody if ord(x) < 32]\n",
    "    # print(f\"存在不可显示字符串：{''.join(nbodynotasciilst)}\")\n",
    "    # nbodylst = [x for x in nbody if ord(x) >= 32]\n",
    "    # nbody = ''.join(nbodylst)\n",
    "    note.content = nbody\n",
    "    #     print(nbody)\n",
    "    # log.info(f\"新构笔记文字部分长度为：\\t{len(nbody)}\")\n",
    "    # print(note.content[:100])\n",
    "\n",
    "    # Finally, send the new note to Evernote using the updateNote method\n",
    "    # The new Note object that is returned will contain server-generated\n",
    "    # attributes such as the new note's unique GUID.\n",
    "    #     print(f\"I'm here while note'updating is ready.\\t{note.guid}\")\n",
    "    #     p_noteattributeundertoken(noteinput)\n",
    "    @trycounttimes2(\"evernote服务器，更新笔记。\")\n",
    "    def updatenote(notesrc):\n",
    "        nsinner = get_notestore()\n",
    "        token = gettoken()\n",
    "        updated_note = nsinner.updateNote(token, notesrc)\n",
    "        evernoteapijiayi()\n",
    "        log.info(\"成功更新了笔记《%s》，guid：%s。资源列表为：%s\" % (updated_note.title, updated_note.guid, reslist))\n",
    "\n",
    "    #         if updated_note:\n",
    "    #             if updated_note.resources:\n",
    "    #                 print(f\"笔记res更新后共有{len(updated_note.resources)}个\")\n",
    "    #                 print([res.attributes.fileName for res in updated_note.resources])\n",
    "\n",
    "    updatenote(note)"
   ]
  },
  {
   "cell_type": "markdown",
   "id": "a8001680",
   "metadata": {
    "lines_to_next_cell": 2
   },
   "source": [
    "###  def tablehtml2evernote(dataframe, tabeltitle='表格标题', withindex=True, setwidth=True):"
   ]
  },
  {
   "cell_type": "code",
   "execution_count": null,
   "id": "5e6b3c64",
   "metadata": {
    "lines_to_next_cell": 2
   },
   "outputs": [],
   "source": [
    "def tablehtml2evernote(dataframe, tabeltitle=\"表格标题\", withindex=True, setwidth=True):\n",
    "    colwidth = pd.get_option(\"max_colwidth\")\n",
    "    if setwidth:\n",
    "        pd.set_option(\"max_colwidth\", 200)\n",
    "    else:\n",
    "        # print(colwidth)\n",
    "        pass\n",
    "    df = pd.DataFrame(dataframe)\n",
    "    outstr = (\n",
    "        df.to_html(justify=\"center\", index=withindex)\n",
    "        .replace('class=\"dataframe\">', 'align=\"center\">')\n",
    "        .replace(\"<table\", '\\n<h3 align=\"center\">%s</h3>\\n<table' % tabeltitle)\n",
    "        .replace(\"<th></th>\", \"<th>&nbsp;</th>\")\n",
    "    )\n",
    "    # print(outstr)\n",
    "    if setwidth:\n",
    "        pd.set_option(\"max_colwidth\", colwidth)\n",
    "    return outstr"
   ]
  },
  {
   "cell_type": "markdown",
   "id": "7512c147",
   "metadata": {
    "lines_to_next_cell": 2
   },
   "source": [
    "###  def findnotefromnotebook(notebookguid, titlefind='', notecount=10000):"
   ]
  },
  {
   "cell_type": "code",
   "execution_count": null,
   "id": "f3c72867",
   "metadata": {
    "lines_to_next_cell": 2
   },
   "outputs": [],
   "source": [
    "def findnotefromnotebook(notebookguid, titlefind=\"\", notecount=10000):\n",
    "    \"\"\"\n",
    "    列出笔记本中包含某关键词的笔记信息\n",
    "    :param tokenfnfn: token\n",
    "    :param notebookguid: 笔记本的guid\n",
    "    :param titlefind: 关键词\n",
    "    :param notecount: 搜索结果数量限值\n",
    "    :return: 列表，包含形如[noteguid, notetitle, note.updateSequenceNum]的list\n",
    "    \"\"\"\n",
    "    global note_store\n",
    "    note_store = get_notestore()\n",
    "    notefilter = NoteFilter()\n",
    "    notefilter.notebookGuid = notebookguid\n",
    "    notemetaspec = NotesMetadataResultSpec(\n",
    "        includeTitle=True,\n",
    "        includeContentLength=True,\n",
    "        includeCreated=True,\n",
    "        includeUpdated=True,\n",
    "        includeDeleted=True,\n",
    "        includeUpdateSequenceNum=True,\n",
    "        includeNotebookGuid=True,\n",
    "        includeTagGuids=True,\n",
    "        includeAttributes=True,\n",
    "        includeLargestResourceMime=True,\n",
    "        includeLargestResourceSize=True,\n",
    "    )\n",
    "\n",
    "    @trycounttimes2(\"evernote服务器\")\n",
    "    def findnote(startnum: int = 0, maxnum: int = 250):\n",
    "        tokenfnfn = gettoken()\n",
    "        # log.info(\"I'm here now too.\")\n",
    "        notelist = note_store.findNotesMetadata(tokenfnfn, notefilter, startnum, maxnum, notemetaspec)\n",
    "        # log.info(\"I'm here now three.\")\n",
    "        evernoteapijiayi()\n",
    "        return notelist\n",
    "\n",
    "    width = 250\n",
    "    items = list()\n",
    "    ournotelist = findnote()\n",
    "    print(ournotelist.totalNotes)\n",
    "    items.extend(\n",
    "        [\n",
    "            [note.guid, note.title, note.updateSequenceNum]\n",
    "            for note in ournotelist.notes\n",
    "            if note.title.find(titlefind) >= 0\n",
    "        ]\n",
    "    )\n",
    "\n",
    "    if ournotelist.totalNotes > notecount:\n",
    "        numtobesplit = notecount\n",
    "    else:\n",
    "        numtobesplit = ournotelist.totalNotes\n",
    "\n",
    "    spllst = [\n",
    "        (i * width, (width, numtobesplit - width * i)[numtobesplit - width * (i + 1) < 0], numtobesplit)\n",
    "        for i in range((numtobesplit // width) + 1)\n",
    "    ]\n",
    "    if len(spllst) >= 1:\n",
    "        print(spllst)\n",
    "        for numbt in spllst[1:]:\n",
    "            print(numbt)\n",
    "            ournotelist = findnote(numbt[0], numbt[1])\n",
    "            items.extend(\n",
    "                [\n",
    "                    [note.guid, note.title, note.updateSequenceNum]\n",
    "                    for note in ournotelist.notes\n",
    "                    if note.title.find(titlefind) >= 0\n",
    "                ]\n",
    "            )\n",
    "\n",
    "    return items"
   ]
  },
  {
   "cell_type": "markdown",
   "id": "4fae8876",
   "metadata": {
    "lines_to_next_cell": 2
   },
   "source": [
    "###  def getnoteall(guid: str):"
   ]
  },
  {
   "cell_type": "code",
   "execution_count": null,
   "id": "f28182d8",
   "metadata": {
    "lines_to_next_cell": 2
   },
   "outputs": [],
   "source": [
    "@trycounttimes2(\"evernote服务器\")\n",
    "def getnoteall(guid: str):\n",
    "    \"\"\"\n",
    "    获取笔记\n",
    "    :param guid:\n",
    "    :return:note\n",
    "    \"\"\"\n",
    "    nost = get_notestore()\n",
    "    note = nost.getNote(gettoken(), guid.lower(), True, True, False, False)\n",
    "    #     print(note)\n",
    "    evernoteapijiayi()\n",
    "\n",
    "    return note"
   ]
  },
  {
   "cell_type": "markdown",
   "id": "a5708dad",
   "metadata": {
    "lines_to_next_cell": 2
   },
   "source": [
    "###  def getnotecontent(guid: str):"
   ]
  },
  {
   "cell_type": "code",
   "execution_count": null,
   "id": "228fe81e",
   "metadata": {
    "lines_to_next_cell": 2
   },
   "outputs": [],
   "source": [
    "@trycounttimes2(\"evernote服务器\")\n",
    "def getnotecontent(guid: str):\n",
    "    \"\"\"\n",
    "    获取笔记内容\n",
    "    :param guid:\n",
    "    :return:\n",
    "    \"\"\"\n",
    "    ns = get_notestore()\n",
    "    soup = BeautifulSoup(ns.getNoteContent(guid), \"html.parser\")\n",
    "    # print(soup)\n",
    "\n",
    "    return soup"
   ]
  },
  {
   "cell_type": "markdown",
   "id": "1f8ba701",
   "metadata": {
    "lines_to_next_cell": 2
   },
   "source": [
    "###  def getnoteresource(guid: str):"
   ]
  },
  {
   "cell_type": "code",
   "execution_count": null,
   "id": "a16a673c",
   "metadata": {
    "lines_to_next_cell": 2
   },
   "outputs": [],
   "source": [
    "@trycounttimes2(\"evernote服务器\")\n",
    "def getnoteresource(guid: str):\n",
    "    \"\"\"\n",
    "    获取笔记附件\n",
    "    :param guid:\n",
    "    :return:\n",
    "    \"\"\"\n",
    "    ns = get_notestore()\n",
    "    note = ns.getNote(gettoken(), guid, True, True, False, False)\n",
    "    evernoteapijiayi()\n",
    "    resultlst = list()\n",
    "    if note.resources is None:\n",
    "        log.critical(f\"笔记{guid}中没有包含资源文件，返回空列表\")\n",
    "        return list()\n",
    "    for resitem in note.resources:\n",
    "        sonlst = list()\n",
    "        sonlst.append(resitem.attributes.fileName)\n",
    "        #         sonlst.append(resitem.data.body.decode())\n",
    "        sonlst.append(resitem.data.body)\n",
    "        resultlst.append(sonlst)\n",
    "    # print(soup)\n",
    "\n",
    "    return resultlst"
   ]
  },
  {
   "cell_type": "markdown",
   "id": "2fa1e5c7",
   "metadata": {
    "lines_to_next_cell": 2
   },
   "source": [
    "###  def createnotebook(nbname: str, stack='fresh'):"
   ]
  },
  {
   "cell_type": "code",
   "execution_count": null,
   "id": "4b751b61",
   "metadata": {
    "lines_to_next_cell": 2
   },
   "outputs": [],
   "source": [
    "def createnotebook(nbname: str, stack=\"fresh\"):\n",
    "    notebook = Notebook()\n",
    "    notebook.name = nbname\n",
    "    notebook.stack = stack\n",
    "\n",
    "    return get_notestore().createNotebook(gettoken(), notebook)"
   ]
  },
  {
   "cell_type": "markdown",
   "id": "c92d06d1",
   "metadata": {
    "lines_to_next_cell": 2
   },
   "source": [
    "###  def makenote(tokenmn, notestore, notetitle, notebody='真元商贸——休闲食品经营专家', parentnotebook=None):"
   ]
  },
  {
   "cell_type": "code",
   "execution_count": null,
   "id": "e2052b88",
   "metadata": {
    "lines_to_next_cell": 2
   },
   "outputs": [],
   "source": [
    "def makenote(tokenmn, notestore, notetitle, notebody=\"真元商贸——休闲食品经营专家\", parentnotebook=None):\n",
    "    \"\"\"\n",
    "    创建一个note\n",
    "    :param tokenmn:\n",
    "    :param notestore:\n",
    "    :param notetitle:\n",
    "    :param notebody:\n",
    "    :param parentnotebook:\n",
    "    :return:\n",
    "    \"\"\"\n",
    "    # global log\n",
    "    nbody = '<?xml version=\"1.0\" encoding=\"UTF-8\"?>'\n",
    "    nbody += '<!DOCTYPE en-note SYSTEM \"http://xml.evernote.com/pub/enml2.dtd\">'\n",
    "    nbody += \"<en-note>%s</en-note>\" % notebody\n",
    "\n",
    "    # Create note object\n",
    "    ournote = Note()\n",
    "    ournote.title = notetitle\n",
    "    ournote.content = nbody\n",
    "\n",
    "    # parentNotebook is optional; if omitted, default notebook is used\n",
    "    if type(parentnotebook) is str:\n",
    "        parentnotebook = notestore.getNotebook(gettoken(), parentnotebook)\n",
    "    if parentnotebook and hasattr(parentnotebook, \"guid\"):\n",
    "        ournote.notebookGuid = parentnotebook.guid\n",
    "\n",
    "    # Attempt to create note in Evernote account\n",
    "    try:\n",
    "        note = notestore.createNote(tokenmn, ournote)\n",
    "        evernoteapijiayi()\n",
    "        if parentnotebook and hasattr(parentnotebook, \"name\"):\n",
    "            bkname = f\"<{parentnotebook.name}>\"\n",
    "        else:\n",
    "            bkname = \"默认\"\n",
    "        log.info(f\"笔记《{notetitle}》在\\t{bkname}\\t笔记本中创建成功。\")\n",
    "        return note\n",
    "    except EDAMUserException as usere:\n",
    "        # Something was wrong with the note data\n",
    "        # See EDAMErrorCode enumeration for error code explanation\n",
    "        # http://dev.evernote.com/documentation/reference/Errors.html#Enum_EDAMErrorCode\n",
    "        log.critical(\"用户错误！%s\" % str(usere))\n",
    "    except EDAMNotFoundException as notfounde:\n",
    "        # Parent Notebook GUID doesn't correspond to an actual notebook\n",
    "        print(\"无效的笔记本guid（识别符）！%s\" % str(notfounde))\n",
    "    except EDAMSystemException as systeme:\n",
    "        if systeme.errorCode == EDAMErrorCode.RATE_LIMIT_REACHED:\n",
    "            log.critical(\"API达到调用极限，需要 %d 秒后重来\" % systeme.rateLimitDuration)\n",
    "            exit(1)\n",
    "        else:\n",
    "            log.critical(\"创建笔记时出现严重错误：\" + str(systeme))\n",
    "            exit(2)"
   ]
  },
  {
   "cell_type": "markdown",
   "id": "6b72ac68",
   "metadata": {
    "lines_to_next_cell": 2
   },
   "source": [
    "### def makenote2(notetitle, notebody='真元商贸——休闲食品经营专家', parentnotebookguid=None):"
   ]
  },
  {
   "cell_type": "code",
   "execution_count": null,
   "id": "4f534f5f",
   "metadata": {
    "lines_to_next_cell": 2
   },
   "outputs": [],
   "source": [
    "def makenote2(notetitle, notebody=\"真元商贸——休闲食品经营专家\", parentnotebookguid=None):\n",
    "    \"\"\"\n",
    "    创建note，封装token和notestore\n",
    "    :param notetitle:\n",
    "    :param notebody:\n",
    "    :param parentnotebook:\n",
    "    :return:\n",
    "    \"\"\"\n",
    "\n",
    "    notestore = get_notestore()\n",
    "    nbody = '<?xml version=\"1.0\" encoding=\"UTF-8\"?>'\n",
    "    nbody += '<!DOCTYPE en-note SYSTEM \"http://xml.evernote.com/pub/enml2.dtd\">'\n",
    "    nbody += \"<en-note>%s</en-note>\" % notebody\n",
    "\n",
    "    # Create note object\n",
    "    ournote = Note()\n",
    "    ournote.title = notetitle\n",
    "    ournote.content = nbody\n",
    "\n",
    "    # parentNotebook is optional; if omitted, default notebook is used\n",
    "    if type(parentnotebookguid) is str:\n",
    "        try:\n",
    "            parentnotebook = notestore.getNotebook(gettoken(), parentnotebookguid)\n",
    "        except:\n",
    "            log.critical(f\"新建笔记的笔记本guid属性无效，设置为默认\")\n",
    "            parentnotebook = None\n",
    "    else:\n",
    "        parentnotebook = None\n",
    "    if parentnotebook and hasattr(parentnotebook, \"guid\"):\n",
    "        ournote.notebookGuid = parentnotebook.guid\n",
    "\n",
    "    # Attempt to create note in Evernote account\n",
    "    try:\n",
    "        note = notestore.createNote(gettoken(), ournote)\n",
    "        evernoteapijiayi()\n",
    "        if parentnotebook and hasattr(parentnotebook, \"name\"):\n",
    "            bkname = f\"<{parentnotebook.name}>\"\n",
    "        else:\n",
    "            bkname = \"默认\"\n",
    "        log.info(f\"笔记《{notetitle}》在\\t{bkname}\\t笔记本中创建成功。\")\n",
    "        return note\n",
    "    except EDAMUserException as usere:\n",
    "        # Something was wrong with the note data\n",
    "        # See EDAMErrorCode enumeration for error code explanation\n",
    "        # http://dev.evernote.com/documentation/reference/Errors.html#Enum_EDAMErrorCode\n",
    "        log.critical(\"用户错误！%s\" % str(usere))\n",
    "    except EDAMNotFoundException as notfounde:\n",
    "        # Parent Notebook GUID doesn't correspond to an actual notebook\n",
    "        print(\"无效的笔记本guid（识别符）！%s\" % str(notfounde))\n",
    "    except EDAMSystemException as systeme:\n",
    "        if systeme.errorCode == EDAMErrorCode.RATE_LIMIT_REACHED:\n",
    "            log.critical(\"API达到调用极限，需要 %d 秒后重来\" % systeme.rateLimitDuration)\n",
    "            exit(1)\n",
    "        else:\n",
    "            log.critical(\"创建笔记时出现严重错误：\" + str(systeme))\n",
    "            exit(2)"
   ]
  },
  {
   "cell_type": "markdown",
   "id": "107c86b7",
   "metadata": {
    "lines_to_next_cell": 2
   },
   "source": [
    "### def evernoteapijiayi():"
   ]
  },
  {
   "cell_type": "code",
   "execution_count": null,
   "id": "f52416ba",
   "metadata": {
    "lines_to_next_cell": 2
   },
   "outputs": [],
   "source": [
    "def evernoteapijiayi():\n",
    "    \"\"\"\n",
    "    evernote api调用次数加一。结合api调用限制，整点或达到限值（貌似是300次每小时）则重构一个继续干。\n",
    "    \"\"\"\n",
    "    cfpapiname = \"everapi\"\n",
    "    nssectionname = \"notestore\"\n",
    "    note_store = get_notestore()\n",
    "    nsstr4ini = hex(id(note_store))\n",
    "    nowtime = datetime.datetime.now()\n",
    "    nowmin = nowtime.minute\n",
    "    try:\n",
    "        nowhourini = getcfpoptionvalue(cfpapiname, \"apitimes\", \"hour\")\n",
    "        # ns首次启动和整点重启（用小时判断）\n",
    "        if not (apitimes := getcfpoptionvalue(cfpapiname, nssectionname, nsstr4ini)) or (\n",
    "            (nowmin == 0) and (nowhourini != nowtime.hour)\n",
    "        ):\n",
    "            if nowmin == 0:\n",
    "                log.info(f\"Evernote API\\t{nsstr4ini} 调用次数整点重启^_^\")\n",
    "            else:\n",
    "                log.info(f\"Evernote API\\t{nsstr4ini} 新生^_^{inspect.stack()[-1]}\")\n",
    "            #             log.critical(f\"Evernote API\\t{nsstr4ini} 新生^_^{inspect.stack()[-1]}\")\n",
    "            apitimes = 0\n",
    "            #         print(nowhourini, nowtime.hour)\n",
    "        if nowhourini != nowtime.hour:\n",
    "            setcfpoptionvalue(cfpapiname, \"apitimes\", \"hour\", str(nowtime.hour))\n",
    "        apitimes += 1\n",
    "        log.debug(f\"动用Evernote API({note_store})次数：\\t {apitimes} \")\n",
    "        setcfpoptionvalue(cfpapiname, nssectionname, nsstr4ini, str(apitimes))\n",
    "    except Exception as e:\n",
    "        log.critical(\n",
    "            f\"{cfpapiname}配置文件存取出现严重错误，试图清除《{nssectionname}》小节下的所有内容。跳过一次api调用计数！\"\n",
    "        )\n",
    "        log.critical(e)\n",
    "        removesection(cfpapiname, nssectionname)\n",
    "        return\n",
    "    if apitimes >= 290:\n",
    "        sleepsecs = np.random.randint(0, 50)\n",
    "        time.sleep(sleepsecs)\n",
    "        note_store = None\n",
    "        note_store = get_notestore(forcenew=True)\n",
    "        log.critical(f\"休息{sleepsecs:d}秒，重新构造了一个服务器连接{note_store}继续干……\")"
   ]
  },
  {
   "cell_type": "markdown",
   "id": "9368bca2",
   "metadata": {
    "lines_to_next_cell": 2
   },
   "source": [
    "### def evernoteapijiayi_test():"
   ]
  },
  {
   "cell_type": "code",
   "execution_count": null,
   "id": "4c442c4a",
   "metadata": {
    "lines_to_next_cell": 2
   },
   "outputs": [],
   "source": [
    "def evernoteapijiayi_test():\n",
    "    calllink = [\n",
    "        re.findall(\"^<FrameSummary file (.+), line (\\d+) in (.+)>$\", str(line)) for line in traceback.extract_stack()\n",
    "    ]\n",
    "    if len(calllink) > 0:\n",
    "        calllinks = str(calllink[-1])\n",
    "    #         print(calllinks)\n",
    "    else:\n",
    "        calllinks = \"\"\n",
    "    note_store = get_notestore()\n",
    "    nsstr4ini = str(id(note_store))\n",
    "    nowtime = datetime.datetime.now()\n",
    "    nowmin = nowtime.minute\n",
    "    nowhourini = getcfpoptionvalue(\"everapi\", \"apitimes\", \"hour\")\n",
    "    # ns首次启动和整点重启（用小时判断）\n",
    "    if not (apitimes := getcfpoptionvalue(\"everapi\", \"apitimes\", nsstr4ini)) or (\n",
    "        (nowmin == 0) and (nowhourini != nowtime.hour)\n",
    "    ):\n",
    "        if nowmin == 0:\n",
    "            log.critical(f\"Evernote API\\t{nsstr4ini} 调用次数整点重启^_^{calllinks}\")\n",
    "        else:\n",
    "            log.critical(f\"Evernote API\\t{nsstr4ini} 新生^_^{calllinks}\")\n",
    "        apitimes = 0\n",
    "    if nowhourini != nowtime.hour:\n",
    "        setcfpoptionvalue(\"everapi\", \"apitimes\", \"hour\", str(nowtime.hour))\n",
    "    apitimes += 1\n",
    "    log.debug(f\"动用Evernote API({note_store})次数：\\t {apitimes} \")\n",
    "    setcfpoptionvalue(\"everapi\", \"apitimes\", nsstr4ini, str(apitimes))\n",
    "    if apitimes >= 290:\n",
    "        sleepsecs = np.random.randint(0, 50)\n",
    "        time.sleep(sleepsecs)\n",
    "        note_store = None\n",
    "        note_store = get_notestore(forcenew=True)\n",
    "        log.critical(f\"休息{sleepsecs:d}秒，重新构造了一个服务器连接{note_store}继续干……{calllinks}\")"
   ]
  },
  {
   "cell_type": "markdown",
   "id": "178c9db3",
   "metadata": {
    "lines_to_next_cell": 2
   },
   "source": [
    "### def p_notebookattributeundertoken(notebook):"
   ]
  },
  {
   "cell_type": "code",
   "execution_count": null,
   "id": "d29b9d05",
   "metadata": {
    "lines_to_next_cell": 2
   },
   "outputs": [],
   "source": [
    "# @use_logging()\n",
    "def p_notebookattributeundertoken(notebook):\n",
    "    \"\"\"\n",
    "    测试笔记本（notebook）数据结构每个属性的返回值,开发口令（token）的方式调用返回如下\n",
    "    :param notebook:\n",
    "    :return:dict\n",
    "    \"\"\"\n",
    "    rstdict = dict()\n",
    "    rstdict[\"名称\"] = notebook.name  # phone\n",
    "    rstdict[\"guid\"] = notebook.guid  # f64c3076-60d1-4f0d-ac5c-f0e110f3a69a\n",
    "    rstdict[\"更新序列号\"] = notebook.updateSequenceNum  # 8285\n",
    "    rstdict[\"默认笔记本\"]: bool = notebook.defaultNotebook  # False\n",
    "    # print(type(rstdict['默认笔记本']), rstdict['默认笔记本'])\n",
    "    if china := getcfpoptionvalue(\"everwork\", \"evernote\", \"china\"):\n",
    "        shijianchushu = 1\n",
    "    else:\n",
    "        shijianchushu = 1000\n",
    "    ntsct = notebook.serviceCreated / 1000\n",
    "    ntsut = notebook.serviceUpdated / 1000\n",
    "    # print(ntsct, ntsut, timestamp2str(ntsct), timestamp2str(ntsut))\n",
    "    rstdict[\"创建时间\"] = pd.to_datetime(timestamp2str(ntsct))  # 2010-09-15 11:37:43\n",
    "    rstdict[\"更新时间\"] = pd.to_datetime(timestamp2str(ntsut))  # 2016-08-29 19:38:24\n",
    "    rstdict[\"笔记本组\"] = notebook.stack  # 手机平板\n",
    "\n",
    "    # print('发布中\\t', notebook.publishing)     # 这种权限的调用返回None\n",
    "    # print('发布过\\t', notebook.published)      # 这种权限的调用返回None\n",
    "\n",
    "    # print '共享笔记本id\\t', notebook.sharedNotebookIds  #这种权限的调用返回None\n",
    "    # print '共享笔记本\\t', notebook.sharedNotebooks  #这种权限的调用返回None\n",
    "    # print '商务笔记本\\t', notebook.businessNotebook  #这种权限的调用返回None\n",
    "    # print '联系人\\t', notebook.contact  #这种权限的调用返回None\n",
    "    # print '限定\\t', notebook.restrictions  #NotebookRestrictions(noSetDefaultNotebook=None,\n",
    "    # noPublishToBusinessLibrary=True, noCreateTags=None, noUpdateNotes=None,\n",
    "    # expungeWhichSharedNotebookRestrictions=None,\n",
    "    # noExpungeTags=None, noSetNotebookStack=None, noCreateSharedNotebooks=None, noExpungeNotebook=None,\n",
    "    # noUpdateTags=None, noPublishToPublic=None, noUpdateNotebook=None, updateWhichSharedNotebookRestrictions=None,\n",
    "    # noSetParentTag=None, noCreateNotes=None, noEmailNotes=True, noReadNotes=None, noExpungeNotes=None,\n",
    "    # noShareNotes=None, noSendMessageToRecipients=None)\n",
    "    # print '接受人设定\\t', notebook.recipientSettings  #这种权限的调用没有返回这个值，报错\n",
    "\n",
    "    # print(rstdict)\n",
    "\n",
    "    return rstdict"
   ]
  },
  {
   "cell_type": "markdown",
   "id": "996edb94",
   "metadata": {
    "lines_to_next_cell": 2
   },
   "source": [
    "### def p_noteattributeundertoken(note):"
   ]
  },
  {
   "cell_type": "code",
   "execution_count": null,
   "id": "7df32de2",
   "metadata": {
    "lines_to_next_cell": 2
   },
   "outputs": [],
   "source": [
    "def p_noteattributeundertoken(note):\n",
    "    \"\"\"\n",
    "    测试笔记（note）数据结构每个属性的返回值,通过findNotesMetadata函数获取，开发口令（token）的方式调用返回如下:\n",
    "    :param note:\n",
    "    :return:\n",
    "    \"\"\"\n",
    "    print(\"guid\\t%s\" % note.guid)  #\n",
    "    print(\"标题\\t%s\" % note.title)  #\n",
    "    print(f\"内容长度\\t{note.contentLength}\")  # 762\n",
    "    # 这种权限的调用没有返回这个值，报错；NoteStore.getNoteContent()也无法解析\n",
    "    print(\"内容\\t\" + note.content)\n",
    "    print(\"内容哈希值\\t%s\" % note.contentHash)  # 8285\n",
    "    if note.created:\n",
    "        # 2017-09-04 22:39:51\n",
    "        print(\"创建时间\\t%s\" % timestamp2str(int(note.created / 1000)))\n",
    "    if note.updated:\n",
    "        # 2017-09-07 06:38:47\n",
    "        print(\"更新时间\\t%s\" % timestamp2str(int(note.updated / 1000)))\n",
    "    if note.deleted:\n",
    "        print(\"删除时间\\t%s\" % note.deleted)  # 这种权限的调用返回None\n",
    "    print(\"活跃\\t%s\" % note.active)  # True\n",
    "    if note.updateSequenceNum:\n",
    "        print(\"更新序列号\\t%d\" % note.updateSequenceNum)  # 173514\n",
    "    # 2c8e97b5-421f-461c-8e35-0f0b1a33e91c\n",
    "    print(\"所在笔记本的guid\\t%s\" % note.notebookGuid)\n",
    "    print(\"标签的guid\\t%s\" % note.tagGuids)  # 这种权限的调用返回None\n",
    "    print(\"资源表\\t%s\" % note.resources)  # 这种权限的调用返回None\n",
    "    print(\"属性\\t%s\" % note.attributes)\n",
    "    # NoteAttributes(lastEditorId=139947593, placeName=None, sourceURL=None, classifications=None,\n",
    "    # creatorId=139947593, author=None, reminderTime=None, altitude=0.0, reminderOrder=None, shareDate=None,\n",
    "    # reminderDoneTime=None, longitude=114.293, lastEditedBy='\\xe5\\x91\\xa8\\xe8\\x8e\\x89 <305664756@qq.com>',\n",
    "    # source='mobile.android', applicationData=None, sourceApplication=None, latitude=30.4722, contentClass=None,\n",
    "    # subjectDate=None)\n",
    "    print(\"标签名称表\\t%s\" % note.tagNames)  # 这种权限的调用返回None\n",
    "    # print ('共享的笔记表\\t%s' % note.sharedNotes)\n",
    "    # 这种权限的调用没有返回这个值，报错AttributeError: 'Note' object has no attribute 'sharedNotes'\n",
    "    # print ('限定\\t%s' % note.restrictions)\n",
    "    # 这种权限的调用没有返回这个值，报错AttributeError: 'Note' object has no attribute 'restrictions'\n",
    "    # print ('范围\\t%s' % note.limits) #这种权限的调用没有返回这个值，报错AttributeError: 'Note' object has no attribute 'limits'"
   ]
  },
  {
   "cell_type": "markdown",
   "id": "3e16c863",
   "metadata": {
    "lines_to_next_cell": 2
   },
   "source": [
    "### def findnotebookfromevernote(ntname=None):"
   ]
  },
  {
   "cell_type": "code",
   "execution_count": null,
   "id": "b7862e64",
   "metadata": {
    "lines_to_next_cell": 2
   },
   "outputs": [],
   "source": [
    "def findnotebookfromevernote(ntname=None):\n",
    "    \"\"\"\n",
    "    列出所有笔记本\n",
    "    :return: rstdf，\n",
    "    DataFrame格式，dtypes\n",
    "    创建时间     datetime64[ns]\n",
    "    名称               object\n",
    "    更新序列号           float64\n",
    "    更新时间     datetime64[ns]\n",
    "    笔记本组             object\n",
    "    默认笔记本              bool\n",
    "    dtype: object\n",
    "    \"\"\"\n",
    "    global note_store\n",
    "    note_store = get_notestore()\n",
    "    notebooks = note_store.listNotebooks()\n",
    "    # p_notebookattributeundertoken(notebooks[-1])\n",
    "\n",
    "    rstdf = pd.DataFrame()\n",
    "    for x in notebooks:\n",
    "        # rstdf = rstdf.append(pd.Series(p_notebookattributeundertoken(x)), ignore_index=True)\n",
    "        ds = pd.Series(p_notebookattributeundertoken(x))\n",
    "        ds1 = ds.to_frame()\n",
    "        if rstdf.shape[0] == 0:\n",
    "            rstdf = ds1.T\n",
    "        else:\n",
    "            rstdf = pd.concat([rstdf, pd.DataFrame(ds1.values.T, columns=ds1.index)], ignore_index=True)\n",
    "\n",
    "    # print(rstdf)\n",
    "\n",
    "    rstdf[\"默认笔记本\"] = rstdf[\"默认笔记本\"].astype(bool)\n",
    "    rstdf.set_index(\"guid\", inplace=True)\n",
    "\n",
    "    if ntname is not None:\n",
    "        rstdf = rstdf[rstdf.名称 == ntname]\n",
    "\n",
    "    return rstdf"
   ]
  },
  {
   "cell_type": "markdown",
   "id": "2c51e122",
   "metadata": {
    "lines_to_next_cell": 2
   },
   "source": [
    "### expungenotes(inputguidlst)"
   ]
  },
  {
   "cell_type": "code",
   "execution_count": null,
   "id": "77722987",
   "metadata": {
    "lines_to_next_cell": 2
   },
   "outputs": [],
   "source": [
    "def expungenotes(inputguidlst):\n",
    "    \"\"\"\n",
    "    删除传入的笔记列表\n",
    "    \"\"\"\n",
    "\n",
    "    @trycounttimes2(\"evernote服务器，删除笔记\", maxtimes=8)\n",
    "    def innerexpungenote(intoken, nost, guid):\n",
    "        evernoteapijiayi()\n",
    "        nost.expungeNote(intoken, guid)\n",
    "        return True\n",
    "\n",
    "    token = gettoken()\n",
    "    nost = get_notestore()\n",
    "    for son in inputguidlst:\n",
    "        log.info(\"\\t\".join([f\"（{inputguidlst.index(son) + 1}/{len(inputguidlst)}）\", son[0], son[1]]))\n",
    "        if done := innerexpungenote(token, nost, son[0]):\n",
    "            log.info(\n",
    "                \"\\t\".join([f\"（{inputguidlst.index(son) + 1}/{len(inputguidlst)}）\", son[0], son[1], \"\\t成功删除^_^\"])\n",
    "            )\n",
    "        else:\n",
    "            log.critical(\n",
    "                \"\\t\".join(\n",
    "                    [f\"（{inputguidlst.index(son) + 1}/{len(inputguidlst)}）\", son[0], son[1], \"\\t未能删除！！！\"]\n",
    "                )\n",
    "            )"
   ]
  },
  {
   "cell_type": "markdown",
   "id": "ed995df5",
   "metadata": {
    "lines_to_next_cell": 2
   },
   "source": [
    "### expungetrash()"
   ]
  },
  {
   "cell_type": "code",
   "execution_count": null,
   "id": "eb9b8020",
   "metadata": {
    "lines_to_next_cell": 2
   },
   "outputs": [],
   "source": [
    "def expungetrash(times=10):\n",
    "    @trycounttimes2(\"evernote服务器，清空垃圾篓\", maxtimes=times)\n",
    "    def innerexpungetrash():\n",
    "        token = gettoken()\n",
    "        evernoteapijiayi()\n",
    "        nost.expungeInactiveNotes(token)\n",
    "        return True\n",
    "\n",
    "    log.info(\"开始清空垃圾篓……\")\n",
    "    if done := innerexpungetrash():\n",
    "        log.info(\"垃圾篓成功清空^_^\")\n",
    "    else:\n",
    "        log.critical(\"垃圾篓清空失败！！！\")"
   ]
  },
  {
   "cell_type": "markdown",
   "id": "7de303b9",
   "metadata": {
    "lines_to_next_cell": 2
   },
   "source": [
    "### expungenotescontainkey(qukw=\"区$\", titlekw=\"图表\")"
   ]
  },
  {
   "cell_type": "code",
   "execution_count": null,
   "id": "d2132ea6",
   "metadata": {
    "lines_to_next_cell": 2
   },
   "outputs": [],
   "source": [
    "def expungenotescontainkey(qukw=\"区$\", titlekw=\"图表\"):\n",
    "    \"\"\"\n",
    "    删除指定关键词笔记本中标题包含指定关键词的笔记\n",
    "    \"\"\"\n",
    "    # 避免循环导入，在函数体内import\n",
    "    from func.wrapfuncs import timethis\n",
    "\n",
    "    @timethis\n",
    "    def sonexpungenotescontainkey(qukw, titlekw):\n",
    "        ntdf = findnotebookfromevernote()\n",
    "        tgds = ntdf[ntdf[\"名称\"].str.contains(qukw)][\"名称\"]\n",
    "        ntlst = [[v, k] for (k, v) in dict(tgds).items()]\n",
    "\n",
    "        for nt in ntlst[::-1]:\n",
    "            # 真元销售，分区，图表\n",
    "            findnoteguidlst = findnotefromnotebook(nt[1], titlefind=titlekw, notecount=30)\n",
    "            findnoteguidlst = [x for x in findnoteguidlst if len(x[1]) != (len(nt[0]) + 4)]\n",
    "            if len(findnoteguidlst) == 0:\n",
    "                log.info(f\"笔记本《{nt[0]}》中没有找到符合规则的笔记，跳过！！！\")\n",
    "                continue\n",
    "            log.info(\n",
    "                f\"开始删除【{ntlst.index(nt) + 1}/{len(ntlst)}】笔记本《{nt[0]}》中的笔记，共有{len(findnoteguidlst)}条………………………………\"\n",
    "            )\n",
    "            expungenotes(findnoteguidlst)\n",
    "            expungetrash(times=11)\n",
    "            log.info(\n",
    "                f\"【{ntlst.index(nt) + 1}/{len(ntlst)}】笔记本《{nt[0]}》中符合规则的笔记共有{len(findnoteguidlst)}条，处理完毕！\"\n",
    "            )\n",
    "\n",
    "    sonexpungenotescontainkey(qukw, titlekw)"
   ]
  },
  {
   "cell_type": "markdown",
   "id": "d1f2d8e7",
   "metadata": {
    "lines_to_next_cell": 2
   },
   "source": [
    "token = getcfpoptionvalue('everwork', 'evernote', 'token')\n",
    "print(token)\n",
    "ENtimes, ENAPIlasttime = enapistartlog()\n",
    "evernoteapiclearatzero()"
   ]
  },
  {
   "cell_type": "markdown",
   "id": "a422ac7a",
   "metadata": {},
   "source": [
    "# 主函数"
   ]
  },
  {
   "cell_type": "code",
   "execution_count": null,
   "id": "c8148cbb",
   "metadata": {},
   "outputs": [],
   "source": [
    "if __name__ == \"__main__\":\n",
    "    if not_IPython():\n",
    "        log.info(f\"开始运行文件\\t{__file__}……\")\n",
    "    print(\"I'm here now\")\n",
    "    if not_IPython():\n",
    "        log.info(f\"完成文件{__file__}\\t的运行\")"
   ]
  }
 ],
 "metadata": {
  "jupytext": {
   "cell_metadata_filter": "-all",
   "encoding": "# encoding:utf-8",
   "formats": "ipynb,py:percent",
   "main_language": "python",
   "notebook_metadata_filter": "jupytext,-kernelspec,-jupytext.text_representation.jupytext_version"
  }
 },
 "nbformat": 4,
 "nbformat_minor": 5
}
