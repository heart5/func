{
 "cells": [
  {
   "cell_type": "markdown",
   "id": "b9329426",
   "metadata": {},
   "source": [
    "# 构建日志\n",
    "\n",
    "格式化日志输出内容，限定每个日志文件大小为1M，在25个日志文件内循环"
   ]
  },
  {
   "cell_type": "markdown",
   "id": "ceb1d84d",
   "metadata": {},
   "source": [
    "## 引入库"
   ]
  },
  {
   "cell_type": "code",
   "execution_count": 1,
   "id": "8e9bfd1c",
   "metadata": {},
   "outputs": [],
   "source": [
    "import logging as lg\n",
    "import logging.handlers as lgh\n",
    "import os\n",
    "from pathlib import Path"
   ]
  },
  {
   "cell_type": "code",
   "execution_count": 2,
   "id": "1bdf8590",
   "metadata": {},
   "outputs": [
    {
     "name": "stdout",
     "output_type": "stream",
     "text": [
      "中文字体路径/usr/share/fonts/simhei.ttf存在\n"
     ]
    }
   ],
   "source": [
    "import pathmagic\n",
    "\n",
    "with pathmagic.context():\n",
    "    from func.first import dirlog, touchfilepath2depth"
   ]
  },
  {
   "cell_type": "markdown",
   "id": "1572250e",
   "metadata": {},
   "source": [
    "## 函数集中营"
   ]
  },
  {
   "cell_type": "markdown",
   "id": "1149bec1",
   "metadata": {},
   "source": [
    "### mylog(dirlog)"
   ]
  },
  {
   "cell_type": "code",
   "execution_count": 3,
   "id": "347f5b27",
   "metadata": {},
   "outputs": [],
   "source": [
    "def mylog(dirlog: Path) -> lg.Logger:\n",
    "    \"\"\"日志函数，定义输出文件和格式等内容.\n",
    "\n",
    "    :returns    返回log对象.\n",
    "    \"\"\"\n",
    "    loghj = lg.getLogger(\"hjer\")\n",
    "    touchfilepath2depth(dirlog)\n",
    "    loghandler = lgh.RotatingFileHandler(\n",
    "        str(dirlog),\n",
    "        encoding=\"utf-8\",\n",
    "        # 此处指定log文件的编码方式，否则可能乱码\n",
    "        maxBytes=1024 * 1024,\n",
    "        backupCount=23,\n",
    "    )\n",
    "    formats = lg.Formatter(\n",
    "        \"%(asctime)s\\t%(filename)s - [%(funcName)s]\\t%(levelname)s: %(message)s\",\n",
    "        datefmt=\"%Y-%m-%d %H:%M:%S\",\n",
    "    )\n",
    "    loghandler.setFormatter(formats)\n",
    "    loghj.setLevel(lg.DEBUG)\n",
    "    loghj.addHandler(loghandler)\n",
    "\n",
    "    ################################################################################################\n",
    "    # 定义一个StreamHandler，将INFO级别或更高的日志信息打印到标准错误，并将其添加到当前的日志处理对象#\n",
    "    console = lg.StreamHandler()\n",
    "    console.setLevel(lg.DEBUG)\n",
    "    formatter = lg.Formatter(\n",
    "        \"%(asctime)s\\t%(threadName)s - %(thread)d , %(processName)s - %(process)d: %(levelname)-8s %(message)s\"\n",
    "    )\n",
    "    console.setFormatter(formatter)\n",
    "    lg.getLogger().addHandler(console)\n",
    "    # logew.addHandler(console)\n",
    "    ################################################################################################\n",
    "\n",
    "    return loghj"
   ]
  },
  {
   "cell_type": "code",
   "execution_count": 4,
   "id": "04db2dcd",
   "metadata": {},
   "outputs": [],
   "source": [
    "log = mylog(Path(dirlog))"
   ]
  },
  {
   "cell_type": "code",
   "execution_count": 6,
   "id": "d71620b4",
   "metadata": {},
   "outputs": [
    {
     "name": "stderr",
     "output_type": "stream",
     "text": [
      "2025-09-12 18:12:49,736\tMainThread - 140627890323584 , MainProcess - 18969: INFO     测试func下的log，主要看路径\n"
     ]
    },
    {
     "name": "stdout",
     "output_type": "stream",
     "text": [
      "/config/codebase/happyjoplin/func\n",
      "[<RotatingFileHandler /config/codebase/happyjoplin/log/happyjoplin.log (NOTSET)>]\n"
     ]
    }
   ],
   "source": [
    "if __name__ == \"__main__\":\n",
    "    cwd = os.getcwd()\n",
    "    print(cwd)\n",
    "    print(log.handlers)\n",
    "    log.info(\"测试func下的log，主要看路径\")"
   ]
  }
 ],
 "metadata": {
  "jupytext": {
   "cell_metadata_filter": "-all",
   "encoding": "# encoding:utf-8",
   "formats": "ipynb,py:percent",
   "main_language": "python",
   "notebook_metadata_filter": "jupytext,-kernelspec,-jupytext.text_representation.jupytext_version"
  },
  "kernelspec": {
   "display_name": "venv",
   "language": "python",
   "name": "python3"
  },
  "language_info": {
   "codemirror_mode": {
    "name": "ipython",
    "version": 3
   },
   "file_extension": ".py",
   "mimetype": "text/x-python",
   "name": "python",
   "nbconvert_exporter": "python",
   "pygments_lexer": "ipython3",
   "version": "3.12.3"
  }
 },
 "nbformat": 4,
 "nbformat_minor": 5
}
